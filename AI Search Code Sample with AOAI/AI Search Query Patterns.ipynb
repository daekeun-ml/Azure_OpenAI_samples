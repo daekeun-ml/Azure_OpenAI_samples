{
 "cells": [
  {
   "cell_type": "markdown",
   "metadata": {},
   "source": [
    "# Azure AI Search Query Patterns\n",
    "Azure OpenAI 와 Azure AI Search Python client library 기반의 Azure AI Search 다양한 검색 방식에 대한 Code Sample 입니다. forked from [https://github.com/Azure/azure-search-vector-samples]\n",
    "\n",
    "## Prerequisites\n",
    "3.10 또는 이후 버전의 Python 가상 환경을 구성합니다 : \n",
    " 1. 명령 Palette를 엽니다 (Ctrl+Shift+P).\n",
    " 1. Python을 검색합니다: Create Environment를 선택합니다.\n",
    " 1. Venv / Conda를 선택하고 새 환경을 만들 위치를 선택합니다.\n",
    " 1. Python interpreter 버전을 선택합니다. 3.10 이상의 버전으로 생성합니다.\n",
    "\n",
    "디펜던시 설치를 위해 아래 코드를 실행하여 실행에 필요한 package들을 설치하세요. \n",
    "\n",
    "```bash\n",
    "pip install -r requirements.txt\n",
    "```\n",
    "\n",
    "## Set up your environment\n",
    "현재의 repository를 Clone 하세요. \n",
    "\n",
    "```bash\n",
    "git clone https://github.com/hyogrin/Azure_OpenAI_samples.git\n",
    "```\n",
    "\n",
    ".env-sample 파일을 기반으로 .env 파일을 만듭니다. 새 .env 파일을 노트북이 들어 있는 폴더에 복사하고 변수를 업데이트합니다."
   ]
  },
  {
   "cell_type": "markdown",
   "metadata": {
    "vscode": {
     "languageId": "shellscript"
    }
   },
   "source": []
  },
  {
   "cell_type": "markdown",
   "metadata": {},
   "source": [
    "## Import required libraries and environment variables"
   ]
  },
  {
   "cell_type": "code",
   "execution_count": 19,
   "metadata": {},
   "outputs": [],
   "source": [
    "import os\n",
    "import json\n",
    "from openai import AzureOpenAI\n",
    "import sys\n",
    "import pandas as pd\n",
    "import tiktoken\n",
    "\n",
    "from dotenv import load_dotenv\n",
    "\n",
    "from azure.core.credentials import AzureKeyCredential\n",
    "from azure.search.documents import SearchClient\n",
    "from azure.search.documents.indexes import SearchIndexClient\n",
    "from azure.search.documents.models import VectorizableTextQuery\n",
    "from azure.search.documents.indexes.models import (\n",
    "    SimpleField,\n",
    "    SearchField,\n",
    "    SearchFieldDataType,\n",
    "    VectorSearch,\n",
    "    HnswAlgorithmConfiguration,\n",
    "    VectorSearchProfile,\n",
    "    AzureOpenAIVectorizer,\n",
    "    AzureOpenAIParameters,\n",
    "    SemanticConfiguration,\n",
    "    SemanticSearch,\n",
    "    SemanticPrioritizedFields,\n",
    "    SemanticField,\n",
    "    SearchIndex\n",
    ")\n",
    "\n",
    "from tenacity import retry, wait_random_exponential, stop_after_attempt"
   ]
  },
  {
   "cell_type": "code",
   "execution_count": 20,
   "metadata": {},
   "outputs": [
    {
     "data": {
      "text/plain": [
       "'3.11.10 (main, Oct  3 2024, 07:29:13) [GCC 11.2.0]'"
      ]
     },
     "execution_count": 20,
     "metadata": {},
     "output_type": "execute_result"
    }
   ],
   "source": [
    "sys.version"
   ]
  },
  {
   "cell_type": "code",
   "execution_count": 21,
   "metadata": {},
   "outputs": [],
   "source": [
    "# Configure environment variables\n",
    "load_dotenv()\n",
    "index_name = \"quickdemo\"\n",
    "MAX_RETRIES = 3\n",
    "search_endpoint = os.getenv(\"AZURE_SEARCH_ENDPOINT\")\n",
    "key = os.getenv(\"AZURE_SEARCH_API_KEY\")\n",
    "\n",
    "\n",
    "client = AzureOpenAI(\n",
    "    azure_endpoint = os.getenv(\"AZURE_OPENAI_ENDPOINT\"),        # Azure OpenAI base URL\n",
    "    api_key        = os.getenv(\"AZURE_OPENAI_API_KEY\"),\n",
    "    api_version    = os.getenv(\"AZURE_OPENAI_API_VERSION\"),\n",
    "    max_retries    = MAX_RETRIES\n",
    ")\n",
    "\n",
    "deployment_name = os.getenv(\"AZURE_OPENAI_DEPLOYMENT\")\n",
    "deployment_embedding_name = os.getenv(\"AZURE_OPENAI_EMBEDDING_DEPLOYMENT\")\n",
    "\n",
    "credential = AzureKeyCredential(key)"
   ]
  },
  {
   "cell_type": "markdown",
   "metadata": {},
   "source": [
    "## Create embeddings\n",
    "- 데이터를 읽고, OpenAI 임베딩을 생성하고, 유효한 형식으로 내보내서 Azure AI Search 인덱스를 삽입합니다"
   ]
  },
  {
   "cell_type": "code",
   "execution_count": 22,
   "metadata": {},
   "outputs": [
    {
     "name": "stdout",
     "output_type": "stream",
     "text": [
      "ls: cannot access 'text-sample.json': No such file or directory\n"
     ]
    }
   ],
   "source": [
    "!ls text-sample.json -lh"
   ]
  },
  {
   "cell_type": "code",
   "execution_count": 23,
   "metadata": {},
   "outputs": [],
   "source": [
    "# Generate Document Embeddings using OpenAI Ada 002\n",
    "\n",
    "# Read the text-sample.json\n",
    "# with open(\"text-sample.json\", \"r\", encoding=\"utf-8\") as file:\n",
    "#     input_data = json.load(file)\n",
    "\n",
    "df_input_data = pd.read_json(os.path.join(os.getcwd(),'data/text-sample.json'))    "
   ]
  },
  {
   "cell_type": "code",
   "execution_count": 24,
   "metadata": {},
   "outputs": [],
   "source": [
    "#pd.options.mode.chained_assignment = None #https://pandas.pydata.org/pandas-docs/stable/user_guide/indexing.html#evaluation-order-matters\n",
    "\n",
    "# s is input text\n",
    "def normalize_text(s, sep_token = \" \\n \"):\n",
    "    s = re.sub(r'\\s+',  ' ', s).strip()\n",
    "    s = re.sub(r\". ,\",\"\",s)\n",
    "    # remove all instances of multiple spaces\n",
    "    s = s.replace(\"..\",\".\")\n",
    "    s = s.replace(\". .\",\".\")\n",
    "    s = s.replace(\"\\n\", \"\")\n",
    "    s = s.strip()\n",
    "    \n",
    "    return s\n",
    "\n",
    "df_input_data['content']= df_input_data[\"content\"].apply(lambda x : normalize_text(x))"
   ]
  },
  {
   "cell_type": "markdown",
   "metadata": {},
   "source": [
    "- Azure OpenAI에서 제공하는 Embedding API를 활용하기 위해 문서에서 Text 길이가 8,192 토큰이 넘지 않는 문서를 확인합니다"
   ]
  },
  {
   "cell_type": "code",
   "execution_count": 25,
   "metadata": {},
   "outputs": [
    {
     "data": {
      "text/html": [
       "<div>\n",
       "<style scoped>\n",
       "    .dataframe tbody tr th:only-of-type {\n",
       "        vertical-align: middle;\n",
       "    }\n",
       "\n",
       "    .dataframe tbody tr th {\n",
       "        vertical-align: top;\n",
       "    }\n",
       "\n",
       "    .dataframe thead th {\n",
       "        text-align: right;\n",
       "    }\n",
       "</style>\n",
       "<table border=\"1\" class=\"dataframe\">\n",
       "  <thead>\n",
       "    <tr style=\"text-align: right;\">\n",
       "      <th></th>\n",
       "      <th>id</th>\n",
       "      <th>title</th>\n",
       "      <th>content</th>\n",
       "      <th>category</th>\n",
       "      <th>n_tokens</th>\n",
       "    </tr>\n",
       "  </thead>\n",
       "  <tbody>\n",
       "    <tr>\n",
       "      <th>0</th>\n",
       "      <td>1</td>\n",
       "      <td>Azure App Service</td>\n",
       "      <td>Azure App Service is a fully managed platform ...</td>\n",
       "      <td>Web</td>\n",
       "      <td>93</td>\n",
       "    </tr>\n",
       "    <tr>\n",
       "      <th>1</th>\n",
       "      <td>2</td>\n",
       "      <td>Azure Functions</td>\n",
       "      <td>Azure Functions is a serverless compute servic...</td>\n",
       "      <td>Compute</td>\n",
       "      <td>85</td>\n",
       "    </tr>\n",
       "    <tr>\n",
       "      <th>2</th>\n",
       "      <td>3</td>\n",
       "      <td>Azure Cognitive Services</td>\n",
       "      <td>Azure Cognitive Services are a set of AI servi...</td>\n",
       "      <td>AI + Machine Learning</td>\n",
       "      <td>91</td>\n",
       "    </tr>\n",
       "    <tr>\n",
       "      <th>3</th>\n",
       "      <td>4</td>\n",
       "      <td>Azure Storage</td>\n",
       "      <td>Azure Storage is a scalable, durable, and high...</td>\n",
       "      <td>Storage</td>\n",
       "      <td>95</td>\n",
       "    </tr>\n",
       "    <tr>\n",
       "      <th>4</th>\n",
       "      <td>5</td>\n",
       "      <td>Azure SQL Database</td>\n",
       "      <td>Azure SQL Database is a fully managed relation...</td>\n",
       "      <td>Databases</td>\n",
       "      <td>93</td>\n",
       "    </tr>\n",
       "    <tr>\n",
       "      <th>...</th>\n",
       "      <td>...</td>\n",
       "      <td>...</td>\n",
       "      <td>...</td>\n",
       "      <td>...</td>\n",
       "      <td>...</td>\n",
       "    </tr>\n",
       "    <tr>\n",
       "      <th>103</th>\n",
       "      <td>104</td>\n",
       "      <td>Azure Site Recovery</td>\n",
       "      <td>Azure Site Recovery is a fully managed, disast...</td>\n",
       "      <td>Management + Governance</td>\n",
       "      <td>103</td>\n",
       "    </tr>\n",
       "    <tr>\n",
       "      <th>104</th>\n",
       "      <td>105</td>\n",
       "      <td>Azure Web PubSub</td>\n",
       "      <td>Azure Web PubSub is a fully managed, real-time...</td>\n",
       "      <td>Web</td>\n",
       "      <td>100</td>\n",
       "    </tr>\n",
       "    <tr>\n",
       "      <th>105</th>\n",
       "      <td>106</td>\n",
       "      <td>Azure Data Factory</td>\n",
       "      <td>Azure Data Factory is a cloud-based data integ...</td>\n",
       "      <td>Analytics</td>\n",
       "      <td>108</td>\n",
       "    </tr>\n",
       "    <tr>\n",
       "      <th>106</th>\n",
       "      <td>107</td>\n",
       "      <td>Azure Data Bricks</td>\n",
       "      <td>Azure Data Bricks is a fully managed, Apache S...</td>\n",
       "      <td>Analytics</td>\n",
       "      <td>110</td>\n",
       "    </tr>\n",
       "    <tr>\n",
       "      <th>107</th>\n",
       "      <td>108</td>\n",
       "      <td>Azure Bastion</td>\n",
       "      <td>Azure Bastion is a fully managed, secure, and ...</td>\n",
       "      <td>Security</td>\n",
       "      <td>106</td>\n",
       "    </tr>\n",
       "  </tbody>\n",
       "</table>\n",
       "<p>108 rows × 5 columns</p>\n",
       "</div>"
      ],
      "text/plain": [
       "      id                     title  \\\n",
       "0      1         Azure App Service   \n",
       "1      2           Azure Functions   \n",
       "2      3  Azure Cognitive Services   \n",
       "3      4             Azure Storage   \n",
       "4      5        Azure SQL Database   \n",
       "..   ...                       ...   \n",
       "103  104       Azure Site Recovery   \n",
       "104  105          Azure Web PubSub   \n",
       "105  106        Azure Data Factory   \n",
       "106  107         Azure Data Bricks   \n",
       "107  108             Azure Bastion   \n",
       "\n",
       "                                               content  \\\n",
       "0    Azure App Service is a fully managed platform ...   \n",
       "1    Azure Functions is a serverless compute servic...   \n",
       "2    Azure Cognitive Services are a set of AI servi...   \n",
       "3    Azure Storage is a scalable, durable, and high...   \n",
       "4    Azure SQL Database is a fully managed relation...   \n",
       "..                                                 ...   \n",
       "103  Azure Site Recovery is a fully managed, disast...   \n",
       "104  Azure Web PubSub is a fully managed, real-time...   \n",
       "105  Azure Data Factory is a cloud-based data integ...   \n",
       "106  Azure Data Bricks is a fully managed, Apache S...   \n",
       "107  Azure Bastion is a fully managed, secure, and ...   \n",
       "\n",
       "                    category  n_tokens  \n",
       "0                        Web        93  \n",
       "1                    Compute        85  \n",
       "2      AI + Machine Learning        91  \n",
       "3                    Storage        95  \n",
       "4                  Databases        93  \n",
       "..                       ...       ...  \n",
       "103  Management + Governance       103  \n",
       "104                      Web       100  \n",
       "105                Analytics       108  \n",
       "106                Analytics       110  \n",
       "107                 Security       106  \n",
       "\n",
       "[108 rows x 5 columns]"
      ]
     },
     "execution_count": 25,
     "metadata": {},
     "output_type": "execute_result"
    }
   ],
   "source": [
    "tokenizer = tiktoken.get_encoding(\"cl100k_base\")\n",
    "df_input_data['n_tokens'] = df_input_data[\"content\"].apply(lambda x: len(tokenizer.encode(x)))\n",
    "df_input_data = df_input_data[df_input_data.n_tokens<8192]\n",
    "len(df_input_data)\n",
    "df_input_data"
   ]
  },
  {
   "cell_type": "markdown",
   "metadata": {},
   "source": [
    "- 확인을 완료 한 뒤 필요 없어진 column을 삭제하고, Azure AI Search에 삽입하기 위해 데이터를 저장합니다. "
   ]
  },
  {
   "cell_type": "code",
   "execution_count": 26,
   "metadata": {},
   "outputs": [],
   "source": [
    "df_input_data = df_input_data.drop('n_tokens', axis=1)"
   ]
  },
  {
   "cell_type": "code",
   "execution_count": 27,
   "metadata": {},
   "outputs": [],
   "source": [
    "# Generate Document Embeddings using OpenAI Ada 002\n",
    "@retry(wait=wait_random_exponential(min=1, max=20), stop=stop_after_attempt(6))\n",
    "# Function to generate embeddings for title and content fields, also used for query embeddings\n",
    "def get_embedding(text, model=deployment_embedding_name): # model = \"deployment_name\"\n",
    "    return client.embeddings.create(input = [text], model=model).data[0].embedding"
   ]
  },
  {
   "cell_type": "code",
   "execution_count": 28,
   "metadata": {},
   "outputs": [
    {
     "data": {
      "text/html": [
       "<div>\n",
       "<style scoped>\n",
       "    .dataframe tbody tr th:only-of-type {\n",
       "        vertical-align: middle;\n",
       "    }\n",
       "\n",
       "    .dataframe tbody tr th {\n",
       "        vertical-align: top;\n",
       "    }\n",
       "\n",
       "    .dataframe thead th {\n",
       "        text-align: right;\n",
       "    }\n",
       "</style>\n",
       "<table border=\"1\" class=\"dataframe\">\n",
       "  <thead>\n",
       "    <tr style=\"text-align: right;\">\n",
       "      <th></th>\n",
       "      <th>id</th>\n",
       "      <th>title</th>\n",
       "      <th>content</th>\n",
       "      <th>category</th>\n",
       "      <th>titleVector</th>\n",
       "      <th>contentVector</th>\n",
       "    </tr>\n",
       "  </thead>\n",
       "  <tbody>\n",
       "    <tr>\n",
       "      <th>0</th>\n",
       "      <td>1</td>\n",
       "      <td>Azure App Service</td>\n",
       "      <td>Azure App Service is a fully managed platform ...</td>\n",
       "      <td>Web</td>\n",
       "      <td>[-0.010541444644331932, -0.02157960645854473, ...</td>\n",
       "      <td>[0.007762514520436525, -0.023638280108571053, ...</td>\n",
       "    </tr>\n",
       "    <tr>\n",
       "      <th>1</th>\n",
       "      <td>2</td>\n",
       "      <td>Azure Functions</td>\n",
       "      <td>Azure Functions is a serverless compute servic...</td>\n",
       "      <td>Compute</td>\n",
       "      <td>[-0.010190718807280064, -0.005175409838557243,...</td>\n",
       "      <td>[-0.014527262188494205, -0.012572179548442364,...</td>\n",
       "    </tr>\n",
       "    <tr>\n",
       "      <th>2</th>\n",
       "      <td>3</td>\n",
       "      <td>Azure Cognitive Services</td>\n",
       "      <td>Azure Cognitive Services are a set of AI servi...</td>\n",
       "      <td>AI + Machine Learning</td>\n",
       "      <td>[-0.012722955085337162, -0.004301734268665314,...</td>\n",
       "      <td>[-0.016163231804966927, -0.0014309135731309652...</td>\n",
       "    </tr>\n",
       "    <tr>\n",
       "      <th>3</th>\n",
       "      <td>4</td>\n",
       "      <td>Azure Storage</td>\n",
       "      <td>Azure Storage is a scalable, durable, and high...</td>\n",
       "      <td>Storage</td>\n",
       "      <td>[-0.02305583469569683, -0.014231489039957523, ...</td>\n",
       "      <td>[-0.01971307024359703, -0.014362750574946404, ...</td>\n",
       "    </tr>\n",
       "    <tr>\n",
       "      <th>4</th>\n",
       "      <td>5</td>\n",
       "      <td>Azure SQL Database</td>\n",
       "      <td>Azure SQL Database is a fully managed relation...</td>\n",
       "      <td>Databases</td>\n",
       "      <td>[-0.010304322466254234, -0.00812271423637867, ...</td>\n",
       "      <td>[-0.0061157881282269955, -0.011781413108110428...</td>\n",
       "    </tr>\n",
       "    <tr>\n",
       "      <th>...</th>\n",
       "      <td>...</td>\n",
       "      <td>...</td>\n",
       "      <td>...</td>\n",
       "      <td>...</td>\n",
       "      <td>...</td>\n",
       "      <td>...</td>\n",
       "    </tr>\n",
       "    <tr>\n",
       "      <th>103</th>\n",
       "      <td>104</td>\n",
       "      <td>Azure Site Recovery</td>\n",
       "      <td>Azure Site Recovery is a fully managed, disast...</td>\n",
       "      <td>Management + Governance</td>\n",
       "      <td>[-0.0063414908945560455, -0.007637436036020517...</td>\n",
       "      <td>[-0.00913618691265583, -0.018338577821850777, ...</td>\n",
       "    </tr>\n",
       "    <tr>\n",
       "      <th>104</th>\n",
       "      <td>105</td>\n",
       "      <td>Azure Web PubSub</td>\n",
       "      <td>Azure Web PubSub is a fully managed, real-time...</td>\n",
       "      <td>Web</td>\n",
       "      <td>[-0.01065534446388483, -0.009444351308047771, ...</td>\n",
       "      <td>[-0.006847419310361147, -0.007372125517576933,...</td>\n",
       "    </tr>\n",
       "    <tr>\n",
       "      <th>105</th>\n",
       "      <td>106</td>\n",
       "      <td>Azure Data Factory</td>\n",
       "      <td>Azure Data Factory is a cloud-based data integ...</td>\n",
       "      <td>Analytics</td>\n",
       "      <td>[-0.01965930685400963, -0.01779160276055336, -...</td>\n",
       "      <td>[-0.028729742392897606, -0.021181656047701836,...</td>\n",
       "    </tr>\n",
       "    <tr>\n",
       "      <th>106</th>\n",
       "      <td>107</td>\n",
       "      <td>Azure Data Bricks</td>\n",
       "      <td>Azure Data Bricks is a fully managed, Apache S...</td>\n",
       "      <td>Analytics</td>\n",
       "      <td>[-0.011949058622121811, -0.014182858169078827,...</td>\n",
       "      <td>[-0.030274879187345505, -0.006946539506316185,...</td>\n",
       "    </tr>\n",
       "    <tr>\n",
       "      <th>107</th>\n",
       "      <td>108</td>\n",
       "      <td>Azure Bastion</td>\n",
       "      <td>Azure Bastion is a fully managed, secure, and ...</td>\n",
       "      <td>Security</td>\n",
       "      <td>[-0.008699290454387665, -0.025769079104065895,...</td>\n",
       "      <td>[-0.0122876251116395, -0.023018861189484596, 0...</td>\n",
       "    </tr>\n",
       "  </tbody>\n",
       "</table>\n",
       "<p>108 rows × 6 columns</p>\n",
       "</div>"
      ],
      "text/plain": [
       "      id                     title  \\\n",
       "0      1         Azure App Service   \n",
       "1      2           Azure Functions   \n",
       "2      3  Azure Cognitive Services   \n",
       "3      4             Azure Storage   \n",
       "4      5        Azure SQL Database   \n",
       "..   ...                       ...   \n",
       "103  104       Azure Site Recovery   \n",
       "104  105          Azure Web PubSub   \n",
       "105  106        Azure Data Factory   \n",
       "106  107         Azure Data Bricks   \n",
       "107  108             Azure Bastion   \n",
       "\n",
       "                                               content  \\\n",
       "0    Azure App Service is a fully managed platform ...   \n",
       "1    Azure Functions is a serverless compute servic...   \n",
       "2    Azure Cognitive Services are a set of AI servi...   \n",
       "3    Azure Storage is a scalable, durable, and high...   \n",
       "4    Azure SQL Database is a fully managed relation...   \n",
       "..                                                 ...   \n",
       "103  Azure Site Recovery is a fully managed, disast...   \n",
       "104  Azure Web PubSub is a fully managed, real-time...   \n",
       "105  Azure Data Factory is a cloud-based data integ...   \n",
       "106  Azure Data Bricks is a fully managed, Apache S...   \n",
       "107  Azure Bastion is a fully managed, secure, and ...   \n",
       "\n",
       "                    category  \\\n",
       "0                        Web   \n",
       "1                    Compute   \n",
       "2      AI + Machine Learning   \n",
       "3                    Storage   \n",
       "4                  Databases   \n",
       "..                       ...   \n",
       "103  Management + Governance   \n",
       "104                      Web   \n",
       "105                Analytics   \n",
       "106                Analytics   \n",
       "107                 Security   \n",
       "\n",
       "                                           titleVector  \\\n",
       "0    [-0.010541444644331932, -0.02157960645854473, ...   \n",
       "1    [-0.010190718807280064, -0.005175409838557243,...   \n",
       "2    [-0.012722955085337162, -0.004301734268665314,...   \n",
       "3    [-0.02305583469569683, -0.014231489039957523, ...   \n",
       "4    [-0.010304322466254234, -0.00812271423637867, ...   \n",
       "..                                                 ...   \n",
       "103  [-0.0063414908945560455, -0.007637436036020517...   \n",
       "104  [-0.01065534446388483, -0.009444351308047771, ...   \n",
       "105  [-0.01965930685400963, -0.01779160276055336, -...   \n",
       "106  [-0.011949058622121811, -0.014182858169078827,...   \n",
       "107  [-0.008699290454387665, -0.025769079104065895,...   \n",
       "\n",
       "                                         contentVector  \n",
       "0    [0.007762514520436525, -0.023638280108571053, ...  \n",
       "1    [-0.014527262188494205, -0.012572179548442364,...  \n",
       "2    [-0.016163231804966927, -0.0014309135731309652...  \n",
       "3    [-0.01971307024359703, -0.014362750574946404, ...  \n",
       "4    [-0.0061157881282269955, -0.011781413108110428...  \n",
       "..                                                 ...  \n",
       "103  [-0.00913618691265583, -0.018338577821850777, ...  \n",
       "104  [-0.006847419310361147, -0.007372125517576933,...  \n",
       "105  [-0.028729742392897606, -0.021181656047701836,...  \n",
       "106  [-0.030274879187345505, -0.006946539506316185,...  \n",
       "107  [-0.0122876251116395, -0.023018861189484596, 0...  \n",
       "\n",
       "[108 rows x 6 columns]"
      ]
     },
     "execution_count": 28,
     "metadata": {},
     "output_type": "execute_result"
    }
   ],
   "source": [
    "# model should be set to the deployment name you chose when you deployed the text-embedding-ada-002 (Version 2) model\n",
    "df_input_data['titleVector'] = df_input_data[\"title\"].apply(lambda x : get_embedding (x, model = deployment_embedding_name)) \n",
    "df_input_data['contentVector'] = df_input_data[\"content\"].apply(lambda x : get_embedding (x, model = deployment_embedding_name)) \n",
    "df_input_data"
   ]
  },
  {
   "cell_type": "code",
   "execution_count": 29,
   "metadata": {},
   "outputs": [],
   "source": [
    "df_input_data.to_csv(os.path.join(os.getcwd(),'data/embedding_input_data.csv'), index=False)"
   ]
  },
  {
   "cell_type": "markdown",
   "metadata": {},
   "source": [
    "## Create your search index\n",
    "Create your search index schema and vector search configuration:"
   ]
  },
  {
   "cell_type": "code",
   "execution_count": 42,
   "metadata": {},
   "outputs": [
    {
     "name": "stdout",
     "output_type": "stream",
     "text": [
      "quickdemo created\n"
     ]
    }
   ],
   "source": [
    "# Create a search index\n",
    "index_client = SearchIndexClient(endpoint=search_endpoint, credential=credential)\n",
    "fields = [\n",
    "    SearchField(name=\"id\", key=True, type=SearchFieldDataType.String, sortable=True, filterable=True, facetable=False),  \n",
    "    SearchField(name=\"title\", type=SearchFieldDataType.String, searchable=True),\n",
    "    SearchField(name=\"content\", type=SearchFieldDataType.String, searchable=True),\n",
    "    SearchField(name=\"content_ko\", type=SearchFieldDataType.String, searchable=True, analyzer_name=\"ko.lucene\"),\n",
    "    SearchField(name=\"category\", type=SearchFieldDataType.String, filterable=True),\n",
    "    SearchField(\n",
    "        name=\"titleVector\",\n",
    "        type=SearchFieldDataType.Collection(SearchFieldDataType.Single),\n",
    "        searchable=True,\n",
    "        vector_search_dimensions=1536,\n",
    "        vector_search_profile_name=\"myHnswProfile\",  # Ensure vector_search_profile is set\n",
    "    ),\n",
    "    SearchField(\n",
    "        name=\"contentVector\",\n",
    "        type=SearchFieldDataType.Collection(SearchFieldDataType.Single),\n",
    "        searchable=True,\n",
    "        vector_search_dimensions=1536,\n",
    "        vector_search_profile_name=\"myHnswProfile\",  # Ensure vector_search_profile is set\n",
    "    ),\n",
    "]\n",
    "# Configure the vector search configuration  \n",
    "vector_search = VectorSearch(  \n",
    "    algorithms=[  \n",
    "        HnswAlgorithmConfiguration(name=\"myHnsw\"),\n",
    "    ],  \n",
    "    profiles=[  \n",
    "        VectorSearchProfile(  \n",
    "            name=\"myHnswProfile\",  \n",
    "            algorithm_configuration_name=\"myHnsw\",  \n",
    "            vectorizer=\"myOpenAI\",  \n",
    "        )\n",
    "    ],  \n",
    "    vectorizers=[  \n",
    "        AzureOpenAIVectorizer(  \n",
    "            name=\"myOpenAI\",  \n",
    "            kind=\"azureOpenAI\",  \n",
    "            azure_open_ai_parameters=AzureOpenAIParameters(  \n",
    "                resource_uri=os.getenv(\"AZURE_OPENAI_ENDPOINT\"),  \n",
    "                deployment_id=deployment_embedding_name,\n",
    "                model_name=deployment_embedding_name,\n",
    "                api_key=os.getenv(\"AZURE_OPENAI_API_KEY\"),\n",
    "            ),\n",
    "        ),  \n",
    "    ],  \n",
    ")  \n",
    "\n",
    "\n",
    "  \n",
    "semantic_config = SemanticConfiguration(  \n",
    "    name=\"my-semantic-config\",  \n",
    "    prioritized_fields=SemanticPrioritizedFields(\n",
    "        title_field=SemanticField(field_name=\"title\"),\n",
    "        content_fields=[SemanticField(field_name=\"content\")]  \n",
    "    ),  \n",
    ")\n",
    "\n",
    "# Create the semantic search with the configuration  \n",
    "semantic_search = SemanticSearch(configurations=[semantic_config])  \n",
    "  \n",
    "# Create the search index\n",
    "index = SearchIndex(name=index_name, fields=fields, vector_search=vector_search, semantic_search=semantic_search)  \n",
    "result = index_client.create_or_update_index(index)  \n",
    "print(f\"{result.name} created\")  "
   ]
  },
  {
   "cell_type": "markdown",
   "metadata": {},
   "source": []
  },
  {
   "cell_type": "markdown",
   "metadata": {},
   "source": [
    "## Insert text and embeddings into vector store\n",
    "Add texts and metadata from the JSON data to the vector store:"
   ]
  },
  {
   "cell_type": "code",
   "execution_count": 43,
   "metadata": {},
   "outputs": [
    {
     "name": "stdout",
     "output_type": "stream",
     "text": [
      "Uploaded 108 documents\n"
     ]
    }
   ],
   "source": [
    "# Upload data_embeddings.csv to search_client.upload_documents to create the index \n",
    "ddocuments = df_input_data.to_dict(orient='records')\n",
    "for doc in documents:\n",
    "    doc['id'] = str(doc['id'])\n",
    "search_client = SearchClient(\n",
    "    endpoint=search_endpoint, index_name=index_name, credential=credential\n",
    ")\n",
    "result = search_client.upload_documents(documents)\n",
    "\n",
    "print(f\"Uploaded {len(documents)} documents\")"
   ]
  },
  {
   "cell_type": "markdown",
   "metadata": {},
   "source": [
    "## Perform a vector similarity search"
   ]
  },
  {
   "cell_type": "markdown",
   "metadata": {},
   "source": [
    "- 가장 basic한 vector similarity search를 수행합니다."
   ]
  },
  {
   "cell_type": "code",
   "execution_count": 44,
   "metadata": {},
   "outputs": [
    {
     "name": "stdout",
     "output_type": "stream",
     "text": [
      "Title: Azure Application Insights\n",
      "Score: 0.84255695\n",
      "Content: Azure Application Insights is an application performance management service that enables you to monitor, diagnose, and troubleshoot your applications and infrastructure. It provides features like real-time telemetry, dependency mapping, and live metrics. Application Insights supports various platforms, such as .NET, Java, Node.js, and Python. You can use Azure Application Insights to detect and diagnose issues, optimize your performance, and ensure the availability of your applications. It also integrates with other Azure services, such as Azure Monitor and Azure Log Analytics.\n",
      "Category: Management + Governance\n",
      "\n",
      "Title: Azure Monitor\n",
      "Score: 0.8420792\n",
      "Content: Azure Monitor is a comprehensive, full-stack monitoring service that enables you to collect, analyze, and act on telemetry data from your applications and infrastructure. It provides features like log analytics, metrics, alerts, and dashboards. Azure Monitor supports various data sources, such as Azure resources, custom applications, and operating systems. You can use Azure Monitor to detect and diagnose issues, optimize your performance, and ensure the availability of your resources. It also integrates with other Azure services, such as Azure Log Analytics and Azure Application Insights.\n",
      "Category: Management + Governance\n",
      "\n",
      "Title: Azure Log Analytics\n",
      "Score: 0.81115687\n",
      "Content: Azure Log Analytics is a log management and analytics service that enables you to collect, store, and analyze your log data from various sources, such as Azure resources, custom applications, and operating systems. It provides features like advanced querying, data visualization, and integration with Azure Monitor. Log Analytics supports various data types, such as performance counters, event logs, and custom logs. You can use Azure Log Analytics to detect and diagnose issues, optimize your performance, and ensure the security of your infrastructure. It also integrates with other Azure services, such as Azure Security Center and Azure Application Insights.\n",
      "Category: Management + Governance\n",
      "\n"
     ]
    }
   ],
   "source": [
    "from azure.search.documents.models import VectorizedQuery\n",
    "\n",
    "# Pure Vector Search\n",
    "query = \"I want to monitor my applications\"\n",
    "\n",
    "\n",
    "search_client = SearchClient(search_endpoint, index_name, credential=credential)\n",
    "embedding = get_embedding (query, model = deployment_embedding_name)\n",
    "\n",
    "vector_query = VectorizedQuery(vector=embedding, k_nearest_neighbors=3, fields=\"contentVector\")\n",
    "\n",
    "\n",
    "results = search_client.search(\n",
    "    search_text=None,\n",
    "    vector_queries=[vector_query],\n",
    "    select=[\"title\", \"content\", \"category\"],\n",
    ")\n",
    "\n",
    "for result in results:\n",
    "    print(f\"Title: {result['title']}\")\n",
    "    print(f\"Score: {result['@search.score']}\")\n",
    "    print(f\"Content: {result['content']}\")\n",
    "    print(f\"Category: {result['category']}\\n\")"
   ]
  },
  {
   "cell_type": "markdown",
   "metadata": {},
   "source": [
    "- Azure AI Search에서 제공하는 VectorizableTextQuery 클래스를 활용하여 query를 별도로 embedding후 조회하지 않고 곧바로 유사한 문서를 찾습니다.\n",
    "- 다른 언어로 조회하는 경우에도 동일하게 사용할 수 있습니다."
   ]
  },
  {
   "cell_type": "code",
   "execution_count": 45,
   "metadata": {},
   "outputs": [
    {
     "name": "stdout",
     "output_type": "stream",
     "text": [
      "Title: Azure Application Insights\n",
      "Score: 0.8036648\n",
      "Content: Azure Application Insights is an application performance management service that enables you to monitor, diagnose, and troubleshoot your applications and infrastructure. It provides features like real-time telemetry, dependency mapping, and live metrics. Application Insights supports various platforms, such as .NET, Java, Node.js, and Python. You can use Azure Application Insights to detect and diagnose issues, optimize your performance, and ensure the availability of your applications. It also integrates with other Azure services, such as Azure Monitor and Azure Log Analytics.\n",
      "Category: Management + Governance\n",
      "\n",
      "Title: Azure Monitor\n",
      "Score: 0.8024742\n",
      "Content: Azure Monitor is a comprehensive, full-stack monitoring service that enables you to collect, analyze, and act on telemetry data from your applications and infrastructure. It provides features like log analytics, metrics, alerts, and dashboards. Azure Monitor supports various data sources, such as Azure resources, custom applications, and operating systems. You can use Azure Monitor to detect and diagnose issues, optimize your performance, and ensure the availability of your resources. It also integrates with other Azure services, such as Azure Log Analytics and Azure Application Insights.\n",
      "Category: Management + Governance\n",
      "\n",
      "Title: Azure Mobile Apps\n",
      "Score: 0.7818232\n",
      "Content: Azure Mobile Apps is a mobile app development platform that enables you to build, test, deploy, and monitor your mobile applications. It provides features like offline data sync, push notifications, and user authentication. Mobile Apps supports various platforms, including iOS, Android, and Windows. You can use Mobile Apps to build cross-platform applications, integrate with other Azure services, and improve your app development lifecycle. It also integrates with other Azure services, such as Azure Notification Hubs and Azure App Service.\n",
      "Category: Mobile\n",
      "\n"
     ]
    }
   ],
   "source": [
    "# Pure Vector Search multi-lingual (e.g 'tools for software development' in Dutch)\n",
    "query = \"Application을 모니터링하고 싶어\"\n",
    "\n",
    "search_client = SearchClient(search_endpoint, index_name, credential=credential)\n",
    "vector_query = VectorizableTextQuery(text=query, k_nearest_neighbors=3, fields=\"contentVector\")\n",
    "\n",
    "results = search_client.search(\n",
    "    search_text=None,\n",
    "    vector_queries=[vector_query],\n",
    "    select=[\"title\", \"content\", \"category\"],\n",
    ")\n",
    "\n",
    "for result in results:\n",
    "    print(f\"Title: {result['title']}\")\n",
    "    print(f\"Score: {result['@search.score']}\")\n",
    "    print(f\"Content: {result['content']}\")\n",
    "    print(f\"Category: {result['category']}\\n\")"
   ]
  },
  {
   "cell_type": "markdown",
   "metadata": {},
   "source": [
    "- 인덱스설정을 무시하고 벡터 인덱스를 완전검색(exhaustive KNN)으로 조회하는 방법입니다. 필터와 함께 조합하면 좋습니다. 튜닝의 기준점이 되는 ground-truth값을 체크할 수 있습니다. "
   ]
  },
  {
   "cell_type": "code",
   "execution_count": 46,
   "metadata": {},
   "outputs": [
    {
     "name": "stdout",
     "output_type": "stream",
     "text": [
      "Title: Azure DevOps\n",
      "Score: 0.8290269\n",
      "Content: Azure DevOps is a suite of services that help you plan, build, and deploy applications. It includes Azure Boards for work item tracking, Azure Repos for source code management, Azure Pipelines for continuous integration and continuous deployment, Azure Test Plans for manual and automated testing, and Azure Artifacts for package management. DevOps supports a wide range of programming languages, frameworks, and platforms, making it easy to integrate with your existing development tools and processes. It also integrates with other Azure services, such as Azure App Service and Azure Functions.\n",
      "Category: Developer Tools\n",
      "\n",
      "Title: Azure DevTest Labs\n",
      "Score: 0.81771946\n",
      "Content: Azure DevTest Labs is a fully managed service that enables you to create, manage, and share development and test environments in Azure. It provides features like custom templates, cost management, and integration with Azure DevOps. DevTest Labs supports various platforms, such as Windows, Linux, and Kubernetes. You can use Azure DevTest Labs to improve your application development lifecycle, reduce your costs, and ensure the consistency of your environments. It also integrates with other Azure services, such as Azure Virtual Machines and Azure App Service.\n",
      "Category: Developer Tools\n",
      "\n",
      "Title: Azure Application Insights\n",
      "Score: 0.80173534\n",
      "Content: Azure Application Insights is an application performance management service that enables you to monitor, diagnose, and troubleshoot your applications and infrastructure. It provides features like real-time telemetry, dependency mapping, and live metrics. Application Insights supports various platforms, such as .NET, Java, Node.js, and Python. You can use Azure Application Insights to detect and diagnose issues, optimize your performance, and ensure the availability of your applications. It also integrates with other Azure services, such as Azure Monitor and Azure Log Analytics.\n",
      "Category: Management + Governance\n",
      "\n"
     ]
    }
   ],
   "source": [
    "# Pure Vector Search\n",
    "query = \"tools for software development\"  \n",
    "  \n",
    "vector_query = VectorizableTextQuery(text=query, k_nearest_neighbors=3, fields=\"contentVector\", exhaustive=True)\n",
    "  \n",
    "results = search_client.search(  \n",
    "    search_text=None,  \n",
    "    vector_queries= [vector_query],\n",
    "    select=[\"title\", \"content\", \"category\"],\n",
    ")  \n",
    "  \n",
    "for result in results:  \n",
    "    print(f\"Title: {result['title']}\")  \n",
    "    print(f\"Score: {result['@search.score']}\")  \n",
    "    print(f\"Content: {result['content']}\")  \n",
    "    print(f\"Category: {result['category']}\\n\")  "
   ]
  },
  {
   "cell_type": "markdown",
   "metadata": {},
   "source": [
    "## Cross-Field Vector Search"
   ]
  },
  {
   "cell_type": "markdown",
   "metadata": {},
   "source": [
    "- ContentVector외에 추가적으로 titleVector를 사용하여 Cross-Field Vector Search를 수행할 수 있습니다."
   ]
  },
  {
   "cell_type": "code",
   "execution_count": 47,
   "metadata": {},
   "outputs": [
    {
     "name": "stdout",
     "output_type": "stream",
     "text": [
      "Title: Azure Monitor\n",
      "Score: 0.03306011110544205\n",
      "Content: Azure Monitor is a comprehensive, full-stack monitoring service that enables you to collect, analyze, and act on telemetry data from your applications and infrastructure. It provides features like log analytics, metrics, alerts, and dashboards. Azure Monitor supports various data sources, such as Azure resources, custom applications, and operating systems. You can use Azure Monitor to detect and diagnose issues, optimize your performance, and ensure the availability of your resources. It also integrates with other Azure services, such as Azure Log Analytics and Azure Application Insights.\n",
      "Category: Management + Governance\n",
      "\n",
      "Title: Azure Application Insights\n",
      "Score: 0.03306011110544205\n",
      "Content: Azure Application Insights is an application performance management service that enables you to monitor, diagnose, and troubleshoot your applications and infrastructure. It provides features like real-time telemetry, dependency mapping, and live metrics. Application Insights supports various platforms, such as .NET, Java, Node.js, and Python. You can use Azure Application Insights to detect and diagnose issues, optimize your performance, and ensure the availability of your applications. It also integrates with other Azure services, such as Azure Monitor and Azure Log Analytics.\n",
      "Category: Management + Governance\n",
      "\n",
      "Title: Azure Mobile Apps\n",
      "Score: 0.016129031777381897\n",
      "Content: Azure Mobile Apps is a mobile app development platform that enables you to build, test, deploy, and monitor your mobile applications. It provides features like offline data sync, push notifications, and user authentication. Mobile Apps supports various platforms, including iOS, Android, and Windows. You can use Mobile Apps to build cross-platform applications, integrate with other Azure services, and improve your app development lifecycle. It also integrates with other Azure services, such as Azure Notification Hubs and Azure App Service.\n",
      "Category: Mobile\n",
      "\n",
      "Title: Azure Log Analytics\n",
      "Score: 0.016129031777381897\n",
      "Content: Azure Log Analytics is a log management and analytics service that enables you to collect, store, and analyze your log data from various sources, such as Azure resources, custom applications, and operating systems. It provides features like advanced querying, data visualization, and integration with Azure Monitor. Log Analytics supports various data types, such as performance counters, event logs, and custom logs. You can use Azure Log Analytics to detect and diagnose issues, optimize your performance, and ensure the security of your infrastructure. It also integrates with other Azure services, such as Azure Security Center and Azure Application Insights.\n",
      "Category: Management + Governance\n",
      "\n"
     ]
    }
   ],
   "source": [
    "# Cross-Field Vector Search\n",
    "query = \"I want to monitor my applications\"\n",
    "\n",
    "search_client = SearchClient(search_endpoint, index_name, credential=credential)\n",
    "vector_query = VectorizableTextQuery(text=query, k_nearest_neighbors=3, fields=\"titleVector, contentVector\")\n",
    "\n",
    "results = search_client.search(\n",
    "    search_text=None,\n",
    "    vector_queries=[vector_query],\n",
    "    select=[\"title\", \"content\", \"category\"],\n",
    ")\n",
    "\n",
    "for result in results:\n",
    "    print(f\"Title: {result['title']}\")\n",
    "    print(f\"Score: {result['@search.score']}\")\n",
    "    print(f\"Content: {result['content']}\")\n",
    "    print(f\"Category: {result['category']}\\n\")"
   ]
  },
  {
   "cell_type": "markdown",
   "metadata": {},
   "source": [
    "## Perform a Multi-Vector Search"
   ]
  },
  {
   "cell_type": "markdown",
   "metadata": {},
   "source": [
    "- 하나의 쿼리를 두개의 VectorField에 사용하거나 하나의 VectorField에 두가지 쿼리를 사용하여 Multi-Vector Search를 수행할 수 있습니다.\n",
    "- 예를 들어, query rewrite를 통해 추가적인 query를 생성하여 Multi-Vector Search를 수행할 수 있습니다.\n",
    "- 이때 가중치를 부여하여 결과를 조정할 수 있습니다."
   ]
  },
  {
   "cell_type": "code",
   "execution_count": 48,
   "metadata": {},
   "outputs": [
    {
     "name": "stdout",
     "output_type": "stream",
     "text": [
      "Title: Azure DevTest Labs\n",
      "Score: 0.0416666679084301\n",
      "Content: Azure DevTest Labs is a fully managed service that enables you to create, manage, and share development and test environments in Azure. It provides features like custom templates, cost management, and integration with Azure DevOps. DevTest Labs supports various platforms, such as Windows, Linux, and Kubernetes. You can use Azure DevTest Labs to improve your application development lifecycle, reduce your costs, and ensure the consistency of your environments. It also integrates with other Azure services, such as Azure Virtual Machines and Azure App Service.\n",
      "Category: Developer Tools\n",
      "\n",
      "Title: Azure Databricks\n",
      "Score: 0.04139785096049309\n",
      "Content: Azure Databricks is an Apache Spark-based analytics platform optimized for the Azure cloud. It provides a collaborative workspace for data scientists, engineers, and business users to process, analyze, and visualize big data. Databricks supports multiple programming languages, including Python, Scala, R, and SQL. It offers built-in integration with Azure Blob Storage, Azure Data Lake Storage, and Azure Cosmos DB. You can also use Databricks to train and deploy machine learning models, and integrate with Azure Machine Learning.\n",
      "Category: Analytics\n",
      "\n",
      "Title: Azure Databricks\n",
      "Score: 0.04032257944345474\n",
      "Content: Azure Databricks is a fully managed, Apache Spark-based analytics platform that enables you to process and analyze large volumes of data. It provides features like collaborative notebooks, job scheduling, and integration with Azure Machine Learning. Databricks supports various data sources, such as Azure Blob Storage, Azure Data Lake Storage, and Azure Cosmos DB. You can use Azure Databricks to build data lakes, develop big data analytics solutions, and train machine learning models. It also integrates with other Azure services, such as Azure Synapse Analytics and Azure Data Factory.\n",
      "Category: Analytics\n",
      "\n",
      "Title: Azure Digital Twins\n",
      "Score: 0.032786883413791656\n",
      "Content: Azure Digital Twins is an IoT service that enables you to create digital representations of your physical assets, environments, and processes. It provides features like spatial intelligence, twin graphs, and event-driven functions. Digital Twins supports various data sources, such as Azure IoT Hub, Azure Event Hubs, and Azure Blob Storage. You can use Digital Twins to build connected solutions, optimize your operations, and improve your decision-making. It also integrates with other Azure services, such as Azure Time Series Insights and Azure Machine Learning.\n",
      "Category: Internet of Things\n",
      "\n",
      "Title: Azure DevOps\n",
      "Score: 0.032786883413791656\n",
      "Content: Azure DevOps is a suite of services that help you plan, build, and deploy applications. It includes Azure Boards for work item tracking, Azure Repos for source code management, Azure Pipelines for continuous integration and continuous deployment, Azure Test Plans for manual and automated testing, and Azure Artifacts for package management. DevOps supports a wide range of programming languages, frameworks, and platforms, making it easy to integrate with your existing development tools and processes. It also integrates with other Azure services, such as Azure App Service and Azure Functions.\n",
      "Category: Developer Tools\n",
      "\n",
      "Title: Azure Data Bricks\n",
      "Score: 0.032258063554763794\n",
      "Content: Azure Data Bricks is a fully managed, Apache Spark-based analytics platform that enables you to process and analyze large volumes of data. It provides features like collaborative notebooks, job scheduling, and integration with Azure Machine Learning. Data Bricks supports various data sources, such as Azure Blob Storage, Azure Data Lake Storage, and Azure Cosmos DB. You can use Azure Data Bricks to build data lakes, develop big data analytics solutions, and train machine learning models. It also integrates with other Azure services, such as Azure Synapse Analytics and Azure Data Factory.\n",
      "Category: Analytics\n",
      "\n",
      "Title: Azure Data Explorer\n",
      "Score: 0.016393441706895828\n",
      "Content: Azure Data Explorer is a fast, fully managed data analytics service for real-time analysis on large volumes of data. It provides features like ingestion, querying, and visualization. Data Explorer supports various data sources, such as Azure Event Hubs, Azure IoT Hub, and Azure Blob Storage. You can use Data Explorer to analyze logs, monitor applications, and gain insights into your data. It also integrates with other Azure services, such as Azure Synapse Analytics and Azure Machine Learning.\n",
      "Category: Analytics\n",
      "\n",
      "Title: Azure Machine Learning\n",
      "Score: 0.008333333767950535\n",
      "Content: Azure Machine Learning is a cloud-based service for building, training, and deploying machine learning models. It offers a visual interface for creating and managing experiments, as well as support for popular programming languages like Python and R. Machine Learning supports various algorithms, frameworks, and data sources, making it easy to integrate with your existing data and workflows. You can deploy your models as web services, and scale them based on your needs. It also integrates with other Azure services, such as Azure Databricks and Azure Data Factory.\n",
      "Category: AI + Machine Learning\n",
      "\n"
     ]
    }
   ],
   "source": [
    "# Multi-Vector Search\n",
    "query1 = \"software development for ds\"\n",
    "query2 = \"데이터를 가지고 실험을 하거나 통계를 보고 모델을 제작할 때 사용할 수 있는 도구\"\n",
    "\n",
    "search_client = SearchClient(search_endpoint, index_name, credential=credential)\n",
    "vector_query1 = VectorizableTextQuery(text=query1, k_nearest_neighbors=3, fields=\"titleVector, contentVector\", weight=2)\n",
    "vector_query2 = VectorizableTextQuery(text=query2, k_nearest_neighbors=3, fields=\"titleVector, contentVector\", weight=0.5)\n",
    "# vector_query1 = VectorizableTextQuery(text=query1, k_nearest_neighbors=3, fields=\"titleVector, contentVector\", weight=2)\n",
    "# vector_query2 = VectorizableTextQuery(text=query2, k_nearest_neighbors=3, fields=\"titleVector, contentVector\", weight=0.5)\n",
    "\n",
    "\n",
    "\n",
    "results = search_client.search(\n",
    "    search_text=None,\n",
    "    vector_queries=[vector_query1, vector_query2],\n",
    "    select=[\"title\", \"content\", \"category\"],\n",
    ")\n",
    "\n",
    "for result in results:\n",
    "    print(f\"Title: {result['title']}\")\n",
    "    print(f\"Score: {result['@search.score']}\")\n",
    "    print(f\"Content: {result['content']}\")\n",
    "    print(f\"Category: {result['category']}\\n\")"
   ]
  },
  {
   "cell_type": "markdown",
   "metadata": {},
   "source": [
    "## Perform a Pure Vector Search with a filter"
   ]
  },
  {
   "cell_type": "markdown",
   "metadata": {},
   "source": [
    "- Vector Search에 필터를 추가하여 결과를 제한할 수 있습니다 특히 검색 범위가 넓고 데이터량이 많은 경우에 유용합니다. "
   ]
  },
  {
   "cell_type": "code",
   "execution_count": 49,
   "metadata": {},
   "outputs": [
    {
     "name": "stdout",
     "output_type": "stream",
     "text": [
      "Title: Azure DevOps\n",
      "Score: 0.8290269\n",
      "Content: Azure DevOps is a suite of services that help you plan, build, and deploy applications. It includes Azure Boards for work item tracking, Azure Repos for source code management, Azure Pipelines for continuous integration and continuous deployment, Azure Test Plans for manual and automated testing, and Azure Artifacts for package management. DevOps supports a wide range of programming languages, frameworks, and platforms, making it easy to integrate with your existing development tools and processes. It also integrates with other Azure services, such as Azure App Service and Azure Functions.\n",
      "Category: Developer Tools\n",
      "\n",
      "Title: Azure DevTest Labs\n",
      "Score: 0.81771946\n",
      "Content: Azure DevTest Labs is a fully managed service that enables you to create, manage, and share development and test environments in Azure. It provides features like custom templates, cost management, and integration with Azure DevOps. DevTest Labs supports various platforms, such as Windows, Linux, and Kubernetes. You can use Azure DevTest Labs to improve your application development lifecycle, reduce your costs, and ensure the consistency of your environments. It also integrates with other Azure services, such as Azure Virtual Machines and Azure App Service.\n",
      "Category: Developer Tools\n",
      "\n",
      "Title: Azure App Configuration\n",
      "Score: 0.7884127\n",
      "Content: Azure App Configuration is a fully managed configuration service that enables you to centrally manage and distribute your application settings and feature flags. It provides features like key-value storage, versioning, and access control. App Configuration supports various platforms, such as .NET, Java, Node.js, and Python. You can use Azure App Configuration to build and deploy your applications, ensure the consistency of your settings, and improve your application lifecycle. It also integrates with other Azure services, such as Azure App Service and Azure Functions.\n",
      "Category: Developer Tools\n",
      "\n"
     ]
    }
   ],
   "source": [
    "from azure.search.documents.models import VectorFilterMode\n",
    "\n",
    "# Pure Vector Search with Filter\n",
    "query = \"tools for software development\"\n",
    "\n",
    "search_client = SearchClient(search_endpoint, index_name, credential=credential)\n",
    "vector_query = VectorizableTextQuery(text=query, k_nearest_neighbors=3, fields=\"contentVector\")\n",
    "\n",
    "results = search_client.search(\n",
    "    search_text=None,\n",
    "    vector_queries=[vector_query],\n",
    "    vector_filter_mode=VectorFilterMode.PRE_FILTER,\n",
    "    filter=\"category eq 'Developer Tools'\",\n",
    "    select=[\"title\", \"content\", \"category\"]\n",
    ")\n",
    "\n",
    "for result in results:\n",
    "    print(f\"Title: {result['title']}\")\n",
    "    print(f\"Score: {result['@search.score']}\")\n",
    "    print(f\"Content: {result['content']}\")\n",
    "    print(f\"Category: {result['category']}\\n\")"
   ]
  },
  {
   "cell_type": "markdown",
   "metadata": {},
   "source": [
    "## Perform a Hybrid Search"
   ]
  },
  {
   "cell_type": "markdown",
   "metadata": {},
   "source": [
    "- searchtext와 vector search를 혼합하여 검색을 수행할 수 있습니다."
   ]
  },
  {
   "cell_type": "code",
   "execution_count": 50,
   "metadata": {},
   "outputs": [
    {
     "name": "stdout",
     "output_type": "stream",
     "text": [
      "----------------------------vector search---------------------------------\n"
     ]
    },
    {
     "name": "stdout",
     "output_type": "stream",
     "text": [
      "Title: Azure Logic Apps\n",
      "Score: 0.80287653\n",
      "Content: Azure Logic Apps is a cloud-based service that allows you to create and run workflows that integrate with various services and data sources. It provides a visual designer for creating workflows, and supports a wide range of connectors for popular services like Office 365, Salesforce, and Dropbox. Logic Apps enable you to automate tasks, process and transform data, and orchestrate complex processes without writing code. You can monitor and manage your workflows using Azure Portal, REST APIs, or PowerShell.\n",
      "Category: Integration\n",
      "\n",
      "Title: Azure Synapse Analytics\n",
      "Score: 0.80188507\n",
      "Content: Azure Synapse Analytics is an integrated analytics service that brings together big data and data warehousing. It enables you to ingest, prepare, manage, and serve data for immediate business intelligence and machine learning needs. Synapse Analytics provides a unified workspace for data engineers, data scientists, and business analysts to collaborate and build solutions. It supports various data sources, including Azure Data Lake Storage, Azure Blob Storage, and Azure Cosmos DB. You can use Synapse Analytics with other Azure services, such as Azure Machine Learning and Power BI.\n",
      "Category: Analytics\n",
      "\n",
      "Title: Azure Data Factory\n",
      "Score: 0.801483\n",
      "Content: Azure Data Factory is a cloud-based data integration service that enables you to create, schedule, and manage your data workflows. It provides features like data movement, data transformation, and integration with Azure Machine Learning. Data Factory supports various data sources, such as Azure Blob Storage, Azure Data Lake Storage, and Azure SQL Database. You can use Azure Data Factory to build data pipelines, develop big data analytics solutions, and migrate your data to Azure. It also integrates with other Azure services, such as Azure Synapse Analytics and Azure Data Lake Analytics.\n",
      "Category: Analytics\n",
      "\n",
      "----------------------------hybrid search---------------------------------\n",
      "Title: Azure Logic Apps\n",
      "Score: 0.03253968432545662\n",
      "Content: Azure Logic Apps is a cloud-based service that allows you to create and run workflows that integrate with various services and data sources. It provides a visual designer for creating workflows, and supports a wide range of connectors for popular services like Office 365, Salesforce, and Dropbox. Logic Apps enable you to automate tasks, process and transform data, and orchestrate complex processes without writing code. You can monitor and manage your workflows using Azure Portal, REST APIs, or PowerShell.\n",
      "Category: Integration\n",
      "\n",
      "Title: Azure Data Factory\n",
      "Score: 0.032258063554763794\n",
      "Content: Azure Data Factory is a cloud-based data integration service that enables you to create, schedule, and manage your data workflows. It provides features like data movement, data transformation, and integration with Azure Machine Learning. Data Factory supports various data sources, such as Azure Blob Storage, Azure Data Lake Storage, and Azure SQL Database. You can use Azure Data Factory to build data pipelines, develop big data analytics solutions, and migrate your data to Azure. It also integrates with other Azure services, such as Azure Synapse Analytics and Azure Data Lake Analytics.\n",
      "Category: Analytics\n",
      "\n",
      "Title: Azure Event Grid\n",
      "Score: 0.01666666753590107\n",
      "Content: Azure Event Grid is a fully managed, event-routing service that enables you to build event-driven and serverless applications. It provides features like event filtering, custom event topics, and integration with Azure Functions. Event Grid supports various event sources, such as Azure Blob Storage, Azure Event Hubs, and custom applications. You can use Azure Event Grid to build reactive applications, integrate with other Azure services, and process and route events at scale. It also integrates with other Azure services, such as Azure Logic Apps and Azure Service Bus.\n",
      "Category: Integration\n",
      "\n"
     ]
    }
   ],
   "source": [
    "# Hybrid Search\n",
    "query = \"integration\"\n",
    "\n",
    "search_client = SearchClient(search_endpoint, index_name, AzureKeyCredential(key))\n",
    "vector_query = VectorizableTextQuery(text=query, k_nearest_neighbors=3, fields=\"contentVector\")\n",
    "\n",
    "vector_query_result = search_client.search(\n",
    "    search_text=None, vector_queries=[vector_query], select=[\"title\", \"content\", \"category\"], top=3)\n",
    "\n",
    "hybrid_query_result = search_client.search(\n",
    "    search_text=query, vector_queries=[vector_query], select=[\"title\", \"content\", \"category\"], top=3)\n",
    "\n",
    "print(\"----------------------------vector search---------------------------------\")\n",
    "\n",
    "for result in vector_query_result:\n",
    "    print(f\"Title: {result['title']}\")\n",
    "    print(f\"Score: {result['@search.score']}\")\n",
    "    print(f\"Content: {result['content']}\")\n",
    "    print(f\"Category: {result['category']}\\n\")\n",
    "\n",
    "print(\"----------------------------hybrid search---------------------------------\")\n",
    "\n",
    "for result in hybrid_query_result:\n",
    "    print(f\"Title: {result['title']}\")\n",
    "    print(f\"Score: {result['@search.score']}\")\n",
    "    print(f\"Content: {result['content']}\")\n",
    "    print(f\"Category: {result['category']}\\n\")    "
   ]
  },
  {
   "cell_type": "markdown",
   "metadata": {},
   "source": [
    "- vector query에 대한 가중치를 부여하여 결과를 조정할 수 있습니다."
   ]
  },
  {
   "cell_type": "code",
   "execution_count": 51,
   "metadata": {},
   "outputs": [
    {
     "name": "stdout",
     "output_type": "stream",
     "text": [
      "----------------------------vector search---------------------------------\n"
     ]
    },
    {
     "name": "stdout",
     "output_type": "stream",
     "text": [
      "Title: Azure Logic Apps\n",
      "Score: 0.80287653\n",
      "Content: Azure Logic Apps is a cloud-based service that allows you to create and run workflows that integrate with various services and data sources. It provides a visual designer for creating workflows, and supports a wide range of connectors for popular services like Office 365, Salesforce, and Dropbox. Logic Apps enable you to automate tasks, process and transform data, and orchestrate complex processes without writing code. You can monitor and manage your workflows using Azure Portal, REST APIs, or PowerShell.\n",
      "Category: Integration\n",
      "\n",
      "Title: Azure Synapse Analytics\n",
      "Score: 0.80188507\n",
      "Content: Azure Synapse Analytics is an integrated analytics service that brings together big data and data warehousing. It enables you to ingest, prepare, manage, and serve data for immediate business intelligence and machine learning needs. Synapse Analytics provides a unified workspace for data engineers, data scientists, and business analysts to collaborate and build solutions. It supports various data sources, including Azure Data Lake Storage, Azure Blob Storage, and Azure Cosmos DB. You can use Synapse Analytics with other Azure services, such as Azure Machine Learning and Power BI.\n",
      "Category: Analytics\n",
      "\n",
      "Title: Azure Data Factory\n",
      "Score: 0.801483\n",
      "Content: Azure Data Factory is a cloud-based data integration service that enables you to create, schedule, and manage your data workflows. It provides features like data movement, data transformation, and integration with Azure Machine Learning. Data Factory supports various data sources, such as Azure Blob Storage, Azure Data Lake Storage, and Azure SQL Database. You can use Azure Data Factory to build data pipelines, develop big data analytics solutions, and migrate your data to Azure. It also integrates with other Azure services, such as Azure Synapse Analytics and Azure Data Lake Analytics.\n",
      "Category: Analytics\n",
      "\n",
      "----------------------------hybrid search---------------------------------\n",
      "Title: Azure Data Factory\n",
      "Score: 0.019354838877916336\n",
      "Content: Azure Data Factory is a cloud-based data integration service that enables you to create, schedule, and manage your data workflows. It provides features like data movement, data transformation, and integration with Azure Machine Learning. Data Factory supports various data sources, such as Azure Blob Storage, Azure Data Lake Storage, and Azure SQL Database. You can use Azure Data Factory to build data pipelines, develop big data analytics solutions, and migrate your data to Azure. It also integrates with other Azure services, such as Azure Synapse Analytics and Azure Data Lake Analytics.\n",
      "Category: Analytics\n",
      "\n",
      "Title: Azure Logic Apps\n",
      "Score: 0.019206350669264793\n",
      "Content: Azure Logic Apps is a cloud-based service that allows you to create and run workflows that integrate with various services and data sources. It provides a visual designer for creating workflows, and supports a wide range of connectors for popular services like Office 365, Salesforce, and Dropbox. Logic Apps enable you to automate tasks, process and transform data, and orchestrate complex processes without writing code. You can monitor and manage your workflows using Azure Portal, REST APIs, or PowerShell.\n",
      "Category: Integration\n",
      "\n",
      "Title: Azure Event Grid\n",
      "Score: 0.01666666753590107\n",
      "Content: Azure Event Grid is a fully managed, event-routing service that enables you to build event-driven and serverless applications. It provides features like event filtering, custom event topics, and integration with Azure Functions. Event Grid supports various event sources, such as Azure Blob Storage, Azure Event Hubs, and custom applications. You can use Azure Event Grid to build reactive applications, integrate with other Azure services, and process and route events at scale. It also integrates with other Azure services, such as Azure Logic Apps and Azure Service Bus.\n",
      "Category: Integration\n",
      "\n"
     ]
    }
   ],
   "source": [
    "# Hybrid Search\n",
    "query = \"integration\"\n",
    "\n",
    "search_client = SearchClient(search_endpoint, index_name, AzureKeyCredential(key))\n",
    "vector_query = VectorizableTextQuery(text=query, k_nearest_neighbors=3, fields=\"contentVector\", weight=0.2)\n",
    "\n",
    "vector_query_result = search_client.search(\n",
    "    search_text=None, vector_queries=[vector_query], select=[\"title\", \"content\", \"category\"], top=3)\n",
    "\n",
    "hybrid_query_result = search_client.search(\n",
    "    search_text=query, vector_queries=[vector_query], select=[\"title\", \"content\", \"category\"], top=3)\n",
    "\n",
    "print(\"----------------------------vector search---------------------------------\")\n",
    "\n",
    "for result in vector_query_result:\n",
    "    print(f\"Title: {result['title']}\")\n",
    "    print(f\"Score: {result['@search.score']}\")\n",
    "    print(f\"Content: {result['content']}\")\n",
    "    print(f\"Category: {result['category']}\\n\")\n",
    "\n",
    "print(\"----------------------------hybrid search---------------------------------\")\n",
    "\n",
    "for result in hybrid_query_result:\n",
    "    print(f\"Title: {result['title']}\")\n",
    "    print(f\"Score: {result['@search.score']}\")\n",
    "    print(f\"Content: {result['content']}\")\n",
    "    print(f\"Category: {result['category']}\\n\")    "
   ]
  },
  {
   "cell_type": "markdown",
   "metadata": {},
   "source": [
    "## hybrid search + Semantic reranking"
   ]
  },
  {
   "cell_type": "markdown",
   "metadata": {},
   "source": [
    "- hybrid search한 결과를  semantic reranking을 혼합하여 검색을 수행할 수 있습니다."
   ]
  },
  {
   "cell_type": "code",
   "execution_count": 52,
   "metadata": {},
   "outputs": [
    {
     "name": "stdout",
     "output_type": "stream",
     "text": [
      "Semantic Answer: Azure Cognitive Search. Azure Cognitive Search is<em> a fully managed search-as-a-service that enables you to build rich search experiences for your applications.</em> It provides features like full-text search, faceted navigation, and filters. Azure Cognitive Search supports various data sources, such as Azure SQL Database, Azure Blob Storage, and Azure Cosmos DB. You can use Azure Cognitive Search to index your data, create custom scoring profiles, and integrate with other Azure services. It also integrates with other Azure services, such as Azure Cognitive Services and Azure Machine Learning..\n",
      "Semantic Answer Score: 0.92919921875\n",
      "\n",
      "Title: Azure Stack Edge\n",
      "Reranker Score: 2.3630130290985107\n",
      "Content: Azure Stack Edge is a managed, edge computing appliance that enables you to run Azure services and AI workloads on-premises or at the edge. It provides features like hardware-accelerated machine learning, local caching, and integration with Azure IoT Hub. Azure Stack Edge supports various Azure services, such as Azure Functions, Azure Machine Learning, and Azure Kubernetes Service. You can use Azure Stack Edge to build edge computing applications, optimize your data processing, and ensure the security and compliance of your workloads. It also integrates with other Azure services, such as Azure Monitor and Azure Stack Hub.\n",
      "Category: Hybrid\n",
      "Caption: <em>Azure Stack</em> Edge.<em> Azure Stack</em> Edge is a managed, edge computing appliance that enables you to run Azure services and AI workloads on-premises or at the edge. It provides features like hardware-accelerated machine learning, local caching, and integration with Azure IoT Hub.<em> Azure Stack</em> Edge supports various Azure services, such as Azure Functions, Azure Machine Learning, and Azure Kubernetes Service. You can use<em> Azure Stack</em> Edge to build edge computing applications, optimize your data processing, and ensure the security and compliance of your workloads. It also integrates with other Azure services, such as Azure Monitor and<em> Azure Stack</em> Hub..\n",
      "\n",
      "Title: Azure Security Center\n",
      "Reranker Score: 2.1243298053741455\n",
      "Content: Azure Security Center is a unified security management service that helps you protect your workloads and improve your security posture across your Azure resources and on-premises infrastructure. It provides features like continuous security assessments, threat protection, and security recommendations. Security Center supports various platforms, such as Windows, Linux, and Kubernetes. You can use Azure Security Center to detect and remediate threats, manage your security policies, and ensure compliance with industry regulations. It also integrates with other Azure services, such as Azure Monitor and Azure Log Analytics.\n",
      "Category: Security\n",
      "Caption: Azure Security Center. Azure Security Center is a unified security management service that helps you protect your workloads and improve your security posture across your Azure resources and on-premises infrastructure. It provides features like continuous security assessments, threat protection, and security recommendations. Security Center supports various platforms, such as Windows, Linux, and Kubernetes. You can use Azure Security Center to detect and remediate threats, manage your security policies, and ensure compliance with industry regulations. It also integrates with other Azure services, such as Azure Monitor and Azure Log Analytics..\n",
      "\n",
      "Title: Azure Databricks\n",
      "Reranker Score: 1.9560163021087646\n",
      "Content: Azure Databricks is an Apache Spark-based analytics platform optimized for the Azure cloud. It provides a collaborative workspace for data scientists, engineers, and business users to process, analyze, and visualize big data. Databricks supports multiple programming languages, including Python, Scala, R, and SQL. It offers built-in integration with Azure Blob Storage, Azure Data Lake Storage, and Azure Cosmos DB. You can also use Databricks to train and deploy machine learning models, and integrate with Azure Machine Learning.\n",
      "Category: Analytics\n",
      "Caption: Azure Databricks. Azure Databricks is an Apache Spark-based analytics platform optimized for the Azure cloud. It provides a collaborative workspace for data scientists, engineers, and business users to process, analyze, and visualize big data. Databricks supports multiple programming languages, including Python, Scala, R, and SQL. It offers built-in integration with Azure Blob Storage, Azure Data Lake Storage, and Azure Cosmos DB. You can also use Databricks to train and deploy machine learning models, and integrate with Azure Machine Learning..\n",
      "\n"
     ]
    }
   ],
   "source": [
    "from azure.search.documents.models import QueryType, QueryCaptionType, QueryAnswerType\n",
    "\n",
    "# Semantic Hybrid Search\n",
    "query = \"what is azure sarch?\"\n",
    "\n",
    "vector_query = VectorizableTextQuery(text=query, k_nearest_neighbors=3, fields=\"contentVector\", exhaustive=True)\n",
    "\n",
    "results = search_client.search(  \n",
    "    search_text=query,  \n",
    "    vector_queries=[vector_query],\n",
    "    select=[\"title\", \"content\", \"category\"],\n",
    "    query_type=QueryType.SEMANTIC, semantic_configuration_name='my-semantic-config', query_caption=QueryCaptionType.EXTRACTIVE, query_answer=QueryAnswerType.EXTRACTIVE,\n",
    "    top=3\n",
    ")\n",
    "\n",
    "semantic_answers = results.get_answers()\n",
    "for answer in semantic_answers:\n",
    "    if answer.highlights:\n",
    "        print(f\"Semantic Answer: {answer.highlights}\")\n",
    "    else:\n",
    "        print(f\"Semantic Answer: {answer.text}\")\n",
    "    print(f\"Semantic Answer Score: {answer.score}\\n\")\n",
    "\n",
    "for result in results:\n",
    "    print(f\"Title: {result['title']}\")\n",
    "    print(f\"Reranker Score: {result['@search.reranker_score']}\")\n",
    "    print(f\"Content: {result['content']}\")\n",
    "    print(f\"Category: {result['category']}\")\n",
    "\n",
    "    captions = result[\"@search.captions\"]\n",
    "    if captions:\n",
    "        caption = captions[0]\n",
    "        if caption.highlights:\n",
    "            print(f\"Caption: {caption.highlights}\\n\")\n",
    "        else:\n",
    "            print(f\"Caption: {caption.text}\\n\")\n"
   ]
  },
  {
   "cell_type": "code",
   "execution_count": null,
   "metadata": {},
   "outputs": [],
   "source": []
  }
 ],
 "metadata": {
  "kernelspec": {
   "display_name": "aisearch",
   "language": "python",
   "name": "python3"
  },
  "language_info": {
   "codemirror_mode": {
    "name": "ipython",
    "version": 3
   },
   "file_extension": ".py",
   "mimetype": "text/x-python",
   "name": "python",
   "nbconvert_exporter": "python",
   "pygments_lexer": "ipython3",
   "version": "3.11.10"
  }
 },
 "nbformat": 4,
 "nbformat_minor": 2
}
