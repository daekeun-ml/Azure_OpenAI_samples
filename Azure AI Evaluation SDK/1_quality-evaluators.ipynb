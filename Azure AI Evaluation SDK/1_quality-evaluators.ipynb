{
 "cells": [
  {
   "cell_type": "markdown",
   "metadata": {},
   "source": [
    "# Quality Evaluators with the Azure AI Evaluation SDK\n",
    "The following sample shows the basic way to evaluate a Generative AI application in your development environment with the Azure AI evaluation SDK.\n",
    "\n",
    "> ✨ ***Note*** <br>\n",
    "> Please check the reference document before you get started - https://learn.microsoft.com/en-us/azure/ai-studio/how-to/develop/evaluate-sdk\n",
    "\n",
    "## Prerequisites\n",
    "Configure a Python virtual environment for 3.10 or later: \n",
    " 1. open the Command Palette (Ctrl+Shift+P).\n",
    " 1. Search for Python: Create Environment.\n",
    " 1. select Venv / Conda and choose where to create the new environment.\n",
    " 1. Select the Python interpreter version. Create with version 3.10 or later.\n",
    "\n",
    "For a dependency installation, run the code below to install the packages required to run it. \n",
    "\n",
    "```bash\n",
    "pip install -r requirements.txt\n",
    "```\n",
    "\n",
    "## Set up your environment\n",
    "Git clone the repository to your local machine. \n",
    "\n",
    "```bash\n",
    "git clone https://github.com/hyogrin/Azure_OpenAI_samples.git\n",
    "```\n",
    "\n",
    "Create an .env file based on the .env-sample file. Copy the new .env file to the folder containing your notebook and update the variables."
   ]
  },
  {
   "cell_type": "markdown",
   "metadata": {
    "vscode": {
     "languageId": "shellscript"
    }
   },
   "source": [
    "## 🔨 Current Support and Limitations (as of 2025-01-12) \n",
    "- Check the region support for the Azure AI Evaluation SDK. https://learn.microsoft.com/en-us/azure/ai-studio/concepts/evaluation-metrics-built-in?tabs=warning#region-support\n",
    "\n",
    "| Region | Hate and Unfairness, Sexual, Violent, Self-Harm, XPIA | Groundedness Pro | Protected Material |\n",
    "| - | - | - | - |\n",
    "| UK South | Will be deprecated 12/1/24 | no | no |\n",
    "| East US 2 | yes | yes | yes |\n",
    "| Sweden Central | yes | yes | no |\n",
    "| US North Central | yes | no | no |\n",
    "| France Central | yes | no | no |\n",
    "| Switzerland West | yes | no | no |"
   ]
  },
  {
   "cell_type": "code",
   "execution_count": 17,
   "metadata": {},
   "outputs": [
    {
     "data": {
      "text/plain": [
       "True"
      ]
     },
     "execution_count": 17,
     "metadata": {},
     "output_type": "execute_result"
    }
   ],
   "source": [
    "import pandas as pd\n",
    "import os\n",
    "import json\n",
    "\n",
    "from pprint import pprint\n",
    "from azure.ai.evaluation import evaluate\n",
    "from azure.ai.evaluation import RelevanceEvaluator\n",
    "from azure.ai.evaluation import GroundednessEvaluator, GroundednessProEvaluator\n",
    "from azure.identity import DefaultAzureCredential\n",
    "from dotenv import load_dotenv\n",
    "from azure.ai.projects import AIProjectClient\n",
    "from azure.ai.projects.models import (\n",
    "    Evaluation,\n",
    "    Dataset,\n",
    "    EvaluatorConfiguration,\n",
    "    ConnectionType,\n",
    "    EvaluationSchedule,\n",
    "    RecurrenceTrigger,\n",
    "    ApplicationInsightsConfiguration\n",
    ")\n",
    "import pathlib\n",
    "\n",
    "from azure.ai.evaluation import evaluate\n",
    "from azure.ai.evaluation import (\n",
    "    ContentSafetyEvaluator,\n",
    "    RelevanceEvaluator,\n",
    "    CoherenceEvaluator,\n",
    "    GroundednessEvaluator,\n",
    "    FluencyEvaluator,\n",
    "    SimilarityEvaluator,\n",
    "    F1ScoreEvaluator,\n",
    "    RetrievalEvaluator\n",
    ")\n",
    "from model_endpoint import ModelEndpoint\n",
    "\n",
    "\n",
    "\n",
    "load_dotenv(override=True)"
   ]
  },
  {
   "cell_type": "code",
   "execution_count": 18,
   "metadata": {},
   "outputs": [
    {
     "data": {
      "text/plain": [
       "{'azure_endpoint': 'https://aoai-services1.services.ai.azure.com/',\n",
       " 'api_key': '32572ab337444af999eb7242997d56c9',\n",
       " 'azure_deployment': 'gpt-4o',\n",
       " 'api_version': '2024-08-01-preview',\n",
       " 'type': 'azure_openai'}"
      ]
     },
     "execution_count": 18,
     "metadata": {},
     "output_type": "execute_result"
    }
   ],
   "source": [
    "credential = DefaultAzureCredential()\n",
    "\n",
    "# Initialize Azure AI project and Azure OpenAI conncetion with your environment variables\n",
    "azure_ai_project = {\n",
    "    \"subscription_id\": os.environ.get(\"AZURE_SUBSCRIPTION_ID\"),\n",
    "    \"resource_group_name\": os.environ.get(\"AZURE_RESOURCE_GROUP_NAME\"),\n",
    "    \"project_name\": os.environ.get(\"AZURE_PROJECT_NAME\"),\n",
    "}\n",
    "\n",
    "model_config = {\n",
    "    \"azure_endpoint\": os.environ.get(\"AZURE_OPENAI_ENDPOINT\"),\n",
    "    \"api_key\": os.environ.get(\"AZURE_OPENAI_API_KEY\"),\n",
    "    \"azure_deployment\": os.environ.get(\"AZURE_OPENAI_DEPLOYMENT_NAME\"),\n",
    "    \"api_version\": os.environ.get(\"AZURE_OPENAI_API_VERSION\"),\n",
    "    \"type\": \"azure_openai\",\n",
    "}\n",
    "\n",
    "model_config"
   ]
  },
  {
   "cell_type": "code",
   "execution_count": 19,
   "metadata": {},
   "outputs": [],
   "source": [
    "query_response = dict(\n",
    "    query=\"Which tent is the most waterproof?\",\n",
    "    context=\"The Alpine Explorer Tent is the most water-proof of all tents available.\",\n",
    "    response=\"The Alpine Explorer Tent is the most waterproof.\"\n",
    ")\n",
    "\n",
    "conversation_str =  \"\"\"{\"messages\": [ { \"content\": \"Which tent is the most waterproof?\", \"role\": \"user\" }, { \"content\": \"The Alpine Explorer Tent is the most waterproof\", \"role\": \"assistant\", \"context\": \"From the our product list the alpine explorer tent is the most waterproof. The Adventure Dining Table has higher weight.\" }, { \"content\": \"How much does it cost?\", \"role\": \"user\" }, { \"content\": \"$120.\", \"role\": \"assistant\", \"context\": \"The Alpine Explorer Tent is $120.\"} ] }\"\"\" \n",
    "conversation = json.loads(conversation_str)"
   ]
  },
  {
   "cell_type": "markdown",
   "metadata": {},
   "source": [
    "## 🧪 AI-assisted Groundedness evaluator\n",
    "- Prompt-based groundedness using your own model deployment to output a score and an explanation for the score is currently supported in all regions.\n",
    "- Groundedness Pro evaluator leverages Azure AI Content Safety Service (AACS) via integration into the Azure AI Foundry evaluations. No deployment is required, as a back-end service will provide the models for you to output a score and reasoning. Groundedness Pro is currently supported in the East US 2 and Sweden Central regions."
   ]
  },
  {
   "cell_type": "code",
   "execution_count": 20,
   "metadata": {},
   "outputs": [
    {
     "name": "stdout",
     "output_type": "stream",
     "text": [
      "{'groundedness': 5.0, 'gpt_groundedness': 5.0, 'groundedness_reason': 'The response accurately and completely answers the query using the information provided in the context.'}\n",
      "{'groundedness_pro_label': True, 'groundedness_pro_reason': 'All Contents are grounded'}\n",
      "{'groundedness': 5.0, 'gpt_groundedness': 5.0, 'evaluation_per_turn': {'groundedness': [5.0, 5.0], 'gpt_groundedness': [5.0, 5.0], 'groundedness_reason': ['The response is fully grounded in the context, accurately and completely answering the query with the relevant details provided.', 'The response is fully grounded in the context, providing a precise and complete answer to the query.']}}\n"
     ]
    }
   ],
   "source": [
    "# Initialzing Groundedness and Groundedness Pro evaluators\n",
    "groundedness_eval = GroundednessEvaluator(model_config)\n",
    "# No need to set the model_config for GroundednessProEvaluator\n",
    "groundedness_pro_eval = GroundednessProEvaluator(azure_ai_project=azure_ai_project, credential=credential)\n",
    "\n",
    "# query_response = dict(\n",
    "#     query=\"Which tent is the most waterproof?\", # optional\n",
    "#     context=\"The Alpine Explorer Tent is the most water-proof of all tents available.\",\n",
    "#     response=\"The Alpine Explorer Tent is the most waterproof.\"\n",
    "# )\n",
    "\n",
    "query_response = dict(\n",
    "    query=\"어떤 텐트가 방수 기능이 있어?\", # optional\n",
    "    context=\"알파인 익스플로러 텐트가 모든 텐트 중 가장 방수 기능이 뛰어남\",\n",
    "    response=\"알파인 익스플로러 텐트가 방수 기능이 있습니다.\"\n",
    ")\n",
    "\n",
    "# Running Groundedness Evaluator on a query and response pair\n",
    "groundedness_score = groundedness_eval(\n",
    "    **query_response\n",
    ")\n",
    "print(groundedness_score)\n",
    "\n",
    "# Running Groundedness Pro Evaluator on a query and response pair\n",
    "groundedness_pro_score = groundedness_pro_eval(\n",
    "    **query_response\n",
    ")\n",
    "print(groundedness_pro_score)\n",
    "\n",
    "# input conversation result for the groundedness evaluator\n",
    "groundedness_conv_score = groundedness_eval(conversation=conversation)\n",
    "print(groundedness_conv_score)"
   ]
  },
  {
   "cell_type": "markdown",
   "metadata": {},
   "source": [
    "## 🧪 AI-assisted RelevanceEvaluator\n",
    "- Relevance refers to how effectively a response addresses a question. It assesses the accuracy, completeness, and direct relevance of the response based solely on the given information."
   ]
  },
  {
   "cell_type": "code",
   "execution_count": null,
   "metadata": {},
   "outputs": [],
   "source": [
    "relevance_eval = RelevanceEvaluator(model_config)\n",
    "\n",
    "query_response = dict(\n",
    "    query=\"Which tent is the most waterproof?\",\n",
    "    #context=\"The Alpine Explorer Tent is the most water-proof of all tents available.\",\n",
    "    response=\"The Alpine Explorer Tent is the most waterproof.\"\n",
    ")\n",
    "\n",
    "relevance_score = relevance_eval(\n",
    "    **query_response\n",
    ")\n",
    "print(relevance_score)\n",
    "\n",
    "# input conversation result\n",
    "relevance_conv_score = relevance_eval(conversation=conversation)\n",
    "print(relevance_conv_score)"
   ]
  },
  {
   "cell_type": "markdown",
   "metadata": {},
   "source": [
    "## 🧪 AI-assisted CoherenceEvaluator\n",
    "- Coherence refers to the logical and orderly presentation of ideas in a response, allowing the reader to easily follow and understand the writer's train of thought. A coherent answer directly addresses the question with clear connections between sentences and paragraphs, using appropriate transitions and a logical sequence of ideas."
   ]
  },
  {
   "cell_type": "code",
   "execution_count": null,
   "metadata": {},
   "outputs": [],
   "source": [
    "coherence_eval = CoherenceEvaluator(model_config)\n",
    "\n",
    "query_response = dict(\n",
    "    query=\"Which tent is the most waterproof?\",\n",
    "    #context=\"The Alpine Explorer Tent is the most water-proof of all tents available.\",\n",
    "    response=\"The Alpine Explorer Tent is the most waterproof.\"\n",
    ")\n",
    "\n",
    "relevance_score = relevance_eval(\n",
    "    **query_response\n",
    ")\n",
    "print(relevance_score)\n",
    "\n",
    "relevance_conv_score = relevance_eval(conversation=conversation)\n",
    "print(relevance_conv_score)\n",
    "\n",
    "coherence_score = coherence_eval(\n",
    "    **query_response\n",
    ")\n",
    "print(coherence_score)\n",
    "\n",
    "# input conversation result\n",
    "coherence_conv_score = coherence_eval(conversation=conversation)\n",
    "print(coherence_conv_score)"
   ]
  },
  {
   "cell_type": "markdown",
   "metadata": {},
   "source": [
    "## 🧪 AI-assisted FluencyEvaluator\n",
    "- Fluency refers to the effectiveness and clarity of written communication, focusing on grammatical accuracy, vocabulary range, sentence complexity, coherence, and overall readability. It assesses how smoothly ideas are conveyed and how easily the text can be understood by the reader."
   ]
  },
  {
   "cell_type": "code",
   "execution_count": null,
   "metadata": {},
   "outputs": [],
   "source": [
    "fluency_eval = FluencyEvaluator(model_config)\n",
    "\n",
    "query_response = dict(\n",
    "    #query=\"Which tent is the most waterproof?\",\n",
    "    #context=\"The Alpine Explorer Tent is the most water-proof of all tents available.\",\n",
    "    response=\"The Alpine Explorer Tent is the most waterproof.\"\n",
    ")\n",
    "\n",
    "fluency_score = fluency_eval(\n",
    "    **query_response\n",
    ")\n",
    "print(fluency_score)\n",
    "\n",
    "# input conversation result\n",
    "fluency_conv_score = fluency_eval(conversation=conversation)\n",
    "print(fluency_conv_score)"
   ]
  },
  {
   "cell_type": "markdown",
   "metadata": {},
   "source": [
    "## 🧪 AI-assisted SimilarityEvaluator\n",
    "- The similarity metric is calculated by instructing a language model to follow the definition (in the description) and a set of grading rubrics, evaluate the user inputs, and output a score on a 5-point scale (higher means better quality). See the definition and grading rubrics below.\n",
    "- The recommended scenario is NLP tasks with a user query. Use it when you want an objective evaluation of an AI model's performance, particularly in text generation tasks where you have access to ground truth responses. Similarity enables you to assess the generated text's semantic alignment with the desired content, helping to gauge the model's quality and accuracy."
   ]
  },
  {
   "cell_type": "code",
   "execution_count": null,
   "metadata": {},
   "outputs": [],
   "source": [
    "similarity_eval = SimilarityEvaluator(model_config)\n",
    "\n",
    "\n",
    "query_response = dict(\n",
    "    query=\"Which tent is the most waterproof?\",\n",
    "    #context=\"The Alpine Explorer Tent is the most water-proof of all tents available.\",\n",
    "    response=\"The Alpine Explorer Tent is the most waterproof.\",\n",
    "    ground_truth=\"The Alpine Explorer tent has a rainfly waterproof rating of 2000mm\"\n",
    ")\n",
    "\n",
    "similarity_score = similarity_eval(\n",
    "    **query_response\n",
    ")\n",
    "print(similarity_score)\n",
    "\n",
    "# input conversation Not support\n",
    "# similarity_conv_score = similarity_eval(conversation=conversation)\n",
    "# print(similarity_conv_score)"
   ]
  },
  {
   "cell_type": "markdown",
   "metadata": {},
   "source": [
    "## 🚀 Run Evaluators with target model endpoint\n",
    "\n",
    "- We will use Evaluation SDK. It requires a target Application or python Function, which handles a call to LLMs and retrieve responses.\n",
    "- In the notebook, we will use an Application Target ModelEndpoint to get answers against provided question prompts.\n",
    "- multiple model endpoints example - https://github.com/Azure-Samples/azureai-samples/blob/main/scenarios/evaluate/Supported_Evaluation_Targets/Evaluate_Base_Model_Endpoint/model_endpoints.py"
   ]
  },
  {
   "cell_type": "code",
   "execution_count": 29,
   "metadata": {},
   "outputs": [
    {
     "name": "stdout",
     "output_type": "stream",
     "text": [
      "{'azure_endpoint': 'https://aoai-services1.services.ai.azure.com/', 'api_key': '32572ab337444af999eb7242997d56c9', 'azure_deployment': 'gpt-4o', 'api_version': '2024-08-01-preview', 'type': 'azure_openai'}\n",
      "Prompt flow service has started...\n",
      "You can view the traces in local from http://127.0.0.1:23333/v1.0/ui/traces/?#run=model_endpoint_modelendpoint_mnylam8q_20250115_022135_347108\n"
     ]
    },
    {
     "name": "stderr",
     "output_type": "stream",
     "text": [
      "[2025-01-15 02:21:35 +0000][promptflow._sdk._orchestrator.run_submitter][INFO] - Submitting run model_endpoint_modelendpoint_mnylam8q_20250115_022135_347108, log path: /home/vscode/.promptflow/.runs/model_endpoint_modelendpoint_mnylam8q_20250115_022135_347108/logs.txt\n"
     ]
    },
    {
     "name": "stdout",
     "output_type": "stream",
     "text": [
      "2025-01-15 02:21:42 +0000 3784107 execution.bulk     INFO     Process 3784179 terminated.\n",
      "2025-01-15 02:21:42 +0000 3784107 execution.bulk     WARNING  Process 3784185 had been terminated.\n",
      "2025-01-15 02:21:42 +0000 3784107 execution.bulk     WARNING  Process 3784168 had been terminated.\n",
      "2025-01-15 02:21:42 +0000 3784107 execution.bulk     INFO     Process 3784174 terminated.\n",
      "2025-01-15 02:21:35 +0000 3773338 execution.bulk     INFO     Current thread is not main thread, skip signal handler registration in BatchEngine.\n",
      "2025-01-15 02:21:35 +0000 3773338 execution          WARNING  Starting run without column mapping may lead to unexpected results. Please consult the following documentation for more information: https://aka.ms/pf/column-mapping\n",
      "2025-01-15 02:21:35 +0000 3773338 execution.bulk     INFO     Set process count to 4 by taking the minimum value among the factors of {'default_worker_count': 4, 'row_count': 4}.\n",
      "2025-01-15 02:21:37 +0000 3773338 execution.bulk     INFO     Process name(ForkProcess-8:3)-Process id(3784179)-Line number(0) start execution.\n",
      "2025-01-15 02:21:37 +0000 3773338 execution.bulk     INFO     Process name(ForkProcess-8:4)-Process id(3784185)-Line number(1) start execution.\n",
      "2025-01-15 02:21:37 +0000 3773338 execution.bulk     INFO     Process name(ForkProcess-8:2)-Process id(3784174)-Line number(2) start execution.\n",
      "2025-01-15 02:21:37 +0000 3773338 execution.bulk     INFO     Process name(ForkProcess-8:1)-Process id(3784168)-Line number(3) start execution.\n",
      "2025-01-15 02:21:37 +0000 3773338 execution.bulk     INFO     Process name(ForkProcess-8:3)-Process id(3784179)-Line number(0) completed.\n",
      "2025-01-15 02:21:38 +0000 3773338 execution.bulk     INFO     Finished 1 / 4 lines.\n",
      "2025-01-15 02:21:38 +0000 3773338 execution.bulk     INFO     Average execution time for completed lines: 3.0 seconds. Estimated time for incomplete lines: 9.0 seconds.\n",
      "2025-01-15 02:21:38 +0000 3773338 execution.bulk     INFO     Process name(ForkProcess-8:1)-Process id(3784168)-Line number(3) completed.\n",
      "2025-01-15 02:21:39 +0000 3773338 execution.bulk     INFO     Finished 2 / 4 lines.\n",
      "2025-01-15 02:21:39 +0000 3773338 execution.bulk     INFO     Average execution time for completed lines: 2.0 seconds. Estimated time for incomplete lines: 4.0 seconds.\n",
      "2025-01-15 02:21:40 +0000 3773338 execution.bulk     INFO     Process name(ForkProcess-8:2)-Process id(3784174)-Line number(2) completed.\n",
      "2025-01-15 02:21:40 +0000 3773338 execution.bulk     INFO     Finished 3 / 4 lines.\n",
      "2025-01-15 02:21:40 +0000 3773338 execution.bulk     INFO     Average execution time for completed lines: 1.67 seconds. Estimated time for incomplete lines: 1.67 seconds.\n",
      "2025-01-15 02:21:41 +0000 3773338 execution.bulk     INFO     Process name(ForkProcess-8:4)-Process id(3784185)-Line number(1) completed.\n",
      "2025-01-15 02:21:42 +0000 3773338 execution.bulk     INFO     Finished 4 / 4 lines.\n",
      "2025-01-15 02:21:42 +0000 3773338 execution.bulk     INFO     Average execution time for completed lines: 1.75 seconds. Estimated time for incomplete lines: 0.0 seconds.\n",
      "2025-01-15 02:21:42 +0000 3773338 execution.bulk     INFO     The thread monitoring the process [3784179-ForkProcess-8:3] will be terminated.\n",
      "2025-01-15 02:21:42 +0000 3773338 execution.bulk     INFO     The thread monitoring the process [3784168-ForkProcess-8:1] will be terminated.\n",
      "2025-01-15 02:21:42 +0000 3773338 execution.bulk     INFO     The thread monitoring the process [3784185-ForkProcess-8:4] will be terminated.\n",
      "2025-01-15 02:21:42 +0000 3773338 execution.bulk     INFO     The thread monitoring the process [3784174-ForkProcess-8:2] will be terminated.\n",
      "2025-01-15 02:21:42 +0000 3784179 execution.bulk     INFO     The process [3784179] has received a terminate signal.\n",
      "2025-01-15 02:21:42 +0000 3784168 execution.bulk     INFO     The process [3784168] has received a terminate signal.\n",
      "2025-01-15 02:21:42 +0000 3784185 execution.bulk     INFO     The process [3784185] has received a terminate signal.\n",
      "2025-01-15 02:21:42 +0000 3784174 execution.bulk     INFO     The process [3784174] has received a terminate signal.\n",
      "======= Run Summary =======\n",
      "\n",
      "Run name: \"model_endpoint_modelendpoint_mnylam8q_20250115_022135_347108\"\n",
      "Run status: \"Completed\"\n",
      "Start time: \"2025-01-15 02:21:35.346389+00:00\"\n",
      "Duration: \"0:00:08.190798\"\n",
      "Output path: \"/home/vscode/.promptflow/.runs/model_endpoint_modelendpoint_mnylam8q_20250115_022135_347108\"\n",
      "\n",
      "Prompt flow service has started...\n",
      "You can view the traces in local from http://127.0.0.1:23333/v1.0/ui/traces/?#run=azure_ai_evaluation_evaluators_common_base_eval_asyncevaluatorbase_mmsxunym_20250115_022143_614806\n",
      "Prompt flow service has started...\n",
      "Prompt flow service has started...\n",
      "You can view the traces in local from http://127.0.0.1:23333/v1.0/ui/traces/?#run=azure_ai_evaluation_evaluators_common_base_eval_asyncevaluatorbase_jm5c8fw1_20250115_022143_623889\n",
      "You can view the traces in local from http://127.0.0.1:23333/v1.0/ui/traces/?#run=azure_ai_evaluation_evaluators_common_base_eval_asyncevaluatorbase_owt3qj_y_20250115_022143_620558\n",
      "Prompt flow service has started...\n",
      "You can view the traces in local from http://127.0.0.1:23333/v1.0/ui/traces/?#run=azure_ai_evaluation_evaluators_common_base_eval_asyncevaluatorbase_p6d4dgna_20250115_022143_629848\n",
      "Prompt flow service has started...\n"
     ]
    },
    {
     "name": "stderr",
     "output_type": "stream",
     "text": [
      "[2025-01-15 02:21:43 +0000][promptflow._core.entry_meta_generator][WARNING] - Generate meta in current process and timeout won't take effect. Please handle timeout manually outside current process.\n",
      "[2025-01-15 02:21:43 +0000][promptflow._core.entry_meta_generator][WARNING] - Generate meta in current process and timeout won't take effect. Please handle timeout manually outside current process.\n",
      "[2025-01-15 02:21:43 +0000][promptflow._core.entry_meta_generator][WARNING] - Generate meta in current process and timeout won't take effect. Please handle timeout manually outside current process.\n",
      "[2025-01-15 02:21:43 +0000][promptflow._sdk._orchestrator.run_submitter][INFO] - Submitting run azure_ai_evaluation_evaluators_common_base_eval_asyncevaluatorbase_mmsxunym_20250115_022143_614806, log path: /home/vscode/.promptflow/.runs/azure_ai_evaluation_evaluators_common_base_eval_asyncevaluatorbase_mmsxunym_20250115_022143_614806/logs.txt\n",
      "[2025-01-15 02:21:43 +0000][promptflow._sdk._orchestrator.run_submitter][INFO] - Submitting run azure_ai_evaluation_evaluators_common_base_eval_asyncevaluatorbase_p6d4dgna_20250115_022143_629848, log path: /home/vscode/.promptflow/.runs/azure_ai_evaluation_evaluators_common_base_eval_asyncevaluatorbase_p6d4dgna_20250115_022143_629848/logs.txt\n",
      "[2025-01-15 02:21:43 +0000][promptflow._core.entry_meta_generator][WARNING] - Generate meta in current process and timeout won't take effect. Please handle timeout manually outside current process.\n",
      "[2025-01-15 02:21:43 +0000][promptflow._core.entry_meta_generator][WARNING] - Generate meta in current process and timeout won't take effect. Please handle timeout manually outside current process.\n",
      "[2025-01-15 02:21:43 +0000][promptflow._sdk._orchestrator.run_submitter][INFO] - Submitting run azure_ai_evaluation_evaluators_common_base_eval_asyncevaluatorbase_jm5c8fw1_20250115_022143_623889, log path: /home/vscode/.promptflow/.runs/azure_ai_evaluation_evaluators_common_base_eval_asyncevaluatorbase_jm5c8fw1_20250115_022143_623889/logs.txt\n",
      "[2025-01-15 02:21:43 +0000][promptflow._sdk._orchestrator.run_submitter][INFO] - Submitting run azure_ai_evaluation_evaluators_similarity_similarity_asyncsimilarityevaluator_r63cg016_20250115_022143_650544, log path: /home/vscode/.promptflow/.runs/azure_ai_evaluation_evaluators_similarity_similarity_asyncsimilarityevaluator_r63cg016_20250115_022143_650544/logs.txt\n",
      "[2025-01-15 02:21:43 +0000][promptflow._sdk._orchestrator.run_submitter][INFO] - Submitting run azure_ai_evaluation_evaluators_common_base_eval_asyncevaluatorbase_owt3qj_y_20250115_022143_620558, log path: /home/vscode/.promptflow/.runs/azure_ai_evaluation_evaluators_common_base_eval_asyncevaluatorbase_owt3qj_y_20250115_022143_620558/logs.txt\n",
      "[2025-01-15 02:21:43 +0000][promptflow._core.entry_meta_generator][WARNING] - Generate meta in current process and timeout won't take effect. Please handle timeout manually outside current process.\n",
      "[2025-01-15 02:21:43 +0000][promptflow._sdk._orchestrator.run_submitter][INFO] - Submitting run azure_ai_evaluation_evaluators_common_base_eval_asyncevaluatorbase_zid_1oxd_20250115_022143_626017, log path: /home/vscode/.promptflow/.runs/azure_ai_evaluation_evaluators_common_base_eval_asyncevaluatorbase_zid_1oxd_20250115_022143_626017/logs.txt\n",
      "[2025-01-15 02:21:43 +0000][promptflow._core.entry_meta_generator][WARNING] - Generate meta in current process and timeout won't take effect. Please handle timeout manually outside current process.\n"
     ]
    },
    {
     "name": "stdout",
     "output_type": "stream",
     "text": [
      "You can view the traces in local from http://127.0.0.1:23333/v1.0/ui/traces/?#run=azure_ai_evaluation_evaluators_similarity_similarity_asyncsimilarityevaluator_r63cg016_20250115_022143_650544\n",
      "Prompt flow service has started...\n",
      "You can view the traces in local from http://127.0.0.1:23333/v1.0/ui/traces/?#run=azure_ai_evaluation_evaluators_common_base_eval_asyncevaluatorbase_zid_1oxd_20250115_022143_626017\n",
      "Prompt flow service has started...\n",
      "You can view the traces in local from http://127.0.0.1:23333/v1.0/ui/traces/?#run=azure_ai_evaluation_evaluators_common_base_eval_asyncevaluatorbase_afoibvge_20250115_022143_779142\n"
     ]
    },
    {
     "name": "stderr",
     "output_type": "stream",
     "text": [
      "[2025-01-15 02:21:44 +0000][promptflow._sdk._orchestrator.run_submitter][INFO] - Submitting run azure_ai_evaluation_evaluators_common_base_eval_asyncevaluatorbase_afoibvge_20250115_022143_779142, log path: /home/vscode/.promptflow/.runs/azure_ai_evaluation_evaluators_common_base_eval_asyncevaluatorbase_afoibvge_20250115_022143_779142/logs.txt\n"
     ]
    },
    {
     "name": "stdout",
     "output_type": "stream",
     "text": [
      "2025-01-15 02:21:44 +0000 3773338 execution.bulk     INFO     Current thread is not main thread, skip signal handler registration in BatchEngine.\n",
      "2025-01-15 02:21:44 +0000 3773338 execution.bulk     INFO     Finished 1 / 4 lines.\n",
      "2025-01-15 02:21:44 +0000 3773338 execution.bulk     INFO     Average execution time for completed lines: 0.96 seconds. Estimated time for incomplete lines: 2.88 seconds.\n",
      "2025-01-15 02:21:44 +0000 3773338 execution.bulk     INFO     Finished 2 / 4 lines.\n",
      "2025-01-15 02:21:44 +0000 3773338 execution.bulk     INFO     Average execution time for completed lines: 0.49 seconds. Estimated time for incomplete lines: 0.98 seconds.\n",
      "2025-01-15 02:21:44 +0000 3773338 execution.bulk     INFO     Finished 3 / 4 lines.\n",
      "2025-01-15 02:21:44 +0000 3773338 execution.bulk     INFO     Average execution time for completed lines: 0.33 seconds. Estimated time for incomplete lines: 0.33 seconds.\n",
      "2025-01-15 02:21:44 +0000 3773338 execution.bulk     INFO     Finished 4 / 4 lines.\n",
      "2025-01-15 02:21:44 +0000 3773338 execution.bulk     INFO     Average execution time for completed lines: 0.25 seconds. Estimated time for incomplete lines: 0.0 seconds.\n",
      "======= Run Summary =======\n",
      "\n",
      "Run name: \"azure_ai_evaluation_evaluators_similarity_similarity_asyncsimilarityevaluator_r63cg016_20250115_022143_650544\"\n",
      "Run status: \"Completed\"\n",
      "Start time: \"2025-01-15 02:21:43.632431+00:00\"\n",
      "Duration: \"0:00:01.416501\"\n",
      "Output path: \"/home/vscode/.promptflow/.runs/azure_ai_evaluation_evaluators_similarity_similarity_asyncsimilarityevaluator_r63cg016_20250115_022143_650544\"\n",
      "\n",
      "2025-01-15 02:21:46 +0000 3773338 execution.bulk     INFO     Finished 1 / 4 lines.\n",
      "2025-01-15 02:21:46 +0000 3773338 execution.bulk     INFO     Average execution time for completed lines: 2.01 seconds. Estimated time for incomplete lines: 6.03 seconds.\n",
      "2025-01-15 02:21:46 +0000 3773338 execution.bulk     INFO     Finished 1 / 4 lines.\n",
      "2025-01-15 02:21:46 +0000 3773338 execution.bulk     INFO     Average execution time for completed lines: 2.37 seconds. Estimated time for incomplete lines: 7.11 seconds.\n",
      "2025-01-15 02:21:46 +0000 3773338 execution.bulk     INFO     Finished 2 / 4 lines.\n",
      "2025-01-15 02:21:46 +0000 3773338 execution.bulk     INFO     Average execution time for completed lines: 1.16 seconds. Estimated time for incomplete lines: 2.32 seconds.\n",
      "2025-01-15 02:21:46 +0000 3773338 execution.bulk     INFO     Finished 1 / 4 lines.\n",
      "2025-01-15 02:21:46 +0000 3773338 execution.bulk     INFO     Average execution time for completed lines: 2.36 seconds. Estimated time for incomplete lines: 7.08 seconds.\n",
      "2025-01-15 02:21:46 +0000 3773338 execution.bulk     INFO     Finished 1 / 4 lines.\n",
      "2025-01-15 02:21:46 +0000 3773338 execution.bulk     INFO     Average execution time for completed lines: 2.46 seconds. Estimated time for incomplete lines: 7.38 seconds.\n",
      "2025-01-15 02:21:46 +0000 3773338 execution.bulk     INFO     Finished 2 / 4 lines.\n",
      "2025-01-15 02:21:46 +0000 3773338 execution.bulk     INFO     Average execution time for completed lines: 1.26 seconds. Estimated time for incomplete lines: 2.52 seconds.\n",
      "2025-01-15 02:21:46 +0000 3773338 execution.bulk     INFO     Finished 1 / 4 lines.\n",
      "2025-01-15 02:21:46 +0000 3773338 execution.bulk     INFO     Average execution time for completed lines: 2.57 seconds. Estimated time for incomplete lines: 7.71 seconds.\n",
      "2025-01-15 02:21:46 +0000 3773338 execution.bulk     INFO     Finished 3 / 4 lines.\n",
      "2025-01-15 02:21:46 +0000 3773338 execution.bulk     INFO     Average execution time for completed lines: 0.85 seconds. Estimated time for incomplete lines: 0.85 seconds.\n",
      "2025-01-15 02:21:46 +0000 3773338 execution.bulk     INFO     Finished 3 / 4 lines.\n",
      "2025-01-15 02:21:46 +0000 3773338 execution.bulk     INFO     Average execution time for completed lines: 0.99 seconds. Estimated time for incomplete lines: 0.99 seconds.\n",
      "2025-01-15 02:21:47 +0000 3773338 execution.bulk     INFO     Finished 4 / 4 lines.\n",
      "2025-01-15 02:21:47 +0000 3773338 execution.bulk     INFO     Average execution time for completed lines: 0.75 seconds. Estimated time for incomplete lines: 0.0 seconds.\n",
      "2025-01-15 02:21:47 +0000 3773338 execution.bulk     INFO     Finished 2 / 4 lines.\n",
      "2025-01-15 02:21:47 +0000 3773338 execution.bulk     INFO     Average execution time for completed lines: 1.5 seconds. Estimated time for incomplete lines: 3.0 seconds.\n",
      "2025-01-15 02:21:44 +0000 3773338 execution.bulk     INFO     Current thread is not main thread, skip signal handler registration in BatchEngine.\n",
      "2025-01-15 02:21:46 +0000 3773338 execution.bulk     INFO     Finished 1 / 4 lines.\n",
      "2025-01-15 02:21:46 +0000 3773338 execution.bulk     INFO     Average execution time for completed lines: 2.01 seconds. Estimated time for incomplete lines: 6.03 seconds.\n",
      "2025-01-15 02:21:46 +0000 3773338 execution.bulk     INFO     Finished 2 / 4 lines.\n",
      "2025-01-15 02:21:46 +0000 3773338 execution.bulk     INFO     Average execution time for completed lines: 1.16 seconds. Estimated time for incomplete lines: 2.32 seconds.\n",
      "2025-01-15 02:21:46 +0000 3773338 execution.bulk     INFO     Finished 3 / 4 lines.\n",
      "2025-01-15 02:21:46 +0000 3773338 execution.bulk     INFO     Average execution time for completed lines: 0.99 seconds. Estimated time for incomplete lines: 0.99 seconds.\n",
      "2025-01-15 02:21:47 +0000 3773338 execution.bulk     INFO     Finished 4 / 4 lines.\n",
      "2025-01-15 02:21:47 +0000 3773338 execution.bulk     INFO     Average execution time for completed lines: 0.75 seconds. Estimated time for incomplete lines: 0.0 seconds.\n",
      "======= Run Summary =======\n",
      "\n",
      "Run name: \"azure_ai_evaluation_evaluators_common_base_eval_asyncevaluatorbase_jm5c8fw1_20250115_022143_623889\"\n",
      "Run status: \"Completed\"\n",
      "Start time: \"2025-01-15 02:21:43.613223+00:00\"\n",
      "Duration: \"0:00:03.506748\"\n",
      "Output path: \"/home/vscode/.promptflow/.runs/azure_ai_evaluation_evaluators_common_base_eval_asyncevaluatorbase_jm5c8fw1_20250115_022143_623889\"\n",
      "\n",
      "2025-01-15 02:21:47 +0000 3773338 execution.bulk     INFO     Finished 2 / 4 lines.\n",
      "2025-01-15 02:21:47 +0000 3773338 execution.bulk     INFO     Average execution time for completed lines: 1.61 seconds. Estimated time for incomplete lines: 3.22 seconds.\n",
      "2025-01-15 02:21:47 +0000 3773338 execution.bulk     INFO     Finished 3 / 4 lines.\n",
      "2025-01-15 02:21:47 +0000 3773338 execution.bulk     INFO     Average execution time for completed lines: 1.05 seconds. Estimated time for incomplete lines: 1.05 seconds.\n",
      "2025-01-15 02:21:47 +0000 3773338 execution.bulk     INFO     Finished 2 / 4 lines.\n",
      "2025-01-15 02:21:47 +0000 3773338 execution.bulk     INFO     Average execution time for completed lines: 1.78 seconds. Estimated time for incomplete lines: 3.56 seconds.\n",
      "2025-01-15 02:21:47 +0000 3773338 execution.bulk     INFO     Finished 3 / 4 lines.\n",
      "2025-01-15 02:21:47 +0000 3773338 execution.bulk     INFO     Average execution time for completed lines: 1.19 seconds. Estimated time for incomplete lines: 1.19 seconds.\n",
      "2025-01-15 02:21:47 +0000 3773338 execution.bulk     INFO     Finished 4 / 4 lines.\n",
      "2025-01-15 02:21:47 +0000 3773338 execution.bulk     INFO     Average execution time for completed lines: 0.87 seconds. Estimated time for incomplete lines: 0.0 seconds.\n",
      "2025-01-15 02:21:47 +0000 3773338 execution.bulk     INFO     Finished 3 / 4 lines.\n",
      "2025-01-15 02:21:47 +0000 3773338 execution.bulk     INFO     Average execution time for completed lines: 1.28 seconds. Estimated time for incomplete lines: 1.28 seconds.\n",
      "2025-01-15 02:21:47 +0000 3773338 execution.bulk     INFO     Finished 4 / 4 lines.\n",
      "2025-01-15 02:21:47 +0000 3773338 execution.bulk     INFO     Average execution time for completed lines: 0.98 seconds. Estimated time for incomplete lines: 0.0 seconds.\n",
      "2025-01-15 02:21:43 +0000 3773338 execution.bulk     INFO     Current thread is not main thread, skip signal handler registration in BatchEngine.\n",
      "2025-01-15 02:21:46 +0000 3773338 execution.bulk     INFO     Finished 1 / 4 lines.\n",
      "2025-01-15 02:21:46 +0000 3773338 execution.bulk     INFO     Average execution time for completed lines: 2.37 seconds. Estimated time for incomplete lines: 7.11 seconds.\n",
      "2025-01-15 02:21:47 +0000 3773338 execution.bulk     INFO     Finished 2 / 4 lines.\n",
      "2025-01-15 02:21:47 +0000 3773338 execution.bulk     INFO     Average execution time for completed lines: 1.61 seconds. Estimated time for incomplete lines: 3.22 seconds.\n",
      "2025-01-15 02:21:47 +0000 3773338 execution.bulk     INFO     Finished 3 / 4 lines.\n",
      "2025-01-15 02:21:47 +0000 3773338 execution.bulk     INFO     Average execution time for completed lines: 1.28 seconds. Estimated time for incomplete lines: 1.28 seconds.\n",
      "2025-01-15 02:21:47 +0000 3773338 execution.bulk     INFO     Finished 4 / 4 lines.\n",
      "2025-01-15 02:21:47 +0000 3773338 execution.bulk     INFO     Average execution time for completed lines: 0.98 seconds. Estimated time for incomplete lines: 0.0 seconds.\n",
      "======= Run Summary =======\n",
      "\n",
      "Run name: \"azure_ai_evaluation_evaluators_common_base_eval_asyncevaluatorbase_mmsxunym_20250115_022143_614806\"\n",
      "Run status: \"Completed\"\n",
      "Start time: \"2025-01-15 02:21:43.607805+00:00\"\n",
      "Duration: \"0:00:04.411389\"\n",
      "Output path: \"/home/vscode/.promptflow/.runs/azure_ai_evaluation_evaluators_common_base_eval_asyncevaluatorbase_mmsxunym_20250115_022143_614806\"\n",
      "\n",
      "2025-01-15 02:21:44 +0000 3773338 execution.bulk     INFO     Current thread is not main thread, skip signal handler registration in BatchEngine.\n",
      "2025-01-15 02:21:46 +0000 3773338 execution.bulk     INFO     Finished 1 / 4 lines.\n",
      "2025-01-15 02:21:46 +0000 3773338 execution.bulk     INFO     Average execution time for completed lines: 2.57 seconds. Estimated time for incomplete lines: 7.71 seconds.\n",
      "2025-01-15 02:21:47 +0000 3773338 execution.bulk     INFO     Finished 2 / 4 lines.\n",
      "2025-01-15 02:21:47 +0000 3773338 execution.bulk     INFO     Average execution time for completed lines: 1.5 seconds. Estimated time for incomplete lines: 3.0 seconds.\n",
      "2025-01-15 02:21:47 +0000 3773338 execution.bulk     INFO     Finished 3 / 4 lines.\n",
      "2025-01-15 02:21:47 +0000 3773338 execution.bulk     INFO     Average execution time for completed lines: 1.05 seconds. Estimated time for incomplete lines: 1.05 seconds.\n",
      "2025-01-15 02:21:47 +0000 3773338 execution.bulk     INFO     Finished 4 / 4 lines.\n",
      "2025-01-15 02:21:47 +0000 3773338 execution.bulk     INFO     Average execution time for completed lines: 0.87 seconds. Estimated time for incomplete lines: 0.0 seconds.\n",
      "======= Run Summary =======\n",
      "\n",
      "Run name: \"azure_ai_evaluation_evaluators_common_base_eval_asyncevaluatorbase_zid_1oxd_20250115_022143_626017\"\n",
      "Run status: \"Completed\"\n",
      "Start time: \"2025-01-15 02:21:43.622779+00:00\"\n",
      "Duration: \"0:00:04.538267\"\n",
      "Output path: \"/home/vscode/.promptflow/.runs/azure_ai_evaluation_evaluators_common_base_eval_asyncevaluatorbase_zid_1oxd_20250115_022143_626017\"\n",
      "\n",
      "2025-01-15 02:21:51 +0000 3773338 execution.bulk     INFO     Finished 4 / 4 lines.\n",
      "2025-01-15 02:21:51 +0000 3773338 execution.bulk     INFO     Average execution time for completed lines: 1.81 seconds. Estimated time for incomplete lines: 0.0 seconds.\n",
      "2025-01-15 02:21:44 +0000 3773338 execution.bulk     INFO     Current thread is not main thread, skip signal handler registration in BatchEngine.\n",
      "2025-01-15 02:21:46 +0000 3773338 execution.bulk     INFO     Finished 1 / 4 lines.\n",
      "2025-01-15 02:21:46 +0000 3773338 execution.bulk     INFO     Average execution time for completed lines: 2.46 seconds. Estimated time for incomplete lines: 7.38 seconds.\n",
      "2025-01-15 02:21:46 +0000 3773338 execution.bulk     INFO     Finished 2 / 4 lines.\n",
      "2025-01-15 02:21:46 +0000 3773338 execution.bulk     INFO     Average execution time for completed lines: 1.26 seconds. Estimated time for incomplete lines: 2.52 seconds.\n",
      "2025-01-15 02:21:46 +0000 3773338 execution.bulk     INFO     Finished 3 / 4 lines.\n",
      "2025-01-15 02:21:46 +0000 3773338 execution.bulk     INFO     Average execution time for completed lines: 0.85 seconds. Estimated time for incomplete lines: 0.85 seconds.\n",
      "2025-01-15 02:21:51 +0000 3773338 execution.bulk     INFO     Finished 4 / 4 lines.\n",
      "2025-01-15 02:21:51 +0000 3773338 execution.bulk     INFO     Average execution time for completed lines: 1.81 seconds. Estimated time for incomplete lines: 0.0 seconds.\n",
      "======= Run Summary =======\n",
      "\n",
      "Run name: \"azure_ai_evaluation_evaluators_common_base_eval_asyncevaluatorbase_afoibvge_20250115_022143_779142\"\n",
      "Run status: \"Completed\"\n",
      "Start time: \"2025-01-15 02:21:43.778358+00:00\"\n",
      "Duration: \"0:00:08.424011\"\n",
      "Output path: \"/home/vscode/.promptflow/.runs/azure_ai_evaluation_evaluators_common_base_eval_asyncevaluatorbase_afoibvge_20250115_022143_779142\"\n",
      "\n",
      "2025-01-15 02:21:54 +0000 3773338 execution.bulk     INFO     Finished 4 / 4 lines.\n",
      "2025-01-15 02:21:54 +0000 3773338 execution.bulk     INFO     Average execution time for completed lines: 2.7 seconds. Estimated time for incomplete lines: 0.0 seconds.\n",
      "2025-01-15 02:21:44 +0000 3773338 execution.bulk     INFO     Current thread is not main thread, skip signal handler registration in BatchEngine.\n",
      "2025-01-15 02:21:46 +0000 3773338 execution.bulk     INFO     Finished 1 / 4 lines.\n",
      "2025-01-15 02:21:46 +0000 3773338 execution.bulk     INFO     Average execution time for completed lines: 2.36 seconds. Estimated time for incomplete lines: 7.08 seconds.\n",
      "2025-01-15 02:21:47 +0000 3773338 execution.bulk     INFO     Finished 2 / 4 lines.\n",
      "2025-01-15 02:21:47 +0000 3773338 execution.bulk     INFO     Average execution time for completed lines: 1.78 seconds. Estimated time for incomplete lines: 3.56 seconds.\n",
      "2025-01-15 02:21:47 +0000 3773338 execution.bulk     INFO     Finished 3 / 4 lines.\n",
      "2025-01-15 02:21:47 +0000 3773338 execution.bulk     INFO     Average execution time for completed lines: 1.19 seconds. Estimated time for incomplete lines: 1.19 seconds.\n",
      "2025-01-15 02:21:54 +0000 3773338 execution.bulk     INFO     Finished 4 / 4 lines.\n",
      "2025-01-15 02:21:54 +0000 3773338 execution.bulk     INFO     Average execution time for completed lines: 2.7 seconds. Estimated time for incomplete lines: 0.0 seconds.\n",
      "======= Run Summary =======\n",
      "\n",
      "Run name: \"azure_ai_evaluation_evaluators_common_base_eval_asyncevaluatorbase_owt3qj_y_20250115_022143_620558\"\n",
      "Run status: \"Completed\"\n",
      "Start time: \"2025-01-15 02:21:43.613939+00:00\"\n",
      "Duration: \"0:00:11.526114\"\n",
      "Output path: \"/home/vscode/.promptflow/.runs/azure_ai_evaluation_evaluators_common_base_eval_asyncevaluatorbase_owt3qj_y_20250115_022143_620558\"\n",
      "\n",
      "2025-01-15 02:22:19 +0000 3773338 execution.bulk     INFO     Finished 4 / 4 lines.\n",
      "2025-01-15 02:22:19 +0000 3773338 execution.bulk     INFO     Average execution time for completed lines: 8.85 seconds. Estimated time for incomplete lines: 0.0 seconds.\n",
      "2025-01-15 02:21:44 +0000 3773338 execution.bulk     INFO     Current thread is not main thread, skip signal handler registration in BatchEngine.\n",
      "2025-01-15 02:22:19 +0000 3773338 execution.bulk     INFO     Finished 4 / 4 lines.\n",
      "2025-01-15 02:22:19 +0000 3773338 execution.bulk     INFO     Average execution time for completed lines: 8.85 seconds. Estimated time for incomplete lines: 0.0 seconds.\n",
      "======= Run Summary =======\n",
      "\n",
      "Run name: \"azure_ai_evaluation_evaluators_common_base_eval_asyncevaluatorbase_p6d4dgna_20250115_022143_629848\"\n",
      "Run status: \"Completed\"\n",
      "Start time: \"2025-01-15 02:21:43.617397+00:00\"\n",
      "Duration: \"0:00:35.755871\"\n",
      "Output path: \"/home/vscode/.promptflow/.runs/azure_ai_evaluation_evaluators_common_base_eval_asyncevaluatorbase_p6d4dgna_20250115_022143_629848\"\n",
      "\n",
      "======= Combined Run Summary (Per Evaluator) =======\n",
      "\n",
      "{\n",
      "    \"content_safety\": {\n",
      "        \"status\": \"Completed\",\n",
      "        \"duration\": \"0:00:35.755871\",\n",
      "        \"completed_lines\": 4,\n",
      "        \"failed_lines\": 0,\n",
      "        \"log_path\": \"/home/vscode/.promptflow/.runs/azure_ai_evaluation_evaluators_common_base_eval_asyncevaluatorbase_p6d4dgna_20250115_022143_629848\"\n",
      "    },\n",
      "    \"coherence\": {\n",
      "        \"status\": \"Completed\",\n",
      "        \"duration\": \"0:00:04.538267\",\n",
      "        \"completed_lines\": 4,\n",
      "        \"failed_lines\": 0,\n",
      "        \"log_path\": \"/home/vscode/.promptflow/.runs/azure_ai_evaluation_evaluators_common_base_eval_asyncevaluatorbase_zid_1oxd_20250115_022143_626017\"\n",
      "    },\n",
      "    \"retrieval_score\": {\n",
      "        \"status\": \"Completed\",\n",
      "        \"duration\": \"0:00:04.411389\",\n",
      "        \"completed_lines\": 4,\n",
      "        \"failed_lines\": 0,\n",
      "        \"log_path\": \"/home/vscode/.promptflow/.runs/azure_ai_evaluation_evaluators_common_base_eval_asyncevaluatorbase_mmsxunym_20250115_022143_614806\"\n",
      "    },\n",
      "    \"relevance\": {\n",
      "        \"status\": \"Completed\",\n",
      "        \"duration\": \"0:00:03.506748\",\n",
      "        \"completed_lines\": 4,\n",
      "        \"failed_lines\": 0,\n",
      "        \"log_path\": \"/home/vscode/.promptflow/.runs/azure_ai_evaluation_evaluators_common_base_eval_asyncevaluatorbase_jm5c8fw1_20250115_022143_623889\"\n",
      "    },\n",
      "    \"groundedness\": {\n",
      "        \"status\": \"Completed\",\n",
      "        \"duration\": \"0:00:11.526114\",\n",
      "        \"completed_lines\": 4,\n",
      "        \"failed_lines\": 0,\n",
      "        \"log_path\": \"/home/vscode/.promptflow/.runs/azure_ai_evaluation_evaluators_common_base_eval_asyncevaluatorbase_owt3qj_y_20250115_022143_620558\"\n",
      "    },\n",
      "    \"fluency\": {\n",
      "        \"status\": \"Completed\",\n",
      "        \"duration\": \"0:00:08.424011\",\n",
      "        \"completed_lines\": 4,\n",
      "        \"failed_lines\": 0,\n",
      "        \"log_path\": \"/home/vscode/.promptflow/.runs/azure_ai_evaluation_evaluators_common_base_eval_asyncevaluatorbase_afoibvge_20250115_022143_779142\"\n",
      "    },\n",
      "    \"similarity\": {\n",
      "        \"status\": \"Completed\",\n",
      "        \"duration\": \"0:00:01.416501\",\n",
      "        \"completed_lines\": 4,\n",
      "        \"failed_lines\": 0,\n",
      "        \"log_path\": \"/home/vscode/.promptflow/.runs/azure_ai_evaluation_evaluators_similarity_similarity_asyncsimilarityevaluator_r63cg016_20250115_022143_650544\"\n",
      "    }\n",
      "}\n",
      "\n",
      "====================================================\n",
      "\n",
      "Evaluation results saved to \"/afh/code/Azure_OpenAI_samples/Azure AI Evaluation SDK/output.json\".\n",
      "\n"
     ]
    }
   ],
   "source": [
    "groundedness_evaluator = GroundednessEvaluator(model_config)\n",
    "relevance_evaluator = RelevanceEvaluator(model_config)\n",
    "retrieval_evaluator = RetrievalEvaluator(model_config)\n",
    "coherence_evaluator = CoherenceEvaluator(model_config)\n",
    "fluency_evaluator = FluencyEvaluator(model_config)\n",
    "similarity_evaluator = SimilarityEvaluator(model_config)\n",
    "content_safety_evaluator = ContentSafetyEvaluator(\n",
    "    azure_ai_project=azure_ai_project, credential=DefaultAzureCredential()\n",
    ")\n",
    "\n",
    "path = str(pathlib.Path(pathlib.Path.cwd())) + \"/data/data_ko.jsonl\"\n",
    "\n",
    "results = evaluate(\n",
    "    evaluation_name=\"Eval-Run-\" + \"-\" + model_config[\"azure_deployment\"].title(),\n",
    "    data=path,\n",
    "    target=ModelEndpoint(model_config),\n",
    "    evaluators={\n",
    "        \"content_safety\": content_safety_evaluator,\n",
    "        \"coherence\": coherence_evaluator,\n",
    "        \"retrieval_score\": retrieval_evaluator,\n",
    "        \"relevance\": relevance_evaluator,\n",
    "        \"groundedness\": groundedness_evaluator,\n",
    "        \"fluency\": fluency_evaluator,\n",
    "        \"similarity\": similarity_evaluator,\n",
    "    },\n",
    "    evaluator_config={\n",
    "        \"content_safety\": {\"column_mapping\": {\"query\": \"${data.query}\", \"response\": \"${target.response}\"}},\n",
    "        \"coherence\": {\"column_mapping\": {\"response\": \"${target.response}\", \"query\": \"${data.query}\"}},\n",
    "        \"relevance\": {\n",
    "            \"column_mapping\": {\"response\": \"${target.response}\", \"context\": \"${data.context}\", \"query\": \"${data.query}\"}\n",
    "        },\n",
    "        \"retrieval_score\": {\n",
    "            \"column_mapping\": {\"context\": \"${data.context}\", \"query\": \"${data.query}\"}\n",
    "        },\n",
    "        \"groundedness\": {\n",
    "            \"column_mapping\": {\n",
    "                \"response\": \"${target.response}\",\n",
    "                \"context\": \"${data.context}\",\n",
    "                \"query\": \"${data.query}\",\n",
    "            }\n",
    "        },\n",
    "        \"fluency\": {\n",
    "            \"column_mapping\": {\"response\": \"${target.response}\"}\n",
    "        },\n",
    "        \"similarity\": {\n",
    "            \"column_mapping\": {\"response\": \"${target.response}\", \"query\": \"${data.query}\"}\n",
    "        },\n",
    "    },\n",
    "    output_path=\"output.json\",\n",
    ")"
   ]
  },
  {
   "cell_type": "markdown",
   "metadata": {},
   "source": [
    "## 🚀 Run Evaluators in Azure Cloud"
   ]
  },
  {
   "cell_type": "code",
   "execution_count": 23,
   "metadata": {},
   "outputs": [],
   "source": [
    "project_client = AIProjectClient.from_connection_string(\n",
    "    credential=DefaultAzureCredential(),\n",
    "    conn_str=os.environ.get(\"AZURE_AI_PROJECT_CONN_STR\"),  # At the moment, it should be in the format \"<Region>.api.azureml.ms;<AzureSubscriptionId>;<ResourceGroup>;<HubName>\" Ex: eastus2.api.azureml.ms;xxxxxxxxx-xxxx-xxxx-xxxx-xxxxxxxxxxxxxxx;rg-sample;sample-project-eastus2\n",
    ")"
   ]
  },
  {
   "cell_type": "code",
   "execution_count": 22,
   "metadata": {},
   "outputs": [],
   "source": [
    "# id for each evaluator can be found in your AI Studio registry - please see documentation for more information\n",
    "# init_params is the configuration for the model to use to perform the evaluation\n",
    "# data_mapping is used to map the output columns of your query to the names required by the evaluator\n",
    "# Evaluator parameter format - https://learn.microsoft.com/en-us/azure/ai-studio/how-to/develop/evaluate-sdk#evaluator-parameter-format\n",
    "evaluators_cloud = {\n",
    "    \"f1_score\": EvaluatorConfiguration(\n",
    "        id=F1ScoreEvaluator.id,\n",
    "    ),\n",
    "    \"relevance\": EvaluatorConfiguration(\n",
    "        id=RelevanceEvaluator.id,\n",
    "        init_params={\"model_config\": model_config},\n",
    "        data_mapping={\"query\": \"${data.query}\", \"context\": \"${data.context}\", \"response\": \"${data.response}\"},\n",
    "    ),\n",
    "    \"groundedness\": EvaluatorConfiguration(\n",
    "        id=GroundednessEvaluator.id,\n",
    "        init_params={\"model_config\": model_config},\n",
    "        data_mapping={\"query\": \"${data.query}\", \"context\": \"${data.context}\", \"response\": \"${data.response}\"},\n",
    "    ),\n",
    "    # from azure.ai.evaluation._evaluators._common.math import list_mean_nan_safe\\nModuleNotFoundError: No module named 'azure.ai.evaluation._evaluators._common.math'\n",
    "    # \"retrieval\": EvaluatorConfiguration(\n",
    "    #     id=RetrievalEvaluator.id,\n",
    "    #     init_params={\"model_config\": model_config},\n",
    "    #     data_mapping={\"query\": \"${data.query}\", \"context\": \"${data.context}\"},\n",
    "    # ),\n",
    "    \"coherence\": EvaluatorConfiguration(\n",
    "        id=CoherenceEvaluator.id,\n",
    "        init_params={\"model_config\": model_config},\n",
    "        data_mapping={\"query\": \"${data.query}\", \"response\": \"${data.response}\"},\n",
    "    ),\n",
    "    \"fluency\": EvaluatorConfiguration(\n",
    "        id=FluencyEvaluator.id,\n",
    "        init_params={\"model_config\": model_config},\n",
    "        data_mapping={\"query\": \"${data.query}\", \"context\": \"${data.context}\", \"response\": \"${data.response}\"},\n",
    "    ),\n",
    "     \"similarity\": EvaluatorConfiguration(\n",
    "        id=SimilarityEvaluator.id,\n",
    "        init_params={\"model_config\": model_config},\n",
    "        data_mapping={\"query\": \"${data.query}\", \"response\": \"${data.response}\"},\n",
    "    ),\n",
    "\n",
    "}\n"
   ]
  },
  {
   "cell_type": "markdown",
   "metadata": {},
   "source": [
    "### Data\n",
    "- The following code demonstrates how to upload the data for evaluation to your Azure AI project. Below we use evaluate_test_data.jsonl which exemplifies LLM-generated data in the query-response format expected by the Azure AI Evaluation SDK. For your use case, you should upload data in the same format, which can be generated using the Simulator from Azure AI Evaluation SDK.\n",
    "\n",
    "- Alternatively, if you already have an existing dataset for evaluation, you can use that by finding the link to your dataset in your registry or find the dataset ID."
   ]
  },
  {
   "cell_type": "code",
   "execution_count": 24,
   "metadata": {},
   "outputs": [
    {
     "name": "stderr",
     "output_type": "stream",
     "text": [
      "\u001b[32mUploading evaluate_test_data_ko.jsonl\u001b[32m (< 1 MB): 100%|██████████| 3.71k/3.71k [00:00<00:00, 213kB/s]\n",
      "\u001b[39m\n",
      "\n"
     ]
    }
   ],
   "source": [
    "# # Upload data for evaluation\n",
    "data_id, _ = project_client.upload_file(\"data/evaluate_test_data_ko.jsonl\")\n",
    "# data_id = \"azureml://registries/<registry>/data/<dataset>/versions/<version>\"\n",
    "# To use an existing dataset, replace the above line with the following line\n",
    "# data_id = \"<dataset_id>\""
   ]
  },
  {
   "cell_type": "markdown",
   "metadata": {},
   "source": [
    "### Configure Evaluators to Run\n",
    "- The code below demonstrates how to configure the evaluators you want to run. In this example, we use the F1ScoreEvaluator, RelevanceEvaluator and the ViolenceEvaluator, but all evaluators supported by Azure AI Evaluation are supported by cloud evaluation and can be configured here. You can either import the classes from the SDK and reference them with the .id property, or you can find the fully formed id of the evaluator in the AI Studio registry of evaluators, and use it here. "
   ]
  },
  {
   "cell_type": "code",
   "execution_count": 25,
   "metadata": {},
   "outputs": [],
   "source": [
    "evaluation = Evaluation(\n",
    "    display_name=\"Cloud Evaluation\",\n",
    "    description=\"Cloud Evaluation of dataset\",\n",
    "    data=Dataset(id=data_id),\n",
    "    evaluators=evaluators_cloud,\n",
    ")\n",
    "\n",
    "# Create evaluation\n",
    "evaluation_response = project_client.evaluations.create(\n",
    "    evaluation=evaluation,\n",
    ")"
   ]
  },
  {
   "cell_type": "code",
   "execution_count": 26,
   "metadata": {},
   "outputs": [
    {
     "name": "stdout",
     "output_type": "stream",
     "text": [
      "----------------------------------------------------------------\n",
      "Created evaluation, evaluation ID:  fee7104f-a208-4e36-9092-975ed0c8886c\n",
      "Evaluation status:  Starting\n",
      "AI Foundry Portal URI:  https://ai.azure.com/build/evaluation/fee7104f-a208-4e36-9092-975ed0c8886c?wsid=/subscriptions/3d4d3dd0-79d4-40cf-a94e-b4154812c6ca/resourceGroups/AOAI-group3/providers/Microsoft.MachineLearningServices/workspaces/aoai-pjt1\n",
      "----------------------------------------------------------------\n"
     ]
    }
   ],
   "source": [
    "# Get evaluation\n",
    "get_evaluation_response = project_client.evaluations.get(evaluation_response.id)\n",
    "\n",
    "print(\"----------------------------------------------------------------\")\n",
    "print(\"Created evaluation, evaluation ID: \", get_evaluation_response.id)\n",
    "print(\"Evaluation status: \", get_evaluation_response.status)\n",
    "print(\"AI Foundry Portal URI: \", get_evaluation_response.properties[\"AiStudioEvaluationUri\"])\n",
    "print(\"----------------------------------------------------------------\")"
   ]
  },
  {
   "cell_type": "code",
   "execution_count": 27,
   "metadata": {},
   "outputs": [],
   "source": [
    "from tqdm import tqdm\n",
    "import time\n",
    "\n",
    "# Monitor the status of the run_result\n",
    "def monitor_status(project_client:AIProjectClient, evaluation_response_id:str):\n",
    "    with tqdm(total=3, desc=\"Running Status\", unit=\"step\") as pbar:\n",
    "        status = project_client.evaluations.get(evaluation_response_id).status\n",
    "        if status == \"Queued\":\n",
    "            pbar.update(1)\n",
    "        while status != \"Completed\" and status != \"Failed\":\n",
    "            if status == \"Running\" and pbar.n < 2:\n",
    "                pbar.update(1)\n",
    "            print(f\"Current Status: {status}\")\n",
    "            time.sleep(10)\n",
    "            status = project_client.evaluations.get(evaluation_response_id).status\n",
    "        while(pbar.n < 3):\n",
    "            pbar.update(1)\n",
    "        print(\"Operation Completed\")"
   ]
  },
  {
   "cell_type": "code",
   "execution_count": 28,
   "metadata": {},
   "outputs": [
    {
     "name": "stderr",
     "output_type": "stream",
     "text": [
      "Running Status:  33%|███▎      | 1/3 [00:00<00:01,  1.36step/s]"
     ]
    },
    {
     "name": "stdout",
     "output_type": "stream",
     "text": [
      "Current Status: Queued\n",
      "Current Status: Queued\n",
      "Current Status: Queued\n",
      "Current Status: Queued\n",
      "Current Status: Queued\n",
      "Current Status: Queued\n",
      "Current Status: Queued\n",
      "Current Status: Queued\n",
      "Current Status: Queued\n",
      "Current Status: Queued\n",
      "Current Status: Queued\n",
      "Current Status: Queued\n",
      "Current Status: Queued\n"
     ]
    },
    {
     "name": "stderr",
     "output_type": "stream",
     "text": [
      "Running Status:  67%|██████▋   | 2/3 [02:13<01:18, 78.40s/step]"
     ]
    },
    {
     "name": "stdout",
     "output_type": "stream",
     "text": [
      "Current Status: Running\n",
      "Current Status: Running\n",
      "Current Status: Running\n",
      "Current Status: Running\n",
      "Current Status: Running\n",
      "Current Status: Running\n",
      "Current Status: Running\n",
      "Current Status: Running\n",
      "Current Status: Running\n",
      "Current Status: Running\n",
      "Current Status: Running\n",
      "Current Status: Running\n",
      "Current Status: Running\n",
      "Current Status: Running\n",
      "Current Status: Running\n",
      "Current Status: Finalizing\n"
     ]
    },
    {
     "name": "stderr",
     "output_type": "stream",
     "text": [
      "Running Status: 100%|██████████| 3/3 [05:03<00:00, 101.02s/step]"
     ]
    },
    {
     "name": "stdout",
     "output_type": "stream",
     "text": [
      "Operation Completed\n"
     ]
    },
    {
     "name": "stderr",
     "output_type": "stream",
     "text": [
      "\n"
     ]
    }
   ],
   "source": [
    "monitor_status(project_client, evaluation_response.id)"
   ]
  },
  {
   "cell_type": "markdown",
   "metadata": {},
   "source": [
    "## 🧪 Evaluate in the Cloud on a Schedule with Online Evaluation\n",
    "- You can configure the RecurrenceTrigger based on the class definition here. The code below demonstrates how to configure the RecurrenceTrigger to run the evaluation every 24 hours. You can also configure the trigger to run at a different interval, or at a specific time of day. Check the Trace menu in the Azure AI Foundry to see the results of the evaluation.\n",
    "- reference: https://learn.microsoft.com/en-us/azure/ai-studio/how-to/online-evaluation"
   ]
  },
  {
   "cell_type": "code",
   "execution_count": 17,
   "metadata": {},
   "outputs": [],
   "source": [
    "from datetime import datetime\n",
    "\n",
    "# Your Application Insights resource ID\n",
    "# At the moment, it should be something in the format \"/subscriptions/<AzureSubscriptionId>/resourceGroups/<ResourceGroup>/providers/Microsoft.Insights/components/<ApplicationInsights>\"\"\n",
    "app_insights_resource_id = os.environ.get(\"APP_INSIGHTS_RESOURCE_ID\")\n",
    "\n",
    "today = datetime.now()\n",
    "\n",
    "# Name of your generative AI application (will be available in trace data in Application Insights)\n",
    "service_name = os.environ.get(\"SERVICE_NAME\") + \"_\" + today.strftime(\"%Y-%m-%d-%H-%M-%S\")\n",
    "\n",
    "evaluation_name = os.environ.get(\"EVALUATION_NAME\") + \"_\" + today.strftime(\"%Y-%m-%d-%H-%M-%S\")\n"
   ]
  },
  {
   "cell_type": "code",
   "execution_count": 18,
   "metadata": {},
   "outputs": [],
   "source": [
    "kusto_query = 'let gen_ai_spans=(dependencies | where isnotnull(customDimensions[\"gen_ai.system\"]) | extend response_id = tostring(customDimensions[\"gen_ai.response.id\"]) | project id, operation_Id, operation_ParentId, timestamp, response_id); let gen_ai_events=(traces | where message in (\"gen_ai.choice\", \"gen_ai.user.message\", \"gen_ai.system.message\") or tostring(customDimensions[\"event.name\"]) in (\"gen_ai.choice\", \"gen_ai.user.message\", \"gen_ai.system.message\") | project id= operation_ParentId, operation_Id, operation_ParentId, user_input = iff(message == \"gen_ai.user.message\" or tostring(customDimensions[\"event.name\"]) == \"gen_ai.user.message\", parse_json(iff(message == \"gen_ai.user.message\", tostring(customDimensions[\"gen_ai.event.content\"]), message)).content, \"\"), system = iff(message == \"gen_ai.system.message\" or tostring(customDimensions[\"event.name\"]) == \"gen_ai.system.message\", parse_json(iff(message == \"gen_ai.system.message\", tostring(customDimensions[\"gen_ai.event.content\"]), message)).content, \"\"), llm_response = iff(message == \"gen_ai.choice\", parse_json(tostring(parse_json(tostring(customDimensions[\"gen_ai.event.content\"])).message)).content, iff(tostring(customDimensions[\"event.name\"]) == \"gen_ai.choice\", parse_json(parse_json(message).message).content, \"\")) | summarize operation_ParentId = any(operation_ParentId), Input = maxif(user_input, user_input != \"\"), System = maxif(system, system != \"\"), Output = maxif(llm_response, llm_response != \"\") by operation_Id, id); gen_ai_spans | join kind=inner (gen_ai_events) on id, operation_Id | project Input, System, Output, operation_Id, operation_ParentId, gen_ai_response_id = response_id'\n",
    "\n",
    "# AzureMSIClientId is the clientID of the User-assigned managed identity created during set-up - see documentation for how to find it\n",
    "properties = {\"AzureMSIClientId\": os.environ.get(\"AZURE_MSI_CLIENT_ID\")}\n",
    "\n",
    "# Connect to your Application Insights resource\n",
    "app_insights_config = ApplicationInsightsConfiguration(\n",
    "    resource_id=app_insights_resource_id, query=kusto_query, service_name=service_name\n",
    ")"
   ]
  },
  {
   "cell_type": "code",
   "execution_count": null,
   "metadata": {},
   "outputs": [],
   "source": [
    "# Frequency to run the schedule\n",
    "recurrence_trigger = RecurrenceTrigger(frequency=\"day\", interval=1)\n",
    "\n",
    "# Configure the online evaluation schedule\n",
    "evaluation_schedule = EvaluationSchedule(\n",
    "    data=app_insights_config,\n",
    "    evaluators=evaluators_cloud,\n",
    "    trigger=recurrence_trigger,\n",
    "    description=f\"{service_name} evaluation schedule\",\n",
    "    properties=properties\n",
    ")\n",
    "\n",
    "# Create the online evaluation schedule\n",
    "created_evaluation_schedule = project_client.evaluations.create_or_replace_schedule(service_name, evaluation_schedule)\n",
    "print(\n",
    "    f\"Successfully submitted the online evaluation schedule creation request - {created_evaluation_schedule.name}, currently in {created_evaluation_schedule.provisioning_state} state.\"\n",
    ")\n",
    "\n",
    "evaluation_schedule = project_client.evaluations.get_schedule(service_name)\n",
    "print(evaluation_schedule)\n",
    "\n",
    "# Sample for list evaluation schedules\n",
    "for evaluation_schedule in project_client.evaluations.list_schedule():\n",
    "    print(evaluation_schedule)\n",
    "\n",
    "# Sample for disable an evaluation schedule with name\n",
    "# project_client.evaluations.disable_schedule(service_name)"
   ]
  },
  {
   "cell_type": "code",
   "execution_count": null,
   "metadata": {},
   "outputs": [],
   "source": []
  }
 ],
 "metadata": {
  "kernelspec": {
   "display_name": ".venv",
   "language": "python",
   "name": "python3"
  },
  "language_info": {
   "codemirror_mode": {
    "name": "ipython",
    "version": 3
   },
   "file_extension": ".py",
   "mimetype": "text/x-python",
   "name": "python",
   "nbconvert_exporter": "python",
   "pygments_lexer": "ipython3",
   "version": "3.11.2"
  }
 },
 "nbformat": 4,
 "nbformat_minor": 2
}
