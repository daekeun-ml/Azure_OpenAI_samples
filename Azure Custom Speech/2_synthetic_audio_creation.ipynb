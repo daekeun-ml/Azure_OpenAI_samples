{
 "cells": [
  {
   "cell_type": "markdown",
   "metadata": {},
   "source": [
    "# [Text To Speech] Synthetic Audio Dataset Creation\n",
    "This sample demonstrates how to use Azure AI Speech API to generate synthetic audio dataset from text. \n",
    "\n",
    "> ✨ ***Note*** <br>\n",
    "> Please check the supported languages and region availabilty before you get started - https://learn.microsoft.com/en-us/azure/ai-services/speech-service/language-support?tabs=tts / https://learn.microsoft.com/en-us/azure/ai-services/speech-service/regions  \n",
    "\n",
    "## Prerequisites\n",
    "Configure a Python virtual environment for 3.10 or later: \n",
    " 1. open the Command Palette (Ctrl+Shift+P).\n",
    " 1. Search for Python: Create Environment.\n",
    " 1. select Venv / Conda and choose where to create the new environment.\n",
    " 1. Select the Python interpreter version. Create with version 3.10 or later."
   ]
  },
  {
   "cell_type": "markdown",
   "metadata": {
    "vscode": {
     "languageId": "shellscript"
    }
   },
   "source": [
    "## 1. Test Text to Speech Using the Speech SDK"
   ]
  },
  {
   "cell_type": "code",
   "execution_count": null,
   "metadata": {},
   "outputs": [],
   "source": [
    "import azure.cognitiveservices.speech as speechsdk\n",
    "import os\n",
    "import time\n",
    "import json\n",
    "import html\n",
    "from openai import AzureOpenAI\n",
    "from dotenv import load_dotenv\n",
    "load_dotenv()\n",
    "\n",
    "SPEECH_KEY = os.getenv(\"AZURE_AI_SPEECH_API_KEY\")\n",
    "SPEECH_REGION = os.getenv(\"AZURE_AI_SPEECH_REGION\")\n",
    "CUSTOM_SPEECH_LANG = os.getenv(\"CUSTOM_SPEECH_LANG\")\n",
    "CUSTOM_SPEECH_LOCALE = os.getenv(\"CUSTOM_SPEECH_LOCALE\")\n",
    "TTS_FOR_TRAIN = os.getenv(\"TTS_FOR_TRAIN\")\n",
    "TTS_FOR_EVAL = os.getenv(\"TTS_FOR_EVAL\")\n",
    "\n",
    "synthetic_text_file = \"\"\n",
    "%store -r synthetic_text_file\n",
    "try:\n",
    "    synthetic_text_file\n",
    "except NameError:\n",
    "    print(\"++++++++++++++++++++++++++++++++++++++++++++++++++++++++++++++++++++++++\")\n",
    "    print(\"[ERROR] Please run the previous notebook again.\")\n",
    "    print(\"++++++++++++++++++++++++++++++++++++++++++++++++++++++++++++++++++++++++\")\n",
    "\n",
    "print(synthetic_text_file)"
   ]
  },
  {
   "cell_type": "markdown",
   "metadata": {},
   "source": [
    "Create an instance of a speech config with specified subscription key and service region.\n",
    "Replace with your own subscription key and service region (e.g., \"westus\")."
   ]
  },
  {
   "cell_type": "code",
   "execution_count": null,
   "metadata": {},
   "outputs": [],
   "source": [
    "speech_config = speechsdk.SpeechConfig(subscription=SPEECH_KEY, region=SPEECH_REGION)\n",
    "audio_config = speechsdk.audio.AudioOutputConfig(use_default_speaker=True)"
   ]
  },
  {
   "cell_type": "code",
   "execution_count": null,
   "metadata": {},
   "outputs": [],
   "source": [
    "speech_synthesizer = speechsdk.SpeechSynthesizer(speech_config=speech_config, audio_config=audio_config)"
   ]
  },
  {
   "cell_type": "code",
   "execution_count": null,
   "metadata": {},
   "outputs": [],
   "source": [
    "print(\"Type some text that you want to speak...\")\n",
    "text = input()"
   ]
  },
  {
   "cell_type": "markdown",
   "metadata": {},
   "source": [
    "### Test Speak text and Store the output stream to a wav file (speak_text_async)"
   ]
  },
  {
   "cell_type": "code",
   "execution_count": null,
   "metadata": {},
   "outputs": [],
   "source": [
    "MIN_RETRIES = 2\n",
    "for _ in range(MIN_RETRIES):\n",
    "    try:\n",
    "        result = speech_synthesizer.speak_text_async(text).get()\n",
    "    except Exception as e:\n",
    "        time.sleep(10)\n",
    "        continue"
   ]
  },
  {
   "cell_type": "code",
   "execution_count": null,
   "metadata": {},
   "outputs": [],
   "source": [
    "import os\n",
    "\n",
    "output_dir = \"sample\"\n",
    "    \n",
    "\n",
    "if result.reason == speechsdk.ResultReason.SynthesizingAudioCompleted:\n",
    "    print(\"Speech synthesized to speaker for text [{}]\".format(text))\n",
    "    stream = speechsdk.AudioDataStream(result)\n",
    "    if not os.path.exists(output_dir):\n",
    "        os.makedirs(output_dir)\n",
    "    stream.save_to_wav_file(os.path.join(output_dir, \"result_text.wav\"))\n",
    "elif result.reason == speechsdk.ResultReason.Canceled:\n",
    "    cancellation_details = result.cancellation_details\n",
    "    print(\"Speech synthesis canceled: {}\".format(cancellation_details.reason))\n",
    "    if cancellation_details.reason == speechsdk.CancellationReason.Error:\n",
    "        if cancellation_details.error_details:\n",
    "            print(\"Error details: {}\".format(cancellation_details.error_details))\n",
    "    print(\"Did you update the subscription info?\")"
   ]
  },
  {
   "cell_type": "markdown",
   "metadata": {},
   "source": [
    "### Test Speak SSML and Store the output stream to a wav file (speak_ssml_async)\n",
    "- To get TTS voice id for specific languages, please check the voice gallery for more options, https://speech.microsoft.com/portal?projecttype=voicegallery"
   ]
  },
  {
   "cell_type": "code",
   "execution_count": null,
   "metadata": {},
   "outputs": [],
   "source": [
    "default_tts_voice = 'en-US-JennyMultilingualV2Neural' # Default TTS voice for English, To get TTS voice id for specific languages, please check the voice gallery for more options\n",
    "lang = \"en-US\"\n",
    "\n",
    "ssml = f\"\"\"<speak version='1.0'  xmlns=\"https://www.w3.org/2001/10/synthesis\" xml:lang='{lang}'>\n",
    "                     <voice name='{default_tts_voice}'>\n",
    "                             {html.escape(text)}\n",
    "                     </voice>\n",
    "                   </speak>\"\"\""
   ]
  },
  {
   "cell_type": "code",
   "execution_count": null,
   "metadata": {},
   "outputs": [],
   "source": [
    "if not os.path.exists(output_dir):\n",
    "        os.makedirs(output_dir)\n",
    "speech_sythesis_result = speech_synthesizer.speak_ssml_async(ssml).get()\n",
    "stream = speechsdk.AudioDataStream(speech_sythesis_result)\n",
    "stream.save_to_wav_file(os.path.join(output_dir,\"result_ssml.wav\"))"
   ]
  },
  {
   "cell_type": "markdown",
   "metadata": {},
   "source": [
    "## 2. Generate syntethic dataset and manifest.txt file as a training dataset"
   ]
  },
  {
   "cell_type": "markdown",
   "metadata": {},
   "source": [
    "### Set the ssml template for the dataset\n",
    "- The ssml template is used to generate the synthetic dataset. Here is the reference for the ssml template: https://learn.microsoft.com/en-us/azure/ai-services/speech-service/speech-synthesis-markup"
   ]
  },
  {
   "cell_type": "code",
   "execution_count": null,
   "metadata": {},
   "outputs": [],
   "source": [
    "\n",
    "def get_audio_file_by_speech_synthesis(text, file_path, lang, default_tts_voice):\n",
    "    ssml = f\"\"\"<speak version='1.0'  xmlns=\"https://www.w3.org/2001/10/synthesis\" xml:lang='{lang}'>\n",
    "                     <voice name='{default_tts_voice}'>\n",
    "                             {html.escape(text)}\n",
    "                     </voice>\n",
    "                   </speak>\"\"\"\n",
    "    speech_sythesis_result = speech_synthesizer.speak_ssml_async(ssml).get()\n",
    "    stream = speechsdk.AudioDataStream(speech_sythesis_result)\n",
    "    stream.save_to_wav_file(file_path)"
   ]
  },
  {
   "cell_type": "markdown",
   "metadata": {},
   "source": [
    "### Generate synthetic wav dataset and manifest for Specific language from the synthetic_text_file"
   ]
  },
  {
   "cell_type": "code",
   "execution_count": null,
   "metadata": {},
   "outputs": [],
   "source": [
    "import datetime\n",
    "\n",
    "languages = [CUSTOM_SPEECH_LOCALE] # List of languages to generate audio files\n",
    "output_dir = \"synthetic_data\"\n",
    "DELETE_OLD_DATA = True\n",
    "\n",
    "if not os.path.exists(output_dir):\n",
    "    os.makedirs(output_dir)\n",
    "\n",
    "if(DELETE_OLD_DATA):\n",
    "    for file in os.listdir(output_dir):\n",
    "        os.remove(os.path.join(output_dir, file))    \n",
    "\n",
    "train_tts_voices = TTS_FOR_TRAIN.split(',')\n",
    "\n",
    "for tts_voice in train_tts_voices:\n",
    "    with open(synthetic_text_file, 'r', encoding='utf-8') as f:\n",
    "        for line in f:\n",
    "            try:\n",
    "                expression = json.loads(line)\n",
    "                no = expression['no']\n",
    "                for lang in languages:\n",
    "                    text = expression[lang]\n",
    "                    timestamp = datetime.datetime.now().strftime(\"%Y%m%d%H%M%S\")\n",
    "                    file_name = f\"{no}_{lang}_{timestamp}.wav\"\n",
    "                    get_audio_file_by_speech_synthesis(text, os.path.join(output_dir,file_name), lang, tts_voice)\n",
    "                    with open(f'{output_dir}/manifest.txt', 'a', encoding='utf-8') as manifest_file:\n",
    "                        manifest_file.write(f\"{file_name}\\t{text}\\n\")\n",
    "            except json.JSONDecodeError as e:\n",
    "                print(f\"Error decoding JSON on line: {line}\")\n",
    "                print(e)\n",
    "\n"
   ]
  },
  {
   "cell_type": "markdown",
   "metadata": {},
   "source": [
    "### Play WAV Files to test result in Output Folder\n",
    "- Use the os library to list all WAV files in the output folder."
   ]
  },
  {
   "cell_type": "code",
   "execution_count": null,
   "metadata": {},
   "outputs": [],
   "source": [
    "import os\n",
    "from IPython.display import Audio, display\n",
    "\n",
    "files = os.listdir(output_dir)\n",
    "wav_files = [file for file in files if file.endswith('.wav')]\n",
    "\n",
    "# Sort wav_files by 'no' in ascending order\n",
    "wav_files.sort(key=lambda x: int(x.split('_')[0]))\n",
    "wav_files"
   ]
  },
  {
   "cell_type": "markdown",
   "metadata": {},
   "source": [
    "### Play WAV Files\n",
    "- Use IPython.display.Audio to play each WAV file listed in the output folder."
   ]
  },
  {
   "cell_type": "code",
   "execution_count": null,
   "metadata": {},
   "outputs": [],
   "source": [
    "# Play each WAV file in the output folder\n",
    "for wav_file in wav_files[:3]:\n",
    "    file_path = os.path.join(output_dir, wav_file)\n",
    "    display(Audio(filename=file_path))"
   ]
  },
  {
   "cell_type": "markdown",
   "metadata": {},
   "source": [
    "## 3. Create a Zip file for custom model training"
   ]
  },
  {
   "cell_type": "markdown",
   "metadata": {},
   "source": [
    "- For audio + human - labeled data(Acoustic type) to train a custom speech model, you need to make a zip file of the audio files and the corresponding text file. \n",
    "- Here is an example of the structure of the labeled text file.\n",
    "\n",
    "    > ```text\n",
    "    > audio1.wav\tContent like data, models, tests, and endpoints are organized into Projects in the Custom Speech portal. Each project is specific to a domain and country/language. For example, you may create a project for call centers that use English in the United States. To create your first project, select the Speech-to-text/Custom speech, then click New Project. Follow the instructions provided by the wizard to create your project. After you've created a project, you should see four tabs: Data, Testing, Training, and Deployment. Use the links provided in Next steps to learn how to use each tab.\n",
    "    > audio2.wav\tCustom Speech provides tools that allow you to visually inspect the recognition quality of a model by comparing audio data with the corresponding recognition result. From the Custom Speech portal, you can play back uploaded audio and determine if the provided recognition result is correct. This tool allows you to quickly inspect quality of Microsoft's baseline speech-to-text model or a trained custom model without having to transcribe any audio data.\n",
    "    ```"
   ]
  },
  {
   "cell_type": "code",
   "execution_count": null,
   "metadata": {},
   "outputs": [],
   "source": [
    "import zipfile\n",
    "import shutil\n",
    "\n",
    "DELETE_OLD_DATA = True\n",
    "\n",
    "train_dataset_dir = \"train_dataset\"\n",
    "if not os.path.exists(train_dataset_dir):\n",
    "    os.makedirs(train_dataset_dir)\n",
    "\n",
    "if(DELETE_OLD_DATA):\n",
    "    for file in os.listdir(train_dataset_dir):\n",
    "        os.remove(os.path.join(train_dataset_dir, file))    \n",
    "\n",
    "timestamp = datetime.datetime.now().strftime(\"%Y%m%d%H%M%S\")\n",
    "zip_filename = f'train_{lang}_{timestamp}.zip'\n",
    "with zipfile.ZipFile(zip_filename, 'w') as zipf:\n",
    "    for file in files:\n",
    "        zipf.write(os.path.join(output_dir, file), file)\n",
    "\n",
    "print(f\"Created zip file: {zip_filename}\")\n",
    "\n",
    "shutil.move(zip_filename, os.path.join(train_dataset_dir, zip_filename))\n",
    "print(f\"Moved zip file to: {os.path.join(train_dataset_dir, zip_filename)}\")\n",
    "train_dataset_path = {os.path.join(train_dataset_dir, zip_filename)}\n",
    "%store train_dataset_path"
   ]
  },
  {
   "cell_type": "markdown",
   "metadata": {},
   "source": [
    "## 4. Generate Evaluation dataset for custom model evaluation"
   ]
  },
  {
   "cell_type": "code",
   "execution_count": null,
   "metadata": {},
   "outputs": [],
   "source": [
    "import datetime\n",
    "\n",
    "print(TTS_FOR_EVAL) \n",
    "languages = [CUSTOM_SPEECH_LOCALE]\n",
    "eval_output_dir = \"synthetic_eval_data\"\n",
    "DELETE_OLD_DATA = True\n",
    "\n",
    "if not os.path.exists(eval_output_dir):\n",
    "    os.makedirs(eval_output_dir)\n",
    "\n",
    "if(DELETE_OLD_DATA):\n",
    "    for file in os.listdir(eval_output_dir):\n",
    "        os.remove(os.path.join(eval_output_dir, file))\n",
    "\n",
    "eval_tts_voices = TTS_FOR_EVAL.split(',')\n",
    "\n",
    "for tts_voice in eval_tts_voices:\n",
    "    with open(synthetic_text_file, 'r', encoding='utf-8') as f:\n",
    "        for line in f:\n",
    "            try:\n",
    "                expression = json.loads(line)\n",
    "                no = expression['no']\n",
    "                for lang in languages:\n",
    "                    text = expression[lang]\n",
    "                    timestamp = datetime.datetime.now().strftime(\"%Y%m%d%H%M%S\")\n",
    "                    file_name = f\"{no}_{lang}_{timestamp}.wav\"\n",
    "                    get_audio_file_by_speech_synthesis(text, os.path.join(eval_output_dir,file_name), lang, tts_voice)\n",
    "                    with open(f'{eval_output_dir}/manifest.txt', 'a', encoding='utf-8') as manifest_file:\n",
    "                        manifest_file.write(f\"{file_name}\\t{text}\\n\")\n",
    "            except json.JSONDecodeError as e:\n",
    "                print(f\"Error decoding JSON on line: {line}\")\n",
    "                print(e)"
   ]
  },
  {
   "cell_type": "markdown",
   "metadata": {},
   "source": [
    "### Create a zip file for the evaluation dataset and move it to the eval_dataset directory"
   ]
  },
  {
   "cell_type": "code",
   "execution_count": null,
   "metadata": {},
   "outputs": [],
   "source": [
    "import os\n",
    "from IPython.display import Audio, display\n",
    "import zipfile\n",
    "import shutil\n",
    "\n",
    "DELETE_OLD_DATA = True\n",
    "\n",
    "eval_dataset_dir = \"eval_dataset\"\n",
    "if not os.path.exists(eval_dataset_dir):\n",
    "    os.makedirs(eval_dataset_dir)\n",
    "\n",
    "if(DELETE_OLD_DATA):\n",
    "    for file in os.listdir(eval_dataset_dir):\n",
    "        os.remove(os.path.join(eval_dataset_dir, file))    \n",
    "\n",
    "files = os.listdir(eval_output_dir)\n",
    "wav_files = [file for file in files if file.endswith('.wav')]\n",
    "\n",
    "# Sort wav_files by 'no' in ascending order\n",
    "wav_files.sort(key=lambda x: int(x.split('_')[0]))\n",
    "\n",
    "timestamp = datetime.datetime.now().strftime(\"%Y%m%d%H%M%S\")\n",
    "zip_filename = f'eval_{lang}_{timestamp}.zip'\n",
    "with zipfile.ZipFile(zip_filename, 'w') as zipf:\n",
    "    for file in files:\n",
    "        zipf.write(os.path.join(eval_output_dir, file), file)\n",
    "\n",
    "print(f\"Created zip file: {zip_filename}\")\n",
    "\n",
    "\n",
    "\n",
    "shutil.move(zip_filename, os.path.join(eval_dataset_dir, zip_filename))\n",
    "print(f\"Moved zip file to: {os.path.join(eval_dataset_dir, zip_filename)}\")\n",
    "eval_dataset_path = {os.path.join(eval_dataset_dir, zip_filename)}\n",
    "%store eval_dataset_path"
   ]
  },
  {
   "cell_type": "code",
   "execution_count": null,
   "metadata": {},
   "outputs": [],
   "source": []
  }
 ],
 "metadata": {
  "kernelspec": {
   "display_name": ".venv",
   "language": "python",
   "name": "python3"
  },
  "language_info": {
   "codemirror_mode": {
    "name": "ipython",
    "version": 3
   },
   "file_extension": ".py",
   "mimetype": "text/x-python",
   "name": "python",
   "nbconvert_exporter": "python",
   "pygments_lexer": "ipython3",
   "version": "3.10.15"
  }
 },
 "nbformat": 4,
 "nbformat_minor": 2
}
