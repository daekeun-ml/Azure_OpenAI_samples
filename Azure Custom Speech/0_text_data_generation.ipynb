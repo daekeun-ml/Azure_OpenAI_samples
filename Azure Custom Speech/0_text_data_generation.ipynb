{
 "cells": [
  {
   "cell_type": "markdown",
   "metadata": {},
   "source": [
    "# [text gen] Plain Text Generation with gpt-4o\n",
    "This sample demonstrates how to generate a plain text file to train custom speech model. \n",
    "\n",
    "> ✨ ***Note*** <br>\n",
    "> Please check the custom speech support for each language before you get started - https://learn.microsoft.com/en-us/azure/ai-services/speech-service/language-support?tabs=stt#:~:text=Custom%20speech%20support \n",
    "\n",
    "\n",
    "## Prerequisites\n",
    "Git clone the repository to your local machine. \n",
    "\n",
    "```bash\n",
    "git clone https://github.com/hyogrin/Azure_OpenAI_samples.git\n",
    "```\n",
    "\n",
    "* A subscription key for the Speech service. See [Try the speech service for free](https://docs.microsoft.com/azure/cognitive-services/speech-service/get-started).\n",
    "* Python 3.5 or later needs to be installed. Downloads are available [here](https://www.python.org/downloads/).\n",
    "* The Python Speech SDK package is available for Windows (x64 or x86) and Linux (x64; Ubuntu 16.04 or Ubuntu 18.04).\n",
    "* On Ubuntu 16.04 or 18.04, run the following commands for the installation of required packages:\n",
    "  ```sh\n",
    "  sudo apt-get update\n",
    "  sudo apt-get install libssl1.0.0 libasound2\n",
    "  ```\n",
    "* On Debian 9, run the following commands for the installation of required packages:\n",
    "  ```sh\n",
    "  sudo apt-get update\n",
    "  sudo apt-get install libssl1.0.2 libasound2\n",
    "  ```\n",
    "* On Windows you need the [Microsoft Visual C++ Redistributable for Visual Studio 2017](https://support.microsoft.com/help/2977003/the-latest-supported-visual-c-downloads) for your platform.\n",
    "\n",
    "Configure a Python virtual environment for 3.10 or later: \n",
    " 1. open the Command Palette (Ctrl+Shift+P).\n",
    " 1. Search for Python: Create Environment.\n",
    " 1. select Venv / Conda and choose where to create the new environment.\n",
    " 1. Select the Python interpreter version. Create with version 3.10 or later.\n",
    "\n",
    "```bash\n",
    "pip install -r requirements.txt\n",
    "```\n",
    "\n",
    "Create an .env file based on the .env-sample file. Copy the new .env file to the folder containing your notebook and update the variables."
   ]
  },
  {
   "cell_type": "markdown",
   "metadata": {
    "vscode": {
     "languageId": "shellscript"
    }
   },
   "source": [
    "## 1. Generate synthetic dataset with gpt-4o"
   ]
  },
  {
   "cell_type": "markdown",
   "metadata": {},
   "source": [
    "### Set up the environment variables"
   ]
  },
  {
   "cell_type": "code",
   "execution_count": 13,
   "metadata": {},
   "outputs": [
    {
     "data": {
      "text/plain": [
       "'gpt-4o'"
      ]
     },
     "execution_count": 13,
     "metadata": {},
     "output_type": "execute_result"
    }
   ],
   "source": [
    "import azure.cognitiveservices.speech as speechsdk\n",
    "import os\n",
    "import time\n",
    "import json\n",
    "from openai import AzureOpenAI\n",
    "from dotenv import load_dotenv\n",
    "load_dotenv()\n",
    "\n",
    "speech_key = os.getenv(\"AZURE_AI_SPEECH_API_KEY\")\n",
    "speech_region = os.getenv(\"AZURE_AI_SPEECH_REGION\")\n",
    "\n",
    "aoai_api_endpoint = os.getenv(\"AZURE_OPENAI_ENDPOINT\")\n",
    "aoai_api_key = os.getenv(\"AZURE_OPENAI_API_KEY\")\n",
    "aoai_api_version = os.getenv(\"AZURE_OPENAI_API_VERSION\")\n",
    "aoai_deployment_name = os.getenv(\"AZURE_OPENAI_DEPLOYMENT_NAME\")\n",
    "\n",
    "if not aoai_api_version:\n",
    "    aoai_api_version = os.getenv(\"OPENAI_API_VERSION\")\n",
    "    \n",
    "try:\n",
    "    client = AzureOpenAI(\n",
    "        azure_endpoint = aoai_api_endpoint,\n",
    "        api_key        = aoai_api_key,\n",
    "        api_version    = aoai_api_version\n",
    "    )\n",
    "except (ValueError, TypeError) as e:\n",
    "    print(e)\n",
    "\n",
    "aoai_deployment_name"
   ]
  },
  {
   "cell_type": "markdown",
   "metadata": {},
   "source": [
    "### prepare prompt to generate text"
   ]
  },
  {
   "cell_type": "code",
   "execution_count": 14,
   "metadata": {},
   "outputs": [
    {
     "name": "stdout",
     "output_type": "stream",
     "text": [
      "{\"no\": 1, \"vi-VN\": \"Tôi có thể được trợ giúp bằng tiếng Anh không?\", \"en-US\": \"Can I get assistance in English?\"}\n",
      "{\"no\": 2, \"vi-VN\": \"Máy giặt của tôi không hoạt động, tôi phải làm gì?\", \"en-US\": \"My washing machine is not working, what should I do?\"}\n",
      "{\"no\": 3, \"vi-VN\": \"LG có chính sách bảo hành bao lâu?\", \"en-US\": \"What is LG's warranty policy duration?\"}\n",
      "{\"no\": 4, \"vi-VN\": \"Tôi có thể tìm địa điểm bảo hành gần nhất như thế nào?\", \"en-US\": \"How can I find the nearest service center?\"}\n",
      "{\"no\": 5, \"vi-VN\": \"TV của tôi không lên hình, làm thế nào để khắc phục?\", \"en-US\": \"My TV screen is blank, how can I fix it?\"}\n",
      "{\"no\": 6, \"vi-VN\": \"Tôi có thể mua phụ kiện chính hãng ở đâu?\", \"en-US\": \"Where can I purchase genuine accessories?\"}\n",
      "{\"no\": 7, \"vi-VN\": \"Điều hòa nhiệt độ không mát, tôi nên làm gì?\", \"en-US\": \"The air conditioner is not cooling, what should I do?\"}\n",
      "{\"no\": 8, \"vi-VN\": \"Các phương thức thanh toán chấp nhận là gì?\", \"en-US\": \"What are the accepted payment methods?\"}\n",
      "{\"no\": 9, \"vi-VN\": \"Tôi có thể đặt lịch bảo trì sản phẩm qua đâu?\", \"en-US\": \"Where can I schedule a product maintenance?\"}\n",
      "{\"no\": 10, \"vi-VN\": \"Tôi cần cung cấp thông tin gì khi gọi hỗ trợ?\", \"en-US\": \"What information do I need to provide when calling for support?\"}\n",
      "{\"no\": 11, \"vi-VN\": \"Làm sao để kết nối tủ lạnh với điện thoại?\", \"en-US\": \"How do I connect my refrigerator to my phone?\"}\n",
      "{\"no\": 12, \"vi-VN\": \"Tại sao bếp từ không bật lên?\", \"en-US\": \"Why is my induction stove not turning on?\"}\n",
      "{\"no\": 13, \"vi-VN\": \"LG có hỗ trợ thay thế linh kiện không?\", \"en-US\": \"Does LG provide parts replacement service?\"}\n",
      "{\"no\": 14, \"vi-VN\": \"Tốc độ Wifi của router LG rất chậm, tôi cần làm gì?\", \"en-US\": \"The Wifi speed of my LG router is very slow, what should I do?\"}\n",
      "{\"no\": 15, \"vi-VN\": \"Tôi có thể nâng cấp phần mềm cho thiết bị không?\", \"en-US\": \"Can I upgrade the software on my device?\"}\n",
      "{\"no\": 16, \"vi-VN\": \"Thời gian hoạt động của tổng đài là gì?\", \"en-US\": \"What are the operating hours of the call center?\"}\n",
      "{\"no\": 17, \"vi-VN\": \"LG có hỗ trợ bảo hành tận nhà không?\", \"en-US\": \"Does LG offer at-home warranty service?\"}\n",
      "{\"no\": 18, \"vi-VN\": \"Làm thế nào để khử mùi trong tủ lạnh?\", \"en-US\": \"How can I remove odors from my refrigerator?\"}\n",
      "{\"no\": 19, \"vi-VN\": \"Có cách nào để tiết kiệm điện cho điều hòa không?\", \"en-US\": \"Is there a way to save energy with the air conditioner?\"}\n",
      "{\"no\": 20, \"vi-VN\": \"Làm sao để đăng ký sản phẩm LG trực tuyến?\", \"en-US\": \"How do I register my LG product online?\"}\n",
      "Usage Information:\n",
      "Completion Tokens: 805\n",
      "Prompt Tokens: 94\n",
      "Total Tokens: 899\n"
     ]
    }
   ],
   "source": [
    "system_message = \"\"\"\n",
    "Generate plain text sentences of #topic# related text to improve the recognition of domain-specific words and phrases.\n",
    "Domain-specific words can be uncommon or made-up words, but their pronunciation must be straightforward to be recognized. \n",
    "Use text data that's close to the expected spoken utterances. The nummber of utterances per line should be 1. \n",
    "\"\"\"\n",
    "\n",
    "topic = \"\"\"\n",
    "LG electronics call center QnA related expected spoken utterances for Vietnamese and English languages.\n",
    "\"\"\"\n",
    "question = \"\"\"\n",
    "create 20 lines of jsonl of the topic in Vietnamese and english. jsonl format is required. use no as number and vi-VN, en-US keys for the languages.\n",
    "only include the lines as the result. Do not include ```jsonl, ``` and blank line in the result. \n",
    "\"\"\"\n",
    "\n",
    "user_message = f\"\"\"\n",
    "#topic#: {topic}\n",
    "Question: {question}\n",
    "\"\"\"\n",
    "\n",
    "# Simple API Call\n",
    "response = client.chat.completions.create(\n",
    "    model=aoai_deployment_name,\n",
    "    messages=[\n",
    "        {\"role\": \"user\", \"content\": user_message},\n",
    "    ],\n",
    "  \n",
    ")\n",
    "content = response.choices[0].message.content\n",
    "print(content)\n",
    "print(\"Usage Information:\")\n",
    "#print(f\"Cached Tokens: {response.usage.prompt_tokens_details.cached_tokens}\") #only o1 models support this\n",
    "print(f\"Completion Tokens: {response.usage.completion_tokens}\")\n",
    "print(f\"Prompt Tokens: {response.usage.prompt_tokens}\")\n",
    "print(f\"Total Tokens: {response.usage.total_tokens}\")"
   ]
  },
  {
   "cell_type": "code",
   "execution_count": 15,
   "metadata": {},
   "outputs": [
    {
     "name": "stdout",
     "output_type": "stream",
     "text": [
      "Stored 'synthetic_text_file' (str)\n"
     ]
    }
   ],
   "source": [
    "synthetic_text_file = \"cc_support_expressions.jsonl\"\n",
    "%store synthetic_text_file\n",
    "with open(synthetic_text_file, 'w', encoding='utf-8') as f:\n",
    "    f.write(content)"
   ]
  },
  {
   "cell_type": "markdown",
   "metadata": {},
   "source": [
    "## 2. Create a plain text file to train custom speech models"
   ]
  },
  {
   "cell_type": "code",
   "execution_count": 16,
   "metadata": {},
   "outputs": [],
   "source": [
    "import datetime\n",
    "\n",
    "languages = ['vi-VN'] # List of languages to generate audio files\n",
    "output_dir = \"plain_text\"\n",
    "\n",
    "if not os.path.exists(output_dir):\n",
    "    os.makedirs(output_dir)\n",
    "\n",
    "with open(synthetic_text_file, 'r', encoding='utf-8') as f:\n",
    "    for line in f:\n",
    "        try:\n",
    "            expression = json.loads(line)\n",
    "            for lang in languages:\n",
    "                text = expression[lang]\n",
    "                timestamp = datetime.datetime.now().strftime(\"%Y%m%d%H%M%S\")\n",
    "                file_name = f\"{lang}_{timestamp}.txt\"\n",
    "                with open(os.path.join(output_dir,file_name), 'a', encoding='utf-8') as plain_text:\n",
    "                    plain_text.write(f\"{text}\\n\")\n",
    "        except json.JSONDecodeError as e:\n",
    "            print(f\"Error decoding JSON on line: {line}\")\n",
    "            print(e)"
   ]
  },
  {
   "cell_type": "code",
   "execution_count": 17,
   "metadata": {},
   "outputs": [
    {
     "name": "stdout",
     "output_type": "stream",
     "text": [
      "Tôi có thể được trợ giúp bằng tiếng Anh không?\n",
      "Máy giặt của tôi không hoạt động, tôi phải làm gì?\n",
      "LG có chính sách bảo hành bao lâu?\n",
      "Tôi có thể tìm địa điểm bảo hành gần nhất như thế nào?\n",
      "TV của tôi không lên hình, làm thế nào để khắc phục?\n",
      "Tôi có thể mua phụ kiện chính hãng ở đâu?\n",
      "Điều hòa nhiệt độ không mát, tôi nên làm gì?\n",
      "Các phương thức thanh toán chấp nhận là gì?\n",
      "Tôi có thể đặt lịch bảo trì sản phẩm qua đâu?\n",
      "Tôi cần cung cấp thông tin gì khi gọi hỗ trợ?\n",
      "Làm sao để kết nối tủ lạnh với điện thoại?\n",
      "Tại sao bếp từ không bật lên?\n",
      "LG có hỗ trợ thay thế linh kiện không?\n",
      "Tốc độ Wifi của router LG rất chậm, tôi cần làm gì?\n",
      "Tôi có thể nâng cấp phần mềm cho thiết bị không?\n",
      "Thời gian hoạt động của tổng đài là gì?\n",
      "LG có hỗ trợ bảo hành tận nhà không?\n",
      "Làm thế nào để khử mùi trong tủ lạnh?\n",
      "Có cách nào để tiết kiệm điện cho điều hòa không?\n",
      "Làm sao để đăng ký sản phẩm LG trực tuyến?\n",
      "\n"
     ]
    }
   ],
   "source": [
    "output_dir = \"plain_text\"  # Redefine output_dir if necessary\n",
    "\n",
    "with open(os.path.join(output_dir, file_name), 'r', encoding='utf-8') as file:\n",
    "    content = file.read()\n",
    "    print(content)"
   ]
  },
  {
   "cell_type": "markdown",
   "metadata": {},
   "source": [
    "### Store the generated text file path in the variable `plain_text_path` "
   ]
  },
  {
   "cell_type": "code",
   "execution_count": 18,
   "metadata": {},
   "outputs": [
    {
     "name": "stdout",
     "output_type": "stream",
     "text": [
      "Stored 'plain_text_path' (str)\n"
     ]
    }
   ],
   "source": [
    "plain_text_path = os.path.join(output_dir, file_name)\n",
    "%store plain_text_path"
   ]
  },
  {
   "cell_type": "code",
   "execution_count": null,
   "metadata": {},
   "outputs": [],
   "source": []
  }
 ],
 "metadata": {
  "kernelspec": {
   "display_name": "py311",
   "language": "python",
   "name": "python3"
  },
  "language_info": {
   "codemirror_mode": {
    "name": "ipython",
    "version": 3
   },
   "file_extension": ".py",
   "mimetype": "text/x-python",
   "name": "python",
   "nbconvert_exporter": "python",
   "pygments_lexer": "ipython3",
   "version": "3.11.10"
  }
 },
 "nbformat": 4,
 "nbformat_minor": 2
}
