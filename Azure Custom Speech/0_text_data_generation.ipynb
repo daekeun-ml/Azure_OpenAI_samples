{
 "cells": [
  {
   "cell_type": "markdown",
   "metadata": {},
   "source": [
    "# [gpt4o] Plain Text Generation with gpt-4o\n",
    "This sample demonstrates how to generate a plain text file to train custom speech model. \n",
    "\n",
    "> ✨ ***Note*** <br>\n",
    "> Please check the custom speech support for each language before you get started - https://learn.microsoft.com/en-us/azure/ai-services/speech-service/language-support?tabs=stt#:~:text=Custom%20speech%20support \n",
    "\n",
    "\n",
    "## Prerequisites\n",
    "Git clone the repository to your local machine. \n",
    "\n",
    "```bash\n",
    "git clone https://github.com/hyogrin/Azure_OpenAI_samples.git\n",
    "```\n",
    "\n",
    "* A subscription key for the Speech service. See [Try the speech service for free](https://docs.microsoft.com/azure/cognitive-services/speech-service/get-started).\n",
    "* Python 3.5 or later needs to be installed. Downloads are available [here](https://www.python.org/downloads/).\n",
    "* The Python Speech SDK package is available for Windows (x64 or x86) and Linux (x64; Ubuntu 16.04 or Ubuntu 18.04).\n",
    "* On Ubuntu 16.04 or 18.04, run the following commands for the installation of required packages:\n",
    "  ```sh\n",
    "  sudo apt-get update\n",
    "  sudo apt-get install libssl1.0.0 libasound2\n",
    "  ```\n",
    "* On Debian 9, run the following commands for the installation of required packages:\n",
    "  ```sh\n",
    "  sudo apt-get update\n",
    "  sudo apt-get install libssl1.0.2 libasound2\n",
    "  ```\n",
    "* On Windows you need the [Microsoft Visual C++ Redistributable for Visual Studio 2017](https://support.microsoft.com/help/2977003/the-latest-supported-visual-c-downloads) for your platform.\n",
    "\n",
    "Configure a Python virtual environment for 3.10 or later: \n",
    " 1. open the Command Palette (Ctrl+Shift+P).\n",
    " 1. Search for Python: Create Environment.\n",
    " 1. select Venv / Conda and choose where to create the new environment.\n",
    " 1. Select the Python interpreter version. Create with version 3.10 or later.\n",
    "\n",
    "```bash\n",
    "pip install -r requirements.txt\n",
    "```\n",
    "\n",
    "Create an .env file based on the .env-sample file. Copy the new .env file to the folder containing your notebook and update the variables."
   ]
  },
  {
   "cell_type": "markdown",
   "metadata": {
    "vscode": {
     "languageId": "shellscript"
    }
   },
   "source": [
    "## Generate synthetic dataset with gpt-4o"
   ]
  },
  {
   "cell_type": "code",
   "execution_count": 24,
   "metadata": {},
   "outputs": [
    {
     "data": {
      "text/plain": [
       "'gpt-4o'"
      ]
     },
     "execution_count": 24,
     "metadata": {},
     "output_type": "execute_result"
    }
   ],
   "source": [
    "import azure.cognitiveservices.speech as speechsdk\n",
    "import os\n",
    "import time\n",
    "import json\n",
    "from openai import AzureOpenAI\n",
    "from dotenv import load_dotenv\n",
    "load_dotenv()\n",
    "\n",
    "speech_key = os.getenv(\"AZURE_AI_SPEECH_API_KEY\")\n",
    "speech_region = os.getenv(\"AZURE_AI_SPEECH_REGION\")\n",
    "\n",
    "aoai_api_endpoint = os.getenv(\"AZURE_OPENAI_ENDPOINT\")\n",
    "aoai_api_key = os.getenv(\"AZURE_OPENAI_API_KEY\")\n",
    "aoai_api_version = os.getenv(\"AZURE_OPENAI_API_VERSION\")\n",
    "aoai_deployment_name = os.getenv(\"AZURE_OPENAI_DEPLOYMENT_NAME\")\n",
    "\n",
    "if not aoai_api_version:\n",
    "    aoai_api_version = os.getenv(\"OPENAI_API_VERSION\")\n",
    "    \n",
    "try:\n",
    "    client = AzureOpenAI(\n",
    "        azure_endpoint = aoai_api_endpoint,\n",
    "        api_key        = aoai_api_key,\n",
    "        api_version    = aoai_api_version\n",
    "    )\n",
    "except (ValueError, TypeError) as e:\n",
    "    print(e)\n",
    "\n",
    "aoai_deployment_name"
   ]
  },
  {
   "cell_type": "code",
   "execution_count": 25,
   "metadata": {},
   "outputs": [
    {
     "name": "stdout",
     "output_type": "stream",
     "text": [
      "{\"no\": 1, \"vi-VN\": \"Trung tâm hỗ trợ của LG hoạt động vào giờ nào?\", \"en-US\": \"What are the operating hours of LG's support center?\"}\n",
      "{\"no\": 2, \"vi-VN\": \"Tôi có thể liên hệ trung tâm chăm sóc khách hàng qua kênh nào?\", \"en-US\": \"How can I contact the customer service center?\"}\n",
      "{\"no\": 3, \"vi-VN\": \"Số điện thoại của trung tâm chăm sóc khách hàng của LG là gì?\", \"en-US\": \"What is the phone number for LG's customer service?\"}\n",
      "{\"no\": 4, \"vi-VN\": \"Làm thế nào để báo cáo sự cố sản phẩm LG của tôi?\", \"en-US\": \"How can I report an issue with my LG product?\"}\n",
      "{\"no\": 5, \"vi-VN\": \"Các dịch vụ nào được cung cấp bởi trung tâm hỗ trợ của LG?\", \"en-US\": \"What services are offered by LG's support center?\"}\n",
      "{\"no\": 6, \"vi-VN\": \"Có thể nhận được hỗ trợ kỹ thuật cho sản phẩm LG của tôi qua điện thoại không?\", \"en-US\": \"Can I get technical support for my LG product over the phone?\"}\n",
      "{\"no\": 7, \"vi-VN\": \"Tôi có thể đặt lịch sửa chữa sản phẩm LG của mình qua trung tâm gọi được không?\", \"en-US\": \"Can I schedule a repair for my LG product through the call center?\"}\n",
      "{\"no\": 8, \"vi-VN\": \"Trung tâm chăm sóc khách hàng của LG có hỗ trợ ngoài giờ làm không?\", \"en-US\": \"Does LG's customer service support after-hours assistance?\"}\n",
      "{\"no\": 9, \"vi-VN\": \"Tôi cần số seri sản phẩm để nhận hỗ trợ không?\", \"en-US\": \"Do I need the product serial number to receive support?\"}\n",
      "{\"no\": 10, \"vi-VN\": \"Có thể nhận thông tin bảo hành trên sản phẩm LG của tôi qua điện thoại không?\", \"en-US\": \"Can I get warranty information for my LG product over the phone?\"}\n",
      "{\"no\": 11, \"vi-VN\": \"Tôi có thể thanh toán cho dịch vụ sửa chữa LG qua thẻ tín dụng không?\", \"en-US\": \"Can I pay for LG repair services with a credit card?\"}\n",
      "{\"no\": 12, \"vi-VN\": \"Trung tâm hỗ trợ của LG có cung cấp dịch vụ tại nhà không?\", \"en-US\": \"Does LG's support center provide home service?\"}\n",
      "{\"no\": 13, \"vi-VN\": \"Thời gian trung bình để sửa chữa sản phẩm LG là bao lâu?\", \"en-US\": \"What is the average time for repairing an LG product?\"}\n",
      "{\"no\": 14, \"vi-VN\": \"Tôi có thể nhận được thông báo trạng thái sửa chữa sản phẩm qua điện thoại không?\", \"en-US\": \"Can I receive repair status updates for my product over the phone?\"}\n",
      "{\"no\": 15, \"vi-VN\": \"Có cần mang theo hóa đơn gốc để nhận hỗ trợ sửa chữa không?\", \"en-US\": \"Is it necessary to have the original receipt to receive repair support?\"}\n",
      "{\"no\": 16, \"vi-VN\": \"Trung tâm LG có phục vụ khách hàng người khuyết tật không?\", \"en-US\": \"Does the LG center provide services for customers with disabilities?\"}\n",
      "{\"no\": 17, \"vi-VN\": \"Tôi có thể thay đổi địa chỉ sửa chữa sản phẩm LG của mình không?\", \"en-US\": \"Can I change the repair location for my LG product?\"}\n",
      "{\"no\": 18, \"vi-VN\": \"Có thể đăng ký bảo hành mở rộng cho sản phẩm LG qua điện thoại không?\", \"en-US\": \"Can I register for an extended warranty for my LG product over the phone?\"}\n",
      "{\"no\": 19, \"vi-VN\": \"LG có cung cấp hỗ trợ sản phẩm cũ đã hết hạn bảo hành không?\", \"en-US\": \"Does LG provide support for out-of-warranty older products?\"}\n",
      "{\"no\": 20, \"vi-VN\": \"Tôi có thể lấy các hướng dẫn sử dụng sản phẩm của LG bằng cách nào?\", \"en-US\": \"How can I obtain user manuals for LG products?\"}\n",
      "Usage Information:\n",
      "Completion Tokens: 925\n",
      "Prompt Tokens: 94\n",
      "Total Tokens: 1019\n"
     ]
    }
   ],
   "source": [
    "system_message = \"\"\"\n",
    "Generate plain text sentences of #topic# related text to improve the recognition of domain-specific words and phrases.\n",
    "Domain-specific words can be uncommon or made-up words, but their pronunciation must be straightforward to be recognized. \n",
    "Use text data that's close to the expected spoken utterances. The nummber of utterances per line should be 1. \n",
    "\"\"\"\n",
    "\n",
    "topic = \"\"\"\n",
    "LG electronics call center QnA related expected spoken utterances for Vietnamese and English languages.\n",
    "\"\"\"\n",
    "question = \"\"\"\n",
    "create 20 lines of jsonl of the topic in Vietnamese and english. jsonl format is required. use no as number and vi-VN, en-US keys for the languages.\n",
    "only include the lines as the result. Do not include ```jsonl, ``` and blank line in the result. \n",
    "\"\"\"\n",
    "\n",
    "user_message = f\"\"\"\n",
    "#topic#: {topic}\n",
    "Question: {question}\n",
    "\"\"\"\n",
    "\n",
    "# Simple API Call\n",
    "response = client.chat.completions.create(\n",
    "    model=aoai_deployment_name,\n",
    "    messages=[\n",
    "        {\"role\": \"user\", \"content\": user_message},\n",
    "    ],\n",
    "  \n",
    ")\n",
    "content = response.choices[0].message.content\n",
    "print(content)\n",
    "print(\"Usage Information:\")\n",
    "#print(f\"Cached Tokens: {response.usage.prompt_tokens_details.cached_tokens}\") #only o1 models support this\n",
    "print(f\"Completion Tokens: {response.usage.completion_tokens}\")\n",
    "print(f\"Prompt Tokens: {response.usage.prompt_tokens}\")\n",
    "print(f\"Total Tokens: {response.usage.total_tokens}\")"
   ]
  },
  {
   "cell_type": "code",
   "execution_count": 26,
   "metadata": {},
   "outputs": [],
   "source": [
    "with open('lg_support_expressions.jsonl', 'w', encoding='utf-8') as f:\n",
    "    f.write(content)"
   ]
  },
  {
   "cell_type": "markdown",
   "metadata": {},
   "source": [
    "## Create plain text file for training custom speech model"
   ]
  },
  {
   "cell_type": "code",
   "execution_count": null,
   "metadata": {},
   "outputs": [],
   "source": [
    "import datetime\n",
    "\n",
    "languages = ['vi-VN'] # List of languages to generate audio files\n",
    "output_dir = \"plain_text\"\n",
    "\n",
    "if not os.path.exists(output_dir):\n",
    "    os.makedirs(output_dir)\n",
    "\n",
    "with open('cc_support_expressions.jsonl', 'r', encoding='utf-8') as f:\n",
    "    for line in f:\n",
    "        try:\n",
    "            expression = json.loads(line)\n",
    "            for lang in languages:\n",
    "                text = expression[lang]\n",
    "                timestamp = datetime.datetime.now().strftime(\"%Y%m%d%H%M%S\")\n",
    "                file_name = f\"{lang}_{timestamp}.txt\"\n",
    "                with open(os.path.join(output_dir,file_name), 'a', encoding='utf-8') as plain_text:\n",
    "                    plain_text.write(f\"{text}\\n\")\n",
    "        except json.JSONDecodeError as e:\n",
    "            print(f\"Error decoding JSON on line: {line}\")\n",
    "            print(e)"
   ]
  },
  {
   "cell_type": "code",
   "execution_count": 28,
   "metadata": {},
   "outputs": [
    {
     "name": "stdout",
     "output_type": "stream",
     "text": [
      "Trung tâm hỗ trợ của LG hoạt động vào giờ nào?\n",
      "Tôi có thể liên hệ trung tâm chăm sóc khách hàng qua kênh nào?\n",
      "Số điện thoại của trung tâm chăm sóc khách hàng của LG là gì?\n",
      "Làm thế nào để báo cáo sự cố sản phẩm LG của tôi?\n",
      "Các dịch vụ nào được cung cấp bởi trung tâm hỗ trợ của LG?\n",
      "Có thể nhận được hỗ trợ kỹ thuật cho sản phẩm LG của tôi qua điện thoại không?\n",
      "Tôi có thể đặt lịch sửa chữa sản phẩm LG của mình qua trung tâm gọi được không?\n",
      "Trung tâm chăm sóc khách hàng của LG có hỗ trợ ngoài giờ làm không?\n",
      "Tôi cần số seri sản phẩm để nhận hỗ trợ không?\n",
      "Có thể nhận thông tin bảo hành trên sản phẩm LG của tôi qua điện thoại không?\n",
      "Tôi có thể thanh toán cho dịch vụ sửa chữa LG qua thẻ tín dụng không?\n",
      "Trung tâm hỗ trợ của LG có cung cấp dịch vụ tại nhà không?\n",
      "Thời gian trung bình để sửa chữa sản phẩm LG là bao lâu?\n",
      "Tôi có thể nhận được thông báo trạng thái sửa chữa sản phẩm qua điện thoại không?\n",
      "Có cần mang theo hóa đơn gốc để nhận hỗ trợ sửa chữa không?\n",
      "Trung tâm LG có phục vụ khách hàng người khuyết tật không?\n",
      "Tôi có thể thay đổi địa chỉ sửa chữa sản phẩm LG của mình không?\n",
      "Có thể đăng ký bảo hành mở rộng cho sản phẩm LG qua điện thoại không?\n",
      "LG có cung cấp hỗ trợ sản phẩm cũ đã hết hạn bảo hành không?\n",
      "Tôi có thể lấy các hướng dẫn sử dụng sản phẩm của LG bằng cách nào?\n",
      "\n"
     ]
    }
   ],
   "source": [
    "output_dir = \"plain_text\"  # Redefine output_dir if necessary\n",
    "\n",
    "with open(os.path.join(output_dir, file_name), 'r', encoding='utf-8') as file:\n",
    "    content = file.read()\n",
    "    print(content)"
   ]
  },
  {
   "cell_type": "code",
   "execution_count": null,
   "metadata": {},
   "outputs": [],
   "source": []
  }
 ],
 "metadata": {
  "kernelspec": {
   "display_name": "py311",
   "language": "python",
   "name": "python3"
  },
  "language_info": {
   "codemirror_mode": {
    "name": "ipython",
    "version": 3
   },
   "file_extension": ".py",
   "mimetype": "text/x-python",
   "name": "python",
   "nbconvert_exporter": "python",
   "pygments_lexer": "ipython3",
   "version": "3.11.10"
  }
 },
 "nbformat": 4,
 "nbformat_minor": 2
}
