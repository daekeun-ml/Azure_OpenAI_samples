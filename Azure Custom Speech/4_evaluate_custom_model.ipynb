{
 "cells": [
  {
   "cell_type": "markdown",
   "metadata": {},
   "source": [
    "# [Eval] Evaluate Trained Custom Speech Models\n",
    "This sample demonstrates how to evaluate Trained Custom Speech models calling REST API. \n",
    "\n",
    "> ✨ ***Note*** <br>\n",
    "> You can test the accuracy of your custom model by creating a test. A test requires a collection of audio files and their corresponding transcriptions. You can compare a custom model's accuracy with a speech to text base model or another custom model. After you get the test results, evaluate the word error rate (WER) compared to speech recognition results. \n",
    "\n",
    "## Prerequisites\n",
    "Configure a Python virtual environment for 3.10 or later: \n",
    " 1. open the Command Palette (Ctrl+Shift+P).\n",
    " 1. Search for Python: Create Environment.\n",
    " 1. select Venv / Conda and choose where to create the new environment.\n",
    " 1. Select the Python interpreter version. Create with version 3.10 or later.\n"
   ]
  },
  {
   "cell_type": "markdown",
   "metadata": {
    "vscode": {
     "languageId": "shellscript"
    }
   },
   "source": [
    "## Setup the environment"
   ]
  },
  {
   "cell_type": "code",
   "execution_count": 1,
   "metadata": {},
   "outputs": [
    {
     "name": "stdout",
     "output_type": "stream",
     "text": [
      "ab2e8525-f951-4ce4-b44d-fef7c9aebf3e 91733b7e-312a-4273-9877-dafcbc0991d9 9b4dbbf0-4898-49d8-875e-e67cb7932b75\n"
     ]
    }
   ],
   "source": [
    "import azure.cognitiveservices.speech as speechsdk\n",
    "import os\n",
    "import json\n",
    "from openai import AzureOpenAI\n",
    "import requests\n",
    "from dotenv import load_dotenv\n",
    "from utils.common import *\n",
    "import requests\n",
    "import time\n",
    "import json\n",
    "from azure.storage.blob import BlobServiceClient, BlobClient, ContainerClient, generate_blob_sas, BlobSasPermissions\n",
    "import os\n",
    "import datetime\n",
    "from tqdm import tqdm\n",
    "import pandas as pd\n",
    "from IPython.display import display, HTML\n",
    "\n",
    "load_dotenv()\n",
    "\n",
    "SPEECH_KEY = os.getenv(\"AZURE_AI_SPEECH_API_KEY\")\n",
    "SPEECH_REGION = os.getenv(\"AZURE_AI_SPEECH_REGION\")\n",
    "CUSTOM_SPEECH_LANG = os.getenv(\"CUSTOM_SPEECH_LANG\")\n",
    "CUSTOM_SPEECH_LOCALE = os.getenv(\"CUSTOM_SPEECH_LOCALE\")\n",
    "\n",
    "# Get the project and custom model IDs from the previous notebook\n",
    "project_id = \"\"\n",
    "custom_model_with_plain_id = \"\"\n",
    "custom_model_with_acoustic_id = \"\"\n",
    "%store -r project_id\n",
    "%store -r custom_model_with_plain_id\n",
    "%store -r custom_model_with_acoustic_id\n",
    "\n",
    "try:\n",
    "    project_id, custom_model_with_plain_id, custom_model_with_acoustic_id\n",
    "except NameError:\n",
    "    print(\"++++++++++++++++++++++++++++++++++++++++++++++++++++++++++++++++++++++++\")\n",
    "    print(\"[ERROR] Please run the previous notebook again.\")\n",
    "    print(\"++++++++++++++++++++++++++++++++++++++++++++++++++++++++++++++++++++++++\")\n",
    "\n",
    "print(project_id, custom_model_with_plain_id, custom_model_with_acoustic_id)"
   ]
  },
  {
   "cell_type": "markdown",
   "metadata": {},
   "source": [
    "## 1. Test based speech models\n",
    "- In order to learn how to quantitatively measure and improve the accuracy of the base speech to text model or your own custom models check this link\n",
    "- https://learn.microsoft.com/en-us/azure/ai-services/speech-service/how-to-custom-speech-evaluate-data?pivots=speech-cli#create-a-test"
   ]
  },
  {
   "cell_type": "markdown",
   "metadata": {},
   "source": [
    "To evaluate the word error rate (WER) of a base model in Azure AI’s Speech service, follow these steps:\n",
    "\n",
    "Sign in to the Speech Studio:\n",
    "Go to the Azure Speech Studio.\n",
    "Create a Test:\n",
    "Navigate to Custom speech and select your project.\n",
    "Go to Test models and click on Create new test.\n",
    "Select Evaluate accuracy and click Next.\n",
    "Choose an audio + human-labeled transcription dataset. If you don’t have any datasets, upload them in the Speech datasets menu.\n",
    "Select up to two models to evaluate, then click Next.\n",
    "Enter the test name and description, then click Next.\n",
    "Review the test details and click Save and close.\n",
    "Get Test Results:\n",
    "After the test is complete, indicated by the status set to Succeeded, you will see the results, including the WER for each tested model.\n",
    "Evaluate WER:\n",
    "WER is calculated as the sum of insertion, deletion, and substitution errors divided by the total number of words in the reference transcript, multiplied by 100 to get a percentage1.\n",
    "For more detailed instructions, you can refer to this link - https://learn.microsoft.com/en-us/azure/ai-services/speech-service/how-to-custom-speech-evaluate-data?pivots=rest-api.\n"
   ]
  },
  {
   "cell_type": "code",
   "execution_count": 2,
   "metadata": {},
   "outputs": [],
   "source": [
    "# Base URL for the Speech Services REST API\n",
    "base_url = f'https://{SPEECH_REGION}.api.cognitive.microsoft.com/speechtotext'\n",
    "\n",
    "# Headers for authentication\n",
    "headers = {\n",
    "    'Ocp-Apim-Subscription-Key': SPEECH_KEY,\n",
    "    'Content-Type': 'application/json'\n",
    "}"
   ]
  },
  {
   "cell_type": "markdown",
   "metadata": {},
   "source": [
    "### Check the custom speech model ids to evaluate"
   ]
  },
  {
   "cell_type": "code",
   "execution_count": 3,
   "metadata": {},
   "outputs": [
    {
     "name": "stdout",
     "output_type": "stream",
     "text": [
      "Latest model supporting 'Language' adaptations:\n",
      "{'self': 'https://swedencentral.api.cognitive.microsoft.com/speechtotext/v3.2/models/base/2e5e70f1-960b-4509-a7c5-102b29227c0b', 'links': {'manifest': 'https://swedencentral.api.cognitive.microsoft.com/speechtotext/v3.2/models/base/2e5e70f1-960b-4509-a7c5-102b29227c0b/manifest'}, 'properties': {'deprecationDates': {'adaptationDateTime': '2025-04-15T00:00:00Z', 'transcriptionDateTime': '2025-04-15T00:00:00Z'}, 'features': {'supportsTranscriptions': True, 'supportsEndpoints': True, 'supportsTranscriptionsOnSpeechContainers': False, 'supportsAdaptationsWith': ['Language', 'LanguageMarkdown', 'Pronunciation', 'OutputFormatting'], 'supportedOutputFormats': ['Display', 'Lexical']}, 'chargeForAdaptation': False}, 'lastActionDateTime': '2023-02-06T10:32:49Z', 'status': 'Succeeded', 'createdDateTime': '2023-02-06T10:01:46Z', 'locale': 'it-IT', 'displayName': '20230111', 'description': 'it-IT base model'}\n"
     ]
    }
   ],
   "source": [
    "#option1. check the model id from the train a new model (UI) in the Azure Speech Studio. \n",
    "base_model_id = \"8066b5fb-0114-4837-90b6-0c245928a896\"  # Vietnamese base model id\n",
    "\n",
    "#option2. check the model id from the API call\n",
    "base_model = get_latest_base_model(base_url, headers, f\"locale eq '{CUSTOM_SPEECH_LOCALE}' and status eq 'Succeeded'\")\n",
    "\n",
    "# Filter the base models to find the ones that support 'Language' adaptations and have the latest lastActionDateTime\n",
    "filtered_models = [model for model in base_model['values'] if 'properties' in model and 'Language' in model['properties']['features'].get('supportsAdaptationsWith', [])]\n",
    "if filtered_models:\n",
    "\tlatest_model = max(filtered_models, key=lambda x: x['createdDateTime'])\n",
    "\tprint(\"Latest model supporting 'Language' adaptations:\")\n",
    "\tprint(latest_model)\n",
    "else:\n",
    "\tprint(\"No models found that support 'Language' adaptations.\")\n",
    "\n",
    "# Get the latest model ID from the self link for example 8066b5fb-0114-4837-90b6-0c245928a896 is the model id in 'https://swedencentral.api.cognitive.microsoft.com/speechtotext/v3.2/models/base/8066b5fb-0114-4837-90b6-0c245928a896' \n",
    "base_model_id = latest_model['self'].split('/')[-1]"
   ]
  },
  {
   "cell_type": "code",
   "execution_count": 4,
   "metadata": {},
   "outputs": [
    {
     "name": "stdout",
     "output_type": "stream",
     "text": [
      "Latest base model id: 2e5e70f1-960b-4509-a7c5-102b29227c0b\n",
      "custom_model_with_plain_id:  91733b7e-312a-4273-9877-dafcbc0991d9\n",
      "custom_model_with_acoustic_id:  9b4dbbf0-4898-49d8-875e-e67cb7932b75\n"
     ]
    }
   ],
   "source": [
    "# check the model id from the train a new model (UI) in the Azure Speech Studio. \n",
    "# The base model ids are vary from each language \n",
    "print(\"Latest base model id:\", base_model_id)\n",
    "print(\"custom_model_with_plain_id: \", custom_model_with_plain_id)\n",
    "print(\"custom_model_with_acoustic_id: \", custom_model_with_acoustic_id)"
   ]
  },
  {
   "cell_type": "markdown",
   "metadata": {},
   "source": [
    "### Upload zip files to a storage account and generate content urls"
   ]
  },
  {
   "cell_type": "code",
   "execution_count": 5,
   "metadata": {},
   "outputs": [
    {
     "name": "stdout",
     "output_type": "stream",
     "text": [
      "Files uploaded successfully.\n",
      "uploaded_files: ['eval_it-IT_20241211105546']\n",
      "url: {'eval_it-IT_20241211105546': 'https://aoaihub1storageaccount.blob.core.windows.net/stt-container/eval_it-IT_20241211105546.zip?se=2024-12-11T19%3A20%3A27Z&sp=r&sv=2025-01-05&sr=b&sig=pXVe8f0BTX5/TndJUo%2BCiDtB6KobZbA5n7CsRQ81YD0%3D'}\n"
     ]
    }
   ],
   "source": [
    "data_folder = \"eval_dataset\"\n",
    "account_name = os.getenv(\"AZURE_STORAGE_ACCOUNT_NAME\")\n",
    "account_key = os.getenv(\"AZURE_STORAGE_ACCOUNT_KEY\")\n",
    "container_name = os.getenv(\"AZURE_STORAGE_CONTAINER_NAME\")\n",
    "\n",
    "uploaded_files, url = upload_dataset_to_storage(data_folder, container_name, account_name, account_key)"
   ]
  },
  {
   "cell_type": "code",
   "execution_count": 6,
   "metadata": {},
   "outputs": [
    {
     "data": {
      "text/plain": [
       "['eval_it-IT_20241211105546']"
      ]
     },
     "execution_count": 6,
     "metadata": {},
     "output_type": "execute_result"
    }
   ],
   "source": [
    "uploaded_files"
   ]
  },
  {
   "cell_type": "markdown",
   "metadata": {},
   "source": [
    "### Create datasets for evaluation"
   ]
  },
  {
   "cell_type": "code",
   "execution_count": 7,
   "metadata": {},
   "outputs": [
    {
     "name": "stdout",
     "output_type": "stream",
     "text": [
      "Dataset created with ID: b03a17fa-c29c-4164-a373-9ad66279a0bd\n"
     ]
    }
   ],
   "source": [
    "kind=\"Acoustic\"\n",
    "description = f\"[eval] Dataset for evaluation the {CUSTOM_SPEECH_LANG} base model\"\n",
    "dataset_ids = {}\n",
    "\n",
    "for display_name in uploaded_files:\n",
    "    dataset_ids[display_name] = create_dataset(base_url, headers, project_id, url[display_name], kind, display_name, description, CUSTOM_SPEECH_LOCALE)"
   ]
  },
  {
   "cell_type": "markdown",
   "metadata": {},
   "source": [
    "### Test accuracy of the trained Custom Speech model creating evaluations (tests)"
   ]
  },
  {
   "cell_type": "code",
   "execution_count": 8,
   "metadata": {},
   "outputs": [
    {
     "name": "stdout",
     "output_type": "stream",
     "text": [
      "https://swedencentral.api.cognitive.microsoft.com/speechtotext/v3.2/evaluations\n",
      "ab2e8525-f951-4ce4-b44d-fef7c9aebf3e b03a17fa-c29c-4164-a373-9ad66279a0bd 2e5e70f1-960b-4509-a7c5-102b29227c0b 9b4dbbf0-4898-49d8-875e-e67cb7932b75\n",
      "{'model1': {'self': 'https://swedencentral.api.cognitive.microsoft.com/speechtotext/v3.2/models/2e5e70f1-960b-4509-a7c5-102b29227c0b'}, 'model2': {'self': 'https://swedencentral.api.cognitive.microsoft.com/speechtotext/v3.2/models/9b4dbbf0-4898-49d8-875e-e67cb7932b75'}, 'dataset': {'self': 'https://swedencentral.api.cognitive.microsoft.com/speechtotext/v3.2/datasets/b03a17fa-c29c-4164-a373-9ad66279a0bd'}, 'project': {'self': 'https://swedencentral.api.cognitive.microsoft.com/speechtotext/v3.2/projects/ab2e8525-f951-4ce4-b44d-fef7c9aebf3e'}, 'displayName': 'vi_eval_base_vs_custom_eval_it-IT_20241211105546', 'description': '[it-IT] Evaluation of the Italian base and custom model', 'locale': 'it-IT'}\n",
      "Evaluation job created with ID: 19d4f0b8-ced1-4008-bd52-c6e91e849c23\n"
     ]
    }
   ],
   "source": [
    "description = f\"[{CUSTOM_SPEECH_LOCALE}] Evaluation of the {CUSTOM_SPEECH_LANG} base and custom model\"\n",
    "evaluation_ids={}\n",
    "for display_name in uploaded_files:\n",
    "    evaluation_ids[display_name] = create_evaluation(base_url, headers, project_id, dataset_ids[display_name], base_model_id, custom_model_with_acoustic_id, f'vi_eval_base_vs_custom_{display_name}', description, CUSTOM_SPEECH_LOCALE)"
   ]
  },
  {
   "cell_type": "code",
   "execution_count": 9,
   "metadata": {},
   "outputs": [],
   "source": [
    "# Monitor the status of the run_result\n",
    "def monitor_evaluation_status(evaluation_id):\n",
    "    with tqdm(total=3, desc=\"Running Status\", unit=\"step\") as pbar:\n",
    "        status = get_evaluation_status(base_url, headers, evaluation_id)\n",
    "        if status == \"NotStarted\":\n",
    "            pbar.update(1)\n",
    "        while status != \"Succeeded\" and status != \"Failed\":\n",
    "            if status == \"Running\" and pbar.n < 2:\n",
    "                pbar.update(1)\n",
    "            print(f\"Current Status: {status}\")\n",
    "            time.sleep(10)\n",
    "            status = get_evaluation_status(base_url, headers, evaluation_id)\n",
    "        while(pbar.n < 3):\n",
    "            pbar.update(1)\n",
    "        print(\"Evaluation Completed\")"
   ]
  },
  {
   "cell_type": "code",
   "execution_count": 10,
   "metadata": {},
   "outputs": [
    {
     "name": "stderr",
     "output_type": "stream",
     "text": [
      "Running Status:   0%|          | 0/3 [00:00<?, ?step/s]"
     ]
    },
    {
     "name": "stdout",
     "output_type": "stream",
     "text": [
      "Current Status: NotStarted\n",
      "Current Status: NotStarted\n",
      "Current Status: NotStarted\n",
      "Current Status: NotStarted\n",
      "Current Status: NotStarted\n",
      "Current Status: NotStarted\n"
     ]
    },
    {
     "name": "stderr",
     "output_type": "stream",
     "text": [
      "Running Status:  67%|██████▋   | 2/3 [01:00<00:30, 30.13s/step]"
     ]
    },
    {
     "name": "stdout",
     "output_type": "stream",
     "text": [
      "Current Status: Running\n"
     ]
    },
    {
     "name": "stderr",
     "output_type": "stream",
     "text": [
      "Running Status: 100%|██████████| 3/3 [01:10<00:00, 23.44s/step]"
     ]
    },
    {
     "name": "stdout",
     "output_type": "stream",
     "text": [
      "Evaluation Completed\n"
     ]
    },
    {
     "name": "stderr",
     "output_type": "stream",
     "text": [
      "\n"
     ]
    }
   ],
   "source": [
    "for display_name in uploaded_files:\n",
    "    monitor_evaluation_status(evaluation_ids[display_name])"
   ]
  },
  {
   "cell_type": "code",
   "execution_count": 11,
   "metadata": {},
   "outputs": [
    {
     "name": "stdout",
     "output_type": "stream",
     "text": [
      "{'self': 'https://swedencentral.api.cognitive.microsoft.com/speechtotext/v3.2/evaluations/19d4f0b8-ced1-4008-bd52-c6e91e849c23', 'model1': {'self': 'https://swedencentral.api.cognitive.microsoft.com/speechtotext/v3.2/models/base/2e5e70f1-960b-4509-a7c5-102b29227c0b'}, 'model2': {'self': 'https://swedencentral.api.cognitive.microsoft.com/speechtotext/v3.2/models/9b4dbbf0-4898-49d8-875e-e67cb7932b75'}, 'dataset': {'self': 'https://swedencentral.api.cognitive.microsoft.com/speechtotext/v3.2/datasets/b03a17fa-c29c-4164-a373-9ad66279a0bd'}, 'transcription2': {'self': 'https://swedencentral.api.cognitive.microsoft.com/speechtotext/v3.2/transcriptions/86735d6f-eb6a-497f-a33b-9b96b6e9ea63'}, 'transcription1': {'self': 'https://swedencentral.api.cognitive.microsoft.com/speechtotext/v3.2/transcriptions/d9b6e5a0-4f17-43fc-a3e8-225dc9ce16c0'}, 'project': {'self': 'https://swedencentral.api.cognitive.microsoft.com/speechtotext/v3.2/projects/ab2e8525-f951-4ce4-b44d-fef7c9aebf3e'}, 'links': {'files': 'https://swedencentral.api.cognitive.microsoft.com/speechtotext/v3.2/evaluations/19d4f0b8-ced1-4008-bd52-c6e91e849c23/files'}, 'properties': {'wordErrorRate1': 0.01, 'sentenceErrorRate1': 0.1, 'tokenErrorRate1': 0.11, 'sentenceCount1': 10, 'wordCount1': 100, 'correctWordCount1': 99, 'wordSubstitutionCount1': 1, 'wordDeletionCount1': 0, 'wordInsertionCount1': 0, 'tokenCount1': 100, 'correctTokenCount1': 89, 'tokenSubstitutionCount1': 11, 'tokenDeletionCount1': 0, 'tokenInsertionCount1': 0, 'tokenErrors1': {'punctuation': {'numberOfEdits': 0, 'percentageOfAllEdits': 0.0}, 'capitalization': {'numberOfEdits': 10, 'percentageOfAllEdits': 90.91}, 'inverseTextNormalization': {'numberOfEdits': 0, 'percentageOfAllEdits': 0.0}, 'lexical': {'numberOfEdits': 0, 'percentageOfAllEdits': 0.0}, 'others': {'numberOfEdits': 1, 'percentageOfAllEdits': 9.09}}, 'wordErrorRate2': 0.01, 'sentenceErrorRate2': 0.1, 'tokenErrorRate2': 0.11, 'sentenceCount2': 10, 'wordCount2': 100, 'correctWordCount2': 99, 'wordSubstitutionCount2': 1, 'wordDeletionCount2': 0, 'wordInsertionCount2': 0, 'tokenCount2': 100, 'correctTokenCount2': 89, 'tokenSubstitutionCount2': 11, 'tokenDeletionCount2': 0, 'tokenInsertionCount2': 0, 'tokenErrors2': {'punctuation': {'numberOfEdits': 0, 'percentageOfAllEdits': 0.0}, 'capitalization': {'numberOfEdits': 10, 'percentageOfAllEdits': 90.91}, 'inverseTextNormalization': {'numberOfEdits': 0, 'percentageOfAllEdits': 0.0}, 'lexical': {'numberOfEdits': 0, 'percentageOfAllEdits': 0.0}, 'others': {'numberOfEdits': 1, 'percentageOfAllEdits': 9.09}}}, 'lastActionDateTime': '2024-12-11T11:21:45Z', 'status': 'Succeeded', 'createdDateTime': '2024-12-11T11:20:36Z', 'locale': 'it-IT', 'displayName': 'vi_eval_base_vs_custom_eval_it-IT_20241211105546', 'description': '[it-IT] Evaluation of the Italian base and custom model'}\n",
      "Evaluation Results for base model and custom model: eval_it-IT_20241211105546 \n",
      "                     Dataset  WER_base_model  WER_custom_model\n",
      "0  eval_it-IT_20241211105546            0.01              0.01\n"
     ]
    }
   ],
   "source": [
    "# Collect WER results for each dataset\n",
    "wer_results = []\n",
    "eval_title = \"Evaluation Results for base model and custom model: \"\n",
    "for display_name in uploaded_files:\n",
    "    eval_info = get_evaluation_results(base_url, headers, evaluation_ids[display_name])\n",
    "    eval_title = eval_title + display_name + \" \"\n",
    "    wer_results.append({\n",
    "            'Dataset': display_name,\n",
    "            'WER_base_model': eval_info['properties']['wordErrorRate1'],\n",
    "            'WER_custom_model': eval_info['properties']['wordErrorRate2'],\n",
    "            \n",
    "    })\n",
    "# Create a DataFrame to display the results\n",
    "print(eval_info)\n",
    "wer_df = pd.DataFrame(wer_results)\n",
    "print(eval_title)\n",
    "print(wer_df)"
   ]
  },
  {
   "cell_type": "code",
   "execution_count": null,
   "metadata": {},
   "outputs": [
    {
     "name": "stdout",
     "output_type": "stream",
     "text": [
      "Evaluation eval_it-IT_20241211105546 Scoring results\n",
      "=====================================\n"
     ]
    }
   ],
   "source": [
    "# Create a markdown file for table scoring results\n",
    "md_table_scoring_result(base_url, headers, evaluation_ids, uploaded_files)"
   ]
  },
  {
   "cell_type": "code",
   "execution_count": null,
   "metadata": {},
   "outputs": [],
   "source": []
  },
  {
   "cell_type": "markdown",
   "metadata": {},
   "source": []
  }
 ],
 "metadata": {
  "kernelspec": {
   "display_name": ".venv",
   "language": "python",
   "name": "python3"
  },
  "language_info": {
   "codemirror_mode": {
    "name": "ipython",
    "version": 3
   },
   "file_extension": ".py",
   "mimetype": "text/x-python",
   "name": "python",
   "nbconvert_exporter": "python",
   "pygments_lexer": "ipython3",
   "version": "3.10.15"
  }
 },
 "nbformat": 4,
 "nbformat_minor": 2
}
